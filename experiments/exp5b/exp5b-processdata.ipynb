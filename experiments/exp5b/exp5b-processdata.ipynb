{
 "cells": [
  {
   "cell_type": "markdown",
   "metadata": {},
   "source": [
    "# Perceptual Control B - Process Data\n",
    "\n",
    "Note: this includes the logic for updating the database for excluded participants"
   ]
  },
  {
   "cell_type": "code",
   "execution_count": 1,
   "metadata": {},
   "outputs": [],
   "source": [
    "import urllib.request\n",
    "from functools import lru_cache\n",
    "import datetime\n",
    "import csv, json\n",
    "import pandas as pd\n",
    "import numpy as np\n",
    "import matplotlib.pyplot as plt\n",
    "\n",
    "from msdm.domains import GridWorld\n",
    "from msdm.algorithms import PolicyIteration\n",
    "from vgc_project import gridutils, sampsat"
   ]
  },
  {
   "cell_type": "code",
   "execution_count": 2,
   "metadata": {},
   "outputs": [],
   "source": [
    "# load experiment parameters\n",
    "expConfig = json.load(open(\"config.json\", 'r'))\n",
    "EXPERIMENT_CODE_VERSION = expConfig['params']['EXPERIMENT_CODE_VERSION']\n",
    "cond1 = expConfig['timelines'][0]\n",
    "basegrids = json.load(open(\"../mazes/mazes_0-11.json\", \"r\"))\n",
    "\n",
    "CREDENTIALS = json.load(open(\"../credentials.json\", 'r'))\n",
    "EXPURL = CREDENTIALS[\"EXPURL\"]\n",
    "USERNAME = CREDENTIALS[\"USERNAME\"]\n",
    "PASSWORD = CREDENTIALS[\"PASSWORD\"]\n",
    "print(\"Credentials:\")\n",
    "print(CREDENTIALS)\n",
    "\n",
    "DESTDIR = \"./data/\"\n",
    "if not os.path.exists(DESTDIR):\n",
    "    os.mkdir(DESTDIR)\n",
    "sourcedest = [\n",
    "    (f\"data/{EXPERIMENT_CODE_VERSION}/trialdata\", DESTDIR+\"rawtrialdata.csv\"),\n",
    "    (f\"data/{EXPERIMENT_CODE_VERSION}/questiondata\", DESTDIR+\"rawquestiondata.csv\"),\n",
    "    (f\"data/{EXPERIMENT_CODE_VERSION}/bonusdata\", DESTDIR+\"rawbonusdata.csv\"),\n",
    "    (f\"data/{EXPERIMENT_CODE_VERSION}/conditiondata\", DESTDIR+\"rawconditiondata.csv\")\n",
    "]\n",
    "\n",
    "password_mgr = urllib.request.HTTPPasswordMgrWithDefaultRealm()\n",
    "password_mgr.add_password(None, EXPURL, USERNAME, PASSWORD)\n",
    "handler = urllib.request.HTTPBasicAuthHandler(password_mgr)"
   ]
  },
  {
   "cell_type": "code",
   "execution_count": 3,
   "metadata": {},
   "outputs": [],
   "source": [
    "for SOURCE, DEST in sourcedest:\n",
    "    opener = urllib.request.build_opener(handler)\n",
    "    opener.open(EXPURL+SOURCE)\n",
    "    urllib.request.install_opener(opener)\n",
    "    urllib.request.urlretrieve(EXPURL+SOURCE, DEST)   "
   ]
  },
  {
   "cell_type": "code",
   "execution_count": 4,
   "metadata": {},
   "outputs": [],
   "source": [
    "csv.field_size_limit(sys.maxsize)\n",
    "trialdata = [line for line in csv.reader(open(sourcedest[0][1], 'r'))]\n",
    "questiondata = [line for line in csv.reader(open(sourcedest[1][1], 'r'))]\n",
    "bonusdata = [line for line in csv.reader(open(sourcedest[2][1], 'r'))]\n",
    "conditiondata = [line for line in csv.reader(open(sourcedest[3][1], 'r'))]"
   ]
  },
  {
   "cell_type": "code",
   "execution_count": 5,
   "metadata": {},
   "outputs": [],
   "source": [
    "psiturk_conditions = pd.DataFrame(conditiondata, columns=['psiturk_id', 'condition'])"
   ]
  },
  {
   "cell_type": "code",
   "execution_count": 6,
   "metadata": {},
   "outputs": [],
   "source": [
    "trials = []\n",
    "errors = []\n",
    "for psiturk_id, idx, datetime_ms, entry in trialdata:\n",
    "    if \"debug\" in psiturk_id:\n",
    "        continue\n",
    "    datetime_ms = datetime.datetime.fromtimestamp(float(datetime_ms)/1000.)\n",
    "    idx = int(idx)\n",
    "    entry = json.loads(entry)\n",
    "    try:\n",
    "        assert idx == entry['trial_index']\n",
    "    except AssertionError as e :\n",
    "        errors.append((e, psiturk_id, idx, datetime_ms, entry))\n",
    "    trials.append({\n",
    "        \"psiturk_id\": psiturk_id,\n",
    "        \"idx\": idx,\n",
    "        \"datetime_ms\": datetime_ms,\n",
    "        \"data\": entry.get(\"data\", None),\n",
    "        \"trial_type\": entry['trial_type'],\n",
    "        \"time_elapsed\": entry['time_elapsed'],\n",
    "        \"internal_node_id\": float(entry[\"internal_node_id\"].split(\"-\")[1])\n",
    "    })\n",
    "trials = pd.DataFrame(trials)\n",
    "trials = trials[trials.psiturk_id.apply(lambda p: \"debug\" not in p)]"
   ]
  },
  {
   "cell_type": "code",
   "execution_count": 7,
   "metadata": {},
   "outputs": [
    {
     "name": "stdout",
     "output_type": "stream",
     "text": [
      "144.0    89\n",
      "104.0    84\n",
      "12.0      7\n",
      "5.0       6\n",
      "4.0       2\n",
      "11.0      1\n",
      "Name: internal_node_id, dtype: int64\n"
     ]
    }
   ],
   "source": [
    "print(trials.groupby('psiturk_id')['internal_node_id'].max().value_counts())"
   ]
  },
  {
   "cell_type": "code",
   "execution_count": 8,
   "metadata": {},
   "outputs": [],
   "source": [
    "#dot trials\n",
    "dot_trials = trials[(trials.trial_type == \"GridWatchDot\")]\n",
    "dot_trials = dot_trials[(dot_trials.data.apply(lambda d: d['trialparams']['roundtype'] != \"practice\"))]\n",
    "dot_trials = pd.concat([\n",
    "    pd.DataFrame({\n",
    "        \"psiturk_id\": dot_trials.psiturk_id,\n",
    "    }).reset_index(drop=True),\n",
    "    pd.DataFrame(list(dot_trials.data.apply(lambda d: {**d['trialparams'], **{k: v for k, v in d.items() if k not in ['trialparams', 'taskparams']}}).values))\n",
    "], axis=1)\n",
    "dot_trials['dot_duration_ms'] = dot_trials['dotAppearances'].apply(lambda da: da[0]['duration_ms'] if da else float('NaN'))\n",
    "dot_trials = dot_trials[['original_gridname', 'original_sessionId', 'psiturk_id', 'sessionId', 'TRIAL_DURATION_MS', 'is_yoked', 'hasDot', 'grid', \n",
    "                         'transform', 'round', 'dotCatches', 'dotMisfires', 'dot_duration_ms']].reset_index(drop=True)\n",
    "dot_trials.hasDot = dot_trials.hasDot.fillna(False)\n",
    "dot_trials['correct'] = dot_trials.apply(lambda r: bool(r['dotCatches']) if r['hasDot'] else (r['dotMisfires'] == 0), axis=1)\n",
    "dot_trials['bonus'] = dot_trials['correct']*.02\n",
    "bonusdf = dot_trials[['psiturk_id', 'bonus']].reset_index(drop=True)"
   ]
  },
  {
   "cell_type": "code",
   "execution_count": 9,
   "metadata": {},
   "outputs": [
    {
     "data": {
      "text/plain": [
       "mean      0.832370\n",
       "median    0.833333\n",
       "sem       0.012836\n",
       "Name: dotCatches, dtype: float64"
      ]
     },
     "metadata": {},
     "output_type": "display_data"
    },
    {
     "data": {
      "text/plain": [
       "(0.0, 1.0)"
      ]
     },
     "execution_count": 9,
     "metadata": {},
     "output_type": "execute_result"
    },
    {
     "data": {
      "image/png": "[encoded data removed]",
      "text/plain": [
       "<Figure size 432x288 with 1 Axes>"
      ]
     },
     "metadata": {
      "needs_background": "light"
     },
     "output_type": "display_data"
    }
   ],
   "source": [
    "g = dot_trials[dot_trials['hasDot']].groupby(\"sessionId\")['dotCatches'].mean().hist()\n",
    "display(dot_trials[dot_trials['hasDot']].groupby(\"sessionId\")['dotCatches'].mean().agg(['mean', 'median', 'sem']))\n",
    "g.set_xlim(0, 1)"
   ]
  },
  {
   "cell_type": "code",
   "execution_count": 10,
   "metadata": {},
   "outputs": [
    {
     "data": {
      "text/plain": [
       "mean      0.100193\n",
       "median    0.000000\n",
       "sem       0.012762\n",
       "Name: dotMisfires, dtype: float64"
      ]
     },
     "metadata": {},
     "output_type": "display_data"
    },
    {
     "data": {
      "text/plain": [
       "(0.0, 1.0)"
      ]
     },
     "execution_count": 10,
     "metadata": {},
     "output_type": "execute_result"
    },
    {
     "data": {
      "image/png": "[encoded data removed]",
      "text/plain": [
       "<Figure size 432x288 with 1 Axes>"
      ]
     },
     "metadata": {
      "needs_background": "light"
     },
     "output_type": "display_data"
    }
   ],
   "source": [
    "g = dot_trials[~dot_trials['hasDot']].groupby(\"sessionId\")['dotMisfires'].apply(lambda dm: np.mean(dm > 0)).hist()\n",
    "display(dot_trials[~dot_trials['hasDot']].groupby(\"sessionId\")['dotMisfires'].apply(lambda dm: np.mean(dm > 0)).agg(['mean', 'median', 'sem']))\n",
    "g.set_xlim(0, 1)"
   ]
  },
  {
   "cell_type": "code",
   "execution_count": 11,
   "metadata": {},
   "outputs": [],
   "source": [
    "# dot_trials[dot_trials['hasDot']].groupby(\"sessionId\")['dotMisfires'].apply(lambda dm: np.mean(dm > 0))"
   ]
  },
  {
   "cell_type": "code",
   "execution_count": 12,
   "metadata": {},
   "outputs": [
    {
     "data": {
      "text/plain": [
       "<AxesSubplot:xlabel='dot_duration_ms', ylabel='correct'>"
      ]
     },
     "execution_count": 12,
     "metadata": {},
     "output_type": "execute_result"
    },
    {
     "data": {
      "image/png": "[encoded data removed]",
      "text/plain": [
       "<Figure size 432x288 with 1 Axes>"
      ]
     },
     "metadata": {
      "needs_background": "light"
     },
     "output_type": "display_data"
    }
   ],
   "source": [
    "import seaborn as sns\n",
    "sns.scatterplot(data=dot_trials[dot_trials.hasDot], x='dot_duration_ms', y='correct', alpha=.4)"
   ]
  },
  {
   "cell_type": "code",
   "execution_count": 13,
   "metadata": {},
   "outputs": [],
   "source": [
    "original_sids = dot_trials[dot_trials['original_sessionId'].\\\n",
    "    apply(lambda sid: isinstance(sid, str))][['original_sessionId', 'sessionId', 'grid', 'round']].\\\n",
    "    reset_index(drop=True)"
   ]
  },
  {
   "cell_type": "code",
   "execution_count": 14,
   "metadata": {},
   "outputs": [],
   "source": [
    "#awareness trials\n",
    "attn_trials = trials[(trials.trial_type == \"GridBlockAttentionQuery\")]\n",
    "attn_trials = pd.concat([\n",
    "    pd.DataFrame({\n",
    "        \"psiturk_id\": attn_trials.psiturk_id,\n",
    "    }).reset_index(drop=True),\n",
    "    pd.DataFrame(list(attn_trials.data.values))\n",
    "], axis=1)\n",
    "attn_trials['attn_resp'] = attn_trials['response'].apply(int)\n",
    "attn_trials['attn_resp_N'] = (attn_trials['attn_resp'] - 1)/(8 - 1)\n",
    "attn_trials['rt'] = attn_trials['responsetime'] - attn_trials['starttime']\n",
    "attn_trials['obstacle'] = attn_trials['probeobs']\n",
    "attn_trials['transform'] = attn_trials.navtrialparams.apply(lambda tp: tp['transform'])\n",
    "attn_trials['grid'] = attn_trials.navtrialparams.apply(lambda tp: tp['grid'])\n",
    "attn_trials = attn_trials[['psiturk_id', 'sessionId', 'grid', 'transform', 'round', 'starttime', 'responsetime',\n",
    "                           'queryround', 'obstacle', 'rt', 'attn_resp', 'attn_resp_N']].reset_index(drop=True)\n",
    "attn_trials = attn_trials.merge(original_sids, on=['sessionId', 'round', 'grid'], how='left')\n",
    "round_count = attn_trials.groupby(['psiturk_id', 'sessionId'])['round'].count()\n",
    "try:\n",
    "    assert all(round_count == 8*5)\n",
    "    pid_missing_data, sid_missing_data = set([]), set([])\n",
    "except AssertionError:\n",
    "    pid_missing_data, sid_missing_data = zip(*round_count[round_count != 12*7].index.values)\n",
    "    pid_missing_data, sid_missing_data = set(pid_missing_data), set(sid_missing_data)\n",
    "    print(f\"Data missing for {len(pid_missing_data)} participants\")\n",
    "    display(round_count[round_count != 12*7].reset_index(name=\"rounds\"))"
   ]
  },
  {
   "cell_type": "code",
   "execution_count": 15,
   "metadata": {},
   "outputs": [],
   "source": [
    "#memory trials\n",
    "GREEN = '#44A9A0'\n",
    "YELLOW = \"#DCCB5D\"\n",
    "mem_trials = trials[(trials.trial_type.isin([\"CustomItem\"]))]\n",
    "mem_trials = pd.concat([\n",
    "    pd.DataFrame({\n",
    "        \"psiturk_id\": mem_trials.psiturk_id,\n",
    "    }).reset_index(drop=True),\n",
    "    pd.DataFrame(list(mem_trials.data.values))\n",
    "], axis=1)\n",
    "mem_trials['rt'] = mem_trials['responsetime'] - mem_trials['starttime']\n",
    "mem_trials['true_color'] = mem_trials['true_color'].apply(lambda c: {YELLOW: 'Yellow', GREEN: \"Green\"}[c])\n",
    "mem_trials = mem_trials[['psiturk_id', 'sessionId', 'round', 'roundtype', 'grid', 'transform', \n",
    "                           'probeobs', 'queryround', 'true_color', 'response', 'rt']].reset_index(drop=True)\n",
    "mem_trials = mem_trials.pivot(index=['psiturk_id', 'sessionId', 'round', 'grid', 'transform', 'probeobs', 'queryround'], columns=['roundtype']).reset_index()\n",
    "mem_trials[\"conf_rt\"] = mem_trials[('rt', 'probe_conf')]\n",
    "mem_trials[\"mem_rt\"] = mem_trials[('rt', 'probe_2afc')]\n",
    "mem_trials[\"conf\"] = mem_trials[('response', 'probe_conf')].apply(int)\n",
    "mem_trials[\"conf_N\"] = (mem_trials[\"conf\"] - 1)/(8 - 1)\n",
    "mem_trials[\"correct\"] = mem_trials[('true_color', 'probe_2afc')] == mem_trials[('response', 'probe_2afc')]\n",
    "mem_trials[\"mem_resp\"] = mem_trials[('response', 'probe_2afc')]\n",
    "mem_trials[\"obstacle\"] = mem_trials['probeobs']\n",
    "mem_trials = mem_trials[['psiturk_id', 'sessionId', 'round', 'grid', 'transform', 'obstacle',\n",
    "                         'queryround', 'mem_resp', 'correct', 'mem_rt', 'conf_rt', 'conf', 'conf_N']]\n",
    "mem_trials.columns = mem_trials.columns.droplevel(level=1)\n",
    "mem_trials = mem_trials.merge(original_sids, on=['sessionId', 'round', 'grid'], how='left')"
   ]
  },
  {
   "cell_type": "code",
   "execution_count": 16,
   "metadata": {},
   "outputs": [],
   "source": [
    "assert len(original_sids)*5 == (len(mem_trials) + len(attn_trials))"
   ]
  },
  {
   "cell_type": "code",
   "execution_count": 17,
   "metadata": {},
   "outputs": [],
   "source": [
    "#survey level data\n",
    "survey_trials = trials[(trials.trial_type.isin([\"CustomSurvey\", \"SaveGlobalStore\"]))]\n",
    "survey_trials = pd.concat([\n",
    "    pd.DataFrame({\n",
    "        \"psiturk_id\": survey_trials.psiturk_id,\n",
    "    }).reset_index(drop=True),\n",
    "    pd.DataFrame([d if d else {} for d in survey_trials.data.values])\n",
    "], axis=1)\n",
    "survey_trials = survey_trials.melt(id_vars='psiturk_id', var_name=\"question\", value_name=\"response\")\n",
    "survey_trials = survey_trials[~survey_trials.response.isna()]\n",
    "survey_trials = survey_trials.pivot(index='psiturk_id', columns=\"question\" )\n",
    "survey_trials.columns = survey_trials.columns.droplevel()\n",
    "survey_trials = survey_trials.reset_index()\n",
    "survey_trials.columns.name = None\n",
    "survey_trials = survey_trials[survey_trials['playedGrid'].isin([\"Yes\", \"No\"])].reset_index(drop=True)\n",
    "completed_task = survey_trials['psiturk_id']"
   ]
  },
  {
   "cell_type": "code",
   "execution_count": 18,
   "metadata": {},
   "outputs": [
    {
     "name": "stdout",
     "output_type": "stream",
     "text": [
      "40xLQJNJEa\n",
      "it was rather interesting thank you for the invite.\n",
      "male\n",
      "\n",
      "1k9HyYZP1Z\n",
      "None\n",
      "Male\n",
      "\n",
      "ld6YGHySM2\n",
      "You keep saying the highlighted squares it would have been helpful to have had an example.\n",
      "female\n",
      "\n",
      "zTlKrPy3ai\n",
      "my priority was the red dots\n",
      "male\n",
      "\n",
      "3mGaMb7ZoJ\n",
      "I seem to always be guessing where the blue squares are, but I think I probably know where they are unconsciously since you are asking :)\n",
      "female\n",
      "\n",
      "Jjf0RT2Wx3\n",
      "In all cases I was aware of the presence of blue tiles, but I didn't pay much attention to where they were, so it was difficult to say specifically which clusters of blue tiles I was more or less aware of.\n",
      "Male\n",
      "\n",
      "Yd1ETJMky2\n",
      "I found this really hard!\n",
      "Female\n",
      "\n",
      "xMR6u4XhFj\n",
      "that was hard and I don't think i got many right\n",
      "female\n",
      "\n",
      "U6DqLTVcHZ\n",
      "This was a really hard task. Pressing for the red dot was fine but looking at the patterns on top was difficult \n",
      "female\n",
      "\n",
      "EKKeYJnkrq\n",
      "My strategy was just to scan the whole grid, and spot what's new (movement) - which (I think) helped me to find the red dot. I wasn't sufficiently aware of the blue bars to know whether I's noticed them much at all. the only exception was when the red dot appeared in a blued square.\n",
      "Male\n",
      "\n",
      "jFUk0V9TZS\n",
      "No comments\n",
      "male\n",
      "\n",
      "PoQK4ARt1h\n",
      "Nothing about the BLUE dot were in the instructions\n",
      "Male\n",
      "\n",
      "JATMhjVkT1\n",
      "it was fun\n",
      "Male\n",
      "\n",
      "VCRTVbjlNS\n",
      "strange study, in my case done with an empty mind, totally blank, so probably low scoring.    Regards\n",
      "male\n",
      "\n",
      "iVgvqKguTC\n",
      "It has shown me how atrocious my memory is.\n",
      "Female\n",
      "\n",
      "0X9D0str0s\n",
      "nothing to add thanks\n",
      "Male\n",
      "\n",
      "CzVDfG7SPY\n",
      "Interesting study, i think i missed some red dots.\n",
      "Male\n",
      "\n",
      "0slnUbbMp0\n",
      "I don't even know what that is about. Blue dot??\n",
      "female\n",
      "\n",
      "QxEMYrlSWB\n",
      "This was a fun experiment and I enjoyed it alot\n",
      "Female\n",
      "\n",
      "omiqRCyFAt\n",
      "no\n",
      "Female\n",
      "\n",
      "5Sk7rnlRWf\n",
      "no comments\n",
      "female\n",
      "\n",
      "ka1n0WHvRo\n",
      "I'm quite used to looking at grids because I have AMD in one eye so interesting experiment for me\n",
      "male\n",
      "\n",
      "93AM1T9GsQ\n",
      "None\n",
      "Male\n",
      "\n",
      "gUG3FYYk18\n",
      "No\n",
      "Female\n",
      "\n",
      "nQp8Kt61Jo\n",
      "None at the moment\n",
      "Female\n",
      "\n",
      "L2xQFGWhci\n",
      "Anticipation on the red dot makes it difficult to concentrate on the positioning of the other coloured blocks.\n",
      "Male\n",
      "\n",
      "VaKniU8WiF\n",
      "No \n",
      "Male\n",
      "\n",
      "JnxSPOjVNg\n",
      "the experiement was fun\n",
      "male\n",
      "\n",
      "sErU5zpQjH\n",
      "Thanks!\n",
      "male\n",
      "\n",
      "hEVCDkrhOZ\n",
      "Nothing to add\n",
      "Male\n",
      "\n",
      "B73y69byMH\n",
      "Colour for yellow and green are not clear\n",
      "Female\n",
      "\n",
      "t3nx9p6gDb\n",
      "None\n",
      "Female\n",
      "\n",
      "5y355iorI8\n",
      "No\n",
      "Male\n",
      "\n",
      "XSWwx00Za7\n",
      "Nope\n",
      "Female\n",
      "\n",
      "74RHPGT5YW\n",
      "It seems that I became more aware of the blue shares as it went along.\n",
      "female\n",
      "\n",
      "5NIdHOXXe1\n",
      "I was focussed on if/when the red dot will appear only, didn't pay attention to the tetris style blocks.\n",
      "Male\n",
      "\n",
      "78gBchSI9d\n",
      "I was so focused on the red dot, that identifying where the other blocks were was not easy\n",
      "Male\n",
      "\n",
      "Jb4VznfEHd\n",
      "A bit of a strange experiment\n",
      "Male\n",
      "\n",
      "fLjMIZwutz\n",
      "no \n",
      "mn\n",
      "\n",
      "0fXEwYbyl7\n",
      "None at present\n",
      "Male\n",
      "\n",
      "FMOLg7kSF9\n",
      "Seemed pointless but I suspect that you guys have a reason.  Primary focus was on the red dot and I began to invent patterns to try and remember where the other shapes were.\n",
      "Male\n",
      "\n",
      "C33jJ3wOmc\n",
      "I found it near impossible to remember where the blue blocks were displayed in both this and your previous experiment (where I controlled movement of the blue dot), despite trying very hard!\n",
      "Female\n",
      "\n",
      "TBcwsGq8uf\n",
      "nice study\n",
      "Male\n",
      "\n",
      "FxbuEWVpvu\n",
      "I didn't take note of anything other than the red dots\n",
      "Male\n",
      "\n"
     ]
    }
   ],
   "source": [
    "for _, row in survey_trials.iterrows():\n",
    "    if row.generalComments:\n",
    "        print(row.sessionId)\n",
    "        print(row.generalComments)\n",
    "        print(row.gender)\n",
    "        print()"
   ]
  },
  {
   "cell_type": "code",
   "execution_count": 19,
   "metadata": {},
   "outputs": [
    {
     "name": "stdout",
     "output_type": "stream",
     "text": [
      "Total Participants: 198\n",
      "Participants with no data: 25\n",
      "Participants with survey data: 173\n",
      "Participants who previously played task: 1\n",
      "Participants missing data: 0\n",
      "Participants to Exclude: 1\n"
     ]
    }
   ],
   "source": [
    "survey_trials['exclude'] = survey_trials.playedGrid == \"Yes\"\n",
    "pid_to_exclude, sid_to_exclude = survey_trials[['psiturk_id', 'sessionId']][survey_trials.playedGrid == \"Yes\"].values.T\n",
    "pid_to_exclude = set(pid_to_exclude)\n",
    "sid_to_exclude = set(sid_to_exclude)\n",
    "assert len(sid_to_exclude) == len(pid_to_exclude)\n",
    "all_pid = set([pid for pid, cond in conditiondata]) | (set(survey_trials.psiturk_id) | set(dot_trials.psiturk_id)) \n",
    "pid_no_data = all_pid - (set(survey_trials.psiturk_id) | set(dot_trials.psiturk_id)) \n",
    "print(f\"Total Participants: {len(all_pid)}\")\n",
    "print(f\"Participants with no data: {len(pid_no_data)}\")\n",
    "print(f\"Participants with survey data: {len(survey_trials)}\")\n",
    "print(f\"Participants who previously played task: {len(pid_to_exclude)}\")\n",
    "print(f\"Participants missing data: {len(pid_missing_data)}\")\n",
    "print(f\"Participants to Exclude: {len(pid_to_exclude | pid_missing_data)}\")"
   ]
  },
  {
   "cell_type": "code",
   "execution_count": 20,
   "metadata": {},
   "outputs": [
    {
     "name": "stdout",
     "output_type": "stream",
     "text": [
      "0 60c33f3e6706eca45e689ea4:60d09311a72c688efd4c36a9\n"
     ]
    }
   ],
   "source": [
    "# updates psiturk database to recruit conditions appropriately\n",
    "# it is idempodent\n",
    "for i, pid in enumerate(pid_to_exclude | pid_missing_data):\n",
    "# for i, pid in enumerate(pid_to_exclude | pid_missing_data | pid_no_data):\n",
    "    new_status = \"ignore\"\n",
    "    print(i, pid)\n",
    "    request = f\"http://frozen-depths-23358.herokuapp.com/set_status?uniqueId={pid}&new_status={new_status}\"\n",
    "    res = urllib.request.urlopen(request).read()\n",
    "    res = json.loads(res)\n",
    "    if \"success\" not in res['status'].lower():\n",
    "        print(res['status'], request)"
   ]
  },
  {
   "cell_type": "code",
   "execution_count": 21,
   "metadata": {},
   "outputs": [],
   "source": [
    "# save data before exclusions\n",
    "survey_trials.to_json(\"./data/all-survey-trials.json\")\n",
    "attn_trials.to_json(\"./data/all-attention-trials.json\")\n",
    "mem_trials.to_json(\"./data/all-memory-trials.json\")\n",
    "dot_trials.to_json(\"./data/all-dot-trials.json\")\n",
    "\n",
    "# exclusions\n",
    "survey_trials = survey_trials[~survey_trials.exclude].reset_index(drop=True)\n",
    "attn_trials = attn_trials[attn_trials.sessionId.isin(survey_trials.sessionId)].reset_index(drop=True)\n",
    "mem_trials = mem_trials[mem_trials.sessionId.isin(survey_trials.sessionId)].reset_index(drop=True)\n",
    "dot_trials = dot_trials[dot_trials.sessionId.isin(survey_trials.sessionId)].reset_index(drop=True)\n",
    "\n",
    "# data after exclusions\n",
    "# survey_trials.to_json(\"./data/survey-trials.json\")\n",
    "# attn_trials.to_json(\"./data/attention-trials.json\")\n",
    "# bc_trials.to_json(\"./data/nav-trials.json\")"
   ]
  },
  {
   "cell_type": "code",
   "execution_count": 22,
   "metadata": {},
   "outputs": [
    {
     "data": {
      "text/plain": [
       "1    140\n",
       "2     16\n",
       "Name: condition, dtype: int64"
      ]
     },
     "execution_count": 22,
     "metadata": {},
     "output_type": "execute_result"
    }
   ],
   "source": [
    "# final conditions counts (need 156)\n",
    "survey_trials.condition.value_counts().value_counts()"
   ]
  },
  {
   "cell_type": "code",
   "execution_count": 23,
   "metadata": {},
   "outputs": [
    {
     "data": {
      "text/plain": [
       "set()"
      ]
     },
     "execution_count": 23,
     "metadata": {},
     "output_type": "execute_result"
    }
   ],
   "source": [
    "set(range(156)) - set(survey_trials.condition)"
   ]
  },
  {
   "cell_type": "code",
   "execution_count": 24,
   "metadata": {},
   "outputs": [],
   "source": [
    "assert all(mem_trials.groupby(['psiturk_id', 'round'])['conf'].count() == 5)\n",
    "assert all(attn_trials.groupby(['psiturk_id', 'round'])['attn_resp'].count() == 5)"
   ]
  },
  {
   "cell_type": "markdown",
   "metadata": {},
   "source": [
    "# Bonusing"
   ]
  },
  {
   "cell_type": "code",
   "execution_count": 25,
   "metadata": {},
   "outputs": [
    {
     "name": "stdout",
     "output_type": "stream",
     "text": [
      "551d8fccfdf99b51d1bea31e,0.64\n",
      "5588b2bffdf99b7a7714efd1,0.68\n",
      "55ac3198fdf99b6de3b68b23,0.60\n",
      "55d5b77ddb6a810006fa05d5,0.58\n",
      "55e57aa9c70c7a00102a598e,0.68\n",
      "5630caf8733ea0000a162d0b,0.64\n",
      "566feba6b937e400052d33b2,0.66\n",
      "56a890b37f2472000b93763e,0.66\n",
      "56b0b06fe8b6770005de04aa,0.58\n",
      "56c9bd6310a82f000dffd6af,0.36\n",
      "56d2fdff321cae000d68d946,0.56\n",
      "56d56e550b5634000bdc5703,0.68\n",
      "578b5e8ebaec1b0001696813,0.68\n",
      "57ac85fec80df50001a5b25d,0.64\n",
      "5932ccd3cf0d9600010e91c3,0.52\n",
      "5932f5d4991e160001effbd2,0.56\n",
      "5941588d81359000016787bd,0.64\n",
      "59e879752f63d30001c8fb9f,0.64\n",
      "59f8868e05d1d60001f1464d,0.66\n",
      "5a2d5b44a15d1100014dad18,0.60\n",
      "5a53d274ac56240001537a47,0.66\n",
      "5a692a8463394a000155da61,0.56\n",
      "5a840fcfb093f80001a7cf78,0.64\n",
      "5aa7a5cc6475f90001a06c6c,0.66\n",
      "5ae0c7d4e0feeb0001caff2b,0.62\n",
      "5afdc329fca92600012695ca,0.56\n",
      "5afde9de3eb22c00019bb6e3,0.68\n",
      "5b0881a82e75960001b8b505,0.68\n",
      "5b1f8feb44127b0001401d22,0.40\n",
      "5bc08c345e8a950001892156,0.68\n",
      "5bcf6b423a99c40001542fa1,0.48\n",
      "5bd9eb1b1dcc41000132ae7e,0.60\n",
      "5bfac2001cd5430001fc7aa1,0.68\n",
      "5c129cc7ba99dc0001f0b628,0.62\n",
      "5c28b31a0091e40001ca5030,0.52\n",
      "5c2a799737ae5200017c7712,0.54\n",
      "5c2e6546af699500010f521a,0.60\n",
      "5c377642bc6444000133aae9,0.56\n",
      "5c3ccb06337ac90001a4a9a0,0.64\n",
      "5c3f3f83d831ed0001f78d1c,0.66\n",
      "5c58a50bf5614100018dad2c,0.66\n",
      "5c6c260dce4e560001f75731,0.62\n",
      "5c6c48be4d186e000116041c,0.50\n",
      "5c882fbb42ff490016c7e47b,0.68\n",
      "5c9e3b962fd4860001a4b968,0.54\n",
      "5cc8a040cd6a7c00173b7012,0.58\n",
      "5cd071a4eb305c0001f9651e,0.68\n",
      "5cd2ee8d66bd5c001747f52e,0.66\n",
      "5cf0e467027fc1001560c7ff,0.68\n",
      "5d19c8d98317ca0017ff4755,0.60\n",
      "5d21aed085192700013a5282,0.60\n",
      "5d29a65b5b3b1f001aaaf6e3,0.58\n",
      "5d30559f95d88f0019378e9c,0.60\n",
      "5d3d08758b0a780001f5430a,0.68\n",
      "5d4200b0f1006e00196a9322,0.60\n",
      "5d46c556fb0ce0001a04fd01,0.58\n",
      "5d5402545aef9b000118fd50,0.68\n",
      "5d5bee273639540015c941a0,0.56\n",
      "5d6146ddfcc3cb0001f9b960,0.66\n",
      "5d67fe32070cbd0001d15ffd,0.66\n",
      "5da86d3475d0bc001951ff5c,0.60\n",
      "5da9a1659413e4001505d7f7,0.50\n",
      "5db07d0f3b276c00161dc217,0.68\n",
      "5dd0409d9ca8a312350a4118,0.60\n",
      "5de39f38a1a3fb39ee68f7ab,0.62\n",
      "5def01c28def535b96fa6133,0.62\n",
      "5e0521c0b1f222f80f379478,0.60\n",
      "5e16d8f5bf3d4eca3bcf290f,0.68\n",
      "5e3c447f33122a0230476441,0.54\n",
      "5e456129f5b428000b5b0f81,0.64\n",
      "5e54c7fc2394ea4c99f88987,0.62\n",
      "5e5580651ffa37588a3697c1,0.64\n",
      "5e5667b3e5cbf4018c99991a,0.66\n",
      "5e5bd83514a6a43bbeac2f3c,0.62\n",
      "5e67c30d1787b303c855ceaa,0.68\n",
      "5e6a923f59a3bd04d5edc606,0.66\n",
      "5e9430cc1ed15800084ffbb0,0.56\n",
      "5e95fc100bc1cb054b0b18c8,0.66\n",
      "5e9821fa768ff60008b53d36,0.54\n",
      "5e983f8f552ee502851683ae,0.68\n",
      "5e9ffac15dabbc000d022a77,0.64\n",
      "5ea147e199428314d7ec6370,0.60\n",
      "5ea166af93435d0008a8a341,0.58\n",
      "5ea16cb48366db01843ff38b,0.68\n",
      "5ea4a546a1589107aad124a2,0.66\n",
      "5eaeb365086d90570e8e538f,0.54\n",
      "5eb53b2fd978b13c38744dfa,0.66\n",
      "5eb7094fbb8ed70b61398cff,0.66\n",
      "5ebfabc7676c2502837188cf,0.68\n",
      "5ec1a7c7676c25276549876c,0.64\n",
      "5ec9c8ac6c15054fe7508271,0.68\n",
      "5ece5b2aba09f5219bd70af9,0.66\n",
      "5ed1566237d27008e6239275,0.66\n",
      "5ed579054fc6a0105466ceb2,0.64\n",
      "5edcf3276763349d23ae0c5a,0.68\n",
      "5eeddefa177a7322144cbc5e,0.68\n",
      "5ef352ac6182fb0853b532c7,0.64\n",
      "5ef4860d22eb1d04bbcd9586,0.66\n",
      "5ef7239728eb0d01d4d9a27f,0.62\n",
      "5efca85159e09c06e7d064ba,0.64\n",
      "5f0b4c408bf3692972604ad0,0.64\n",
      "5f0c5efb791e025b52cb48b1,0.64\n",
      "5f0cc9e346422616e8397c44,0.68\n",
      "5f0f6ef654ae12126762bd4e,0.64\n",
      "5f0f7fe1d7ad1c000b42d091,0.62\n",
      "5f21294e789a0649b25eff23,0.68\n",
      "5f21fe68039e0e45fabc19af,0.64\n",
      "5f2b2de828fa8b54d5151287,0.58\n",
      "5f3a7bc6bb3abd08700663bd,0.66\n",
      "5f3e6467a097d9057137d439,0.64\n",
      "5f3ed5ec2e6b84178b699d47,0.52\n",
      "5f463faaf89cfb0009140627,0.66\n",
      "5f479b66ccae1c18c6c17105,0.64\n",
      "5f4f5d2da7606a000ab233c9,0.68\n",
      "5f52a6b3ca6e321757e6d8a6,0.56\n",
      "5f58e8f22846f809fda94bda,0.60\n",
      "5f5977519eca0e1cfc1085e3,0.42\n",
      "5f5dfa6a024fc30364efa540,0.56\n",
      "5f5e37736352f06ac587ddb8,0.66\n",
      "5f622fbe1fbbd21051cb28b3,0.66\n",
      "5f68ad7526b6ee0008a8f6fd,0.64\n",
      "5f7afb469e43b9015ef53b9f,0.64\n",
      "5f8d8af5eadf4d08f6c460f3,0.46\n",
      "5f99c390429a4507f8f935dc,0.66\n",
      "5fa54b737d6d9b0c6414dfec,0.64\n",
      "5fb398a791705801d5394b15,0.66\n",
      "5fb4f8799f1ebc2ead2ea064,0.58\n",
      "5fb8dc3c8e8e964121c6aa4c,0.64\n",
      "5fefa037c9707d2dde068a38,0.62\n",
      "5ffb751dda020705441e6a36,0.64\n",
      "5ffdbba18a42d5361122c3a5,0.62\n",
      "600ad993c009a101dd6a9bdb,0.60\n",
      "600fbd5faa45791bc99e1597,0.62\n",
      "60172619600dc1955ba05f5c,0.50\n",
      "60368b837f900be76ef6c9db,0.62\n",
      "60393913ae651041750fec95,0.64\n",
      "603ab157b6ca3370a7c7b019,0.54\n",
      "604633f72d9cdc0a1b04fc3c,0.66\n",
      "6050cb50a965d6a6eb12361e,0.62\n",
      "605f3f014e9662977dba1d20,0.64\n",
      "6061f64d64fba13965d43a91,0.64\n",
      "606451b5aab2ec4afaae10f4,0.66\n",
      "6065e31a75aa93bd03446d07,0.52\n",
      "6066da1975a0b9c15e673205,0.54\n",
      "60699ffbd305191cddf21ace,0.56\n",
      "606ae60d5022d5592f5cbd33,0.56\n",
      "606c45d1aace4c709259fc90,0.66\n",
      "60794a6189e0f56535af300a,0.66\n",
      "6079fc8405baf9a1c3a9346b,0.68\n",
      "607a9f1f793af32b8043c7fb,0.60\n",
      "607deec383975f3377a28b9e,0.58\n",
      "608c522a6e54f1b8fac820a3,0.68\n",
      "608d0b8564a860a83b865ff2,0.60\n",
      "609408e1ef7e7d611c5a06ac,0.64\n",
      "6096d6a4b836e53e4a6cd072,0.68\n",
      "6099a468edd885d7ed4538fd,0.68\n",
      "60a047bd9244cf64dc2283a8,0.58\n",
      "60a272d70db564387c61ede5,0.58\n",
      "60a78f10810fb961978e053d,0.32\n",
      "60af6ed0f54911aca000f28a,0.62\n",
      "60af94c2c1c2ee4d226ef376,0.58\n",
      "60b1465dc14e70d7c429213e,0.66\n",
      "60b36f7f827bf0582b62c63a,0.62\n",
      "60b8f286e9ca8acabdddc02f,0.68\n",
      "60b9f19d122c7adf0c37899c,0.68\n",
      "60bd390851c1cec91fae5db3,0.62\n",
      "60c33f3e6706eca45e689ea4,0.52\n",
      "60c4691787a92ea2736450d4,0.68\n",
      "60c682d13eac136dcb62df4b,0.56\n",
      "60c98c3e0846851e488e0399,0.46\n",
      "60cbaf902b67e2f81979b9c2,0.56\n",
      "60ce4d0e7bd14fa42dcc3949,0.62\n",
      "60ce61135ecfd28a1d36cf64,0.62\n",
      "106.52000000000002\n",
      "0.6157225433526013\n"
     ]
    }
   ],
   "source": [
    "pid_bonusdf = bonusdf.groupby('psiturk_id')['bonus'].sum().reset_index()\n",
    "tot_b = 0\n",
    "for _, r in pid_bonusdf.iterrows():\n",
    "    b = max(r.bonus, 0) + .2\n",
    "    if b == 0.0:\n",
    "        continue\n",
    "    tot_b += b\n",
    "    print(f\"{r.psiturk_id.split(':')[0]},{b:.2f}\")\n",
    "print(tot_b)\n",
    "print(tot_b/len(pid_bonusdf))"
   ]
  },
  {
   "cell_type": "code",
   "execution_count": null,
   "metadata": {},
   "outputs": [],
   "source": []
  }
 ],
 "metadata": {
  "kernelspec": {
   "display_name": "Python 3 (ipykernel)",
   "language": "python",
   "name": "python3"
  },
  "language_info": {
   "codemirror_mode": {
    "name": "ipython",
    "version": 3
   },
   "file_extension": ".py",
   "mimetype": "text/x-python",
   "name": "python",
   "nbconvert_exporter": "python",
   "pygments_lexer": "ipython3",
   "version": "3.7.4"
  }
 },
 "nbformat": 4,
 "nbformat_minor": 4
}
