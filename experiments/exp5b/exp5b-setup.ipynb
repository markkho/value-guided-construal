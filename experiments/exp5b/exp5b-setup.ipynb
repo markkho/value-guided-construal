{
 "cells": [
  {
   "cell_type": "markdown",
   "metadata": {},
   "source": [
    "# Experiment 5b Trials"
   ]
  },
  {
   "cell_type": "code",
   "execution_count": 1,
   "metadata": {},
   "outputs": [],
   "source": [
    "import numpy as np\n",
    "import random\n",
    "import datetime\n",
    "import pandas as pd\n",
    "import json\n",
    "from itertools import product\n",
    "from markdown import markdown\n",
    "import textwrap\n",
    "import copy\n",
    "from functools import lru_cache\n",
    "\n",
    "from msdm.domains import GridWorld\n",
    "from msdm.algorithms import PolicyIteration\n",
    "from vgc_project import gridutils, sampsat"
   ]
  },
  {
   "cell_type": "markdown",
   "metadata": {},
   "source": [
    "# Experiment Parameters"
   ]
  },
  {
   "cell_type": "code",
   "execution_count": 2,
   "metadata": {},
   "outputs": [],
   "source": [
    "EXPERIMENT_CODE_VERSION = \"5b\"\n",
    "EXPERIMENT_DESCRIPTION = \"\"\"\n",
    "Grids 12-15 catch red dot yoked to exp 3 initial rts.\n",
    "\"\"\"\n",
    "EXPECTED_TIME = \"10 minutes\""
   ]
  },
  {
   "cell_type": "markdown",
   "metadata": {},
   "source": [
    "### Instructions and training"
   ]
  },
  {
   "cell_type": "code",
   "execution_count": 3,
   "metadata": {},
   "outputs": [],
   "source": [
    "def create_gridworld_params(tile_array):\n",
    "    gw = GridWorld(tile_array, absorbing_features=('G', ), initial_features=('S'))\n",
    "\n",
    "    params = {\n",
    "        \"feature_array\": tile_array,\n",
    "        \"init_state\": [gw.initial_states[0]['x'], gw.initial_states[0]['y']],\n",
    "        \"absorbing_states\":[[s['x'], s['y']] for s in gw.absorbing_states],\n",
    "    }\n",
    "    return params"
   ]
  },
  {
   "cell_type": "code",
   "execution_count": 4,
   "metadata": {},
   "outputs": [],
   "source": [
    "def generate_instructions(default_trialparams, default_taskparams, probetype):\n",
    "    pretask = []\n",
    "    pretask.extend([\n",
    "        {\"type\": \"reCAPTCHA\"},\n",
    "        {\n",
    "            \"type\": \"fullscreen\",\n",
    "            \"fullscreen_mode\": True\n",
    "        },\n",
    "        {\n",
    "            \"type\": \"CustomInstructions\",\n",
    "            \"instructions\": markdown(textwrap.dedent(\"\"\"\n",
    "                # Instructions\n",
    "                Thank you for participating in our experiment!\n",
    "\n",
    "                You will play a game where you are shown patterns on a grid and\n",
    "                answer questions about how you perceive them.\n",
    "                \n",
    "                Next you will be shown an example grid.\n",
    "            \"\"\")),\n",
    "            \"timing_post_trial\": 1000,\n",
    "            \"continue_wait_time\": 3000,\n",
    "        },\n",
    "        {\n",
    "            \"trialparams\": {\n",
    "                **default_trialparams,\n",
    "                \"TRIAL_DURATION_MS\": 3000,\n",
    "                \"catchBonusDollars\": .0,\n",
    "                \"grid\": \"practice-1\",\n",
    "                \"roundtype\": \"practice\",\n",
    "            },\n",
    "            \"taskparams\": {\n",
    "                **default_taskparams,\n",
    "                **create_gridworld_params([\n",
    "                    'G............',\n",
    "                    '.............',\n",
    "                    '.............',\n",
    "                    '......#......',\n",
    "                    '......#......',\n",
    "                    '......#...0..',\n",
    "                    '.11#######000',\n",
    "                    '.1....#......',\n",
    "                    '.1....#......',\n",
    "                    '......#......',\n",
    "                    '.............',\n",
    "                    '.............',\n",
    "                    '............S'\n",
    "                ])\n",
    "            },\n",
    "            \"type\": \"GridWatchDot\"\n",
    "        },\n",
    "        {\n",
    "            \"type\": \"CustomInstructions\",\n",
    "            \"instructions\": markdown(textwrap.dedent(\"\"\"\n",
    "                # Instructions\n",
    "                Simple right?\n",
    "            \"\"\")),\n",
    "            \"timing_post_trial\": 1000,\n",
    "            \"continue_wait_time\": 0,\n",
    "        },\n",
    "        {\n",
    "            \"type\": 'CustomSurvey',\n",
    "            \"preamble\": markdown(textwrap.dedent(f\"\"\"\n",
    "                # Catch the red dot\n",
    "                On some trials, a small <b><span style='color:red'>red</span></b> dot will briefly anywhere in\n",
    "                the grid, chosen randomly. \n",
    "                \n",
    "                If you press the **spacebar** when the red dot is visible, you will receive a bonus of \n",
    "                **${default_trialparams[\"catchBonusDollars\"]:.2f}**. Similarly, if you never press\n",
    "                **spacebar** and the red dot never appears, you will receive a bonus of \n",
    "                **${default_trialparams[\"catchBonusDollars\"]:.2f}**. \n",
    "                However, if you miss the red dot, or press **spacebar** when the red dot is NOT visible, \n",
    "                you will not recieve a bonus.\n",
    "                \n",
    "                <br>\n",
    "                \n",
    "                Grids can be shown for half a second or up to 30 seconds.\n",
    "                \n",
    "                <br>\n",
    "                You <b>must</b> answer the following questions correctly within 2 tries to continue.\n",
    "                <hr>\n",
    "            \"\"\")),\n",
    "            \"maxAttempts\": 2,\n",
    "            \"questions\": [\n",
    "                {\n",
    "                  \"prompt\": \"A red dot might appear on which square?\", \n",
    "                  \"options\": [\"Squares on the left\", \"Any square, chosen randomly\", \"Squares on the right\"], \n",
    "                  \"required\": True, \n",
    "                  \"requireCorrect\": True,\n",
    "                  \"correct\": \"Any square, chosen randomly\",\n",
    "                  \"name\": \"reddotwhichbluesquare\",\n",
    "                  \"type\": \"multiple-choice\"\n",
    "                },\n",
    "                {\n",
    "                  \"prompt\": \"What should you do right when you see a red dot?\", \n",
    "                  \"options\": [\"Press **spacebar**\", \"Do nothing\", \"Wait for it to change.\"], \n",
    "                  \"required\": True, \n",
    "                  \"requireCorrect\": True,\n",
    "                  \"correct\": \"Press **spacebar**\",\n",
    "                  \"name\": \"seeRedDot\",\n",
    "                  \"type\": \"multiple-choice\"\n",
    "                },\n",
    "                {\n",
    "                  \"prompt\": \"When do you win a bonus?\", \n",
    "                  \"options\": [\"There is no bonus\", \n",
    "                              \"When pressing **spacebar** only when a red dot appears\",\n",
    "                              \"When pressing **spacebar**\"], \n",
    "                  \"required\": True, \n",
    "                  \"requireCorrect\": True,\n",
    "                  \"correct\": \"When pressing **spacebar** only when a red dot appears\",\n",
    "                  \"name\": \"bonusCheck\",\n",
    "                  \"type\": \"multiple-choice\"\n",
    "                },\n",
    "                {\n",
    "                  \"prompt\": \"How long can grids be shown?\", \n",
    "                  \"options\": [\"Only 3 seconds\", \n",
    "                              \"Anywhere from half a second to 30 seconds\",\n",
    "                              \"From 5 to 10 seconds\"], \n",
    "                  \"required\": True, \n",
    "                  \"requireCorrect\": True,\n",
    "                  \"correct\": \"Anywhere from half a second to 30 seconds\",\n",
    "                  \"name\": \"gridDurationCheck\",\n",
    "                  \"type\": \"multiple-choice\"\n",
    "                }\n",
    "            ]\n",
    "        },\n",
    "        {\n",
    "            \"type\": \"CustomInstructions\",\n",
    "            \"instructions\": markdown(textwrap.dedent(\"\"\"\n",
    "                # Instructions\n",
    "                Next, you will do some practice rounds.\n",
    "            \"\"\")),\n",
    "            \"timing_post_trial\": 100,\n",
    "            \"continue_wait_time\": 2000,\n",
    "        },\n",
    "        {\n",
    "            \"trialparams\": {\n",
    "                **default_trialparams,\n",
    "                \"dotAppearances\": [{\n",
    "                    'x': 1,\n",
    "                    'y': 1,\n",
    "                    'time_ms': 3000,\n",
    "                    'duration_ms': 7000\n",
    "                }],\n",
    "                \"TRIAL_DURATION_MS\": 10000,\n",
    "                \"catchBonusDollars\": .0,\n",
    "                \"grid\": \"practice-2\",\n",
    "                \"roundtype\": \"practice\",\n",
    "            },\n",
    "            \"taskparams\": {\n",
    "                **default_taskparams,\n",
    "                **create_gridworld_params([\n",
    "                    'G............',\n",
    "                    '.............',\n",
    "                    '.............',\n",
    "                    '......#......',\n",
    "                    '......#......',\n",
    "                    '......#...0..',\n",
    "                    '.11#######000',\n",
    "                    '.1....#......',\n",
    "                    '.1....#......',\n",
    "                    '......#......',\n",
    "                    '.............',\n",
    "                    '.............',\n",
    "                    '............S'\n",
    "                ])\n",
    "            },\n",
    "            \"type\": \"GridWatchDot\"\n",
    "        },\n",
    "        {\n",
    "            \"trialparams\": {\n",
    "                **default_trialparams,\n",
    "                \"dotAppearances\": [{\n",
    "                    'x': 9,\n",
    "                    'y': 5,\n",
    "                    'time_ms': 5000,\n",
    "                    'duration_ms': 5000\n",
    "                }],\n",
    "                \"TRIAL_DURATION_MS\": 10000,\n",
    "                \"catchBonusDollars\": .0,\n",
    "                \"grid\": \"practice-3\",\n",
    "                \"roundtype\": \"practice\",\n",
    "            },\n",
    "            \"taskparams\": {\n",
    "                **default_taskparams,\n",
    "                **create_gridworld_params([\n",
    "                    'G............',\n",
    "                    '.............',\n",
    "                    '.............',\n",
    "                    '......#......',\n",
    "                    '......#......',\n",
    "                    '......#...0..',\n",
    "                    '.11#######000',\n",
    "                    '.1....#......',\n",
    "                    '.1....#......',\n",
    "                    '......#......',\n",
    "                    '.............',\n",
    "                    '.............',\n",
    "                    '............S'\n",
    "                ])\n",
    "            },\n",
    "            \"type\": \"GridWatchDot\"\n",
    "        },\n",
    "        {\n",
    "            \"type\": \"CustomInstructions\",\n",
    "            \"instructions\": markdown(textwrap.dedent(\"\"\"\n",
    "                # Instructions\n",
    "                Those were easy trials where the red dot lasted a long time. The next trial\n",
    "                will be faster.\n",
    "            \"\"\")),\n",
    "            \"timing_post_trial\": 100,\n",
    "            \"continue_wait_time\": 2000,\n",
    "        },\n",
    "        {\n",
    "            \"trialparams\": {\n",
    "                **default_trialparams,\n",
    "                \"dotAppearances\": [{\n",
    "                    'x': 4,\n",
    "                    'y': 4,\n",
    "                    'time_ms': 500,\n",
    "                    'duration_ms': 1500\n",
    "                }],\n",
    "                \"TRIAL_DURATION_MS\": 2000,\n",
    "                \"catchBonusDollars\": .0,\n",
    "                \"grid\": \"practice-4\",\n",
    "                \"roundtype\": \"practice\",\n",
    "            },\n",
    "            \"taskparams\": {\n",
    "                **default_taskparams,\n",
    "                **create_gridworld_params([\n",
    "                    '............G',\n",
    "                    '.............',\n",
    "                    '.............',\n",
    "                    '......#......',\n",
    "                    '......#......',\n",
    "                    '......#......',\n",
    "                    '.11#######...',\n",
    "                    '.1....#......',\n",
    "                    '.1....#......',\n",
    "                    '......#......',\n",
    "                    '......0......',\n",
    "                    '.....00......',\n",
    "                    'S.....0......'\n",
    "                ])\n",
    "            },\n",
    "            \"type\": \"GridWatchDot\"\n",
    "        },\n",
    "        {\n",
    "            \"trialparams\": {\n",
    "                **default_trialparams,\n",
    "                \"dotAppearances\": [{\n",
    "                    'x': 8,\n",
    "                    'y': 1,\n",
    "                    'time_ms': 900,\n",
    "                    'duration_ms': 1000\n",
    "                }],\n",
    "                \"TRIAL_DURATION_MS\": 2000,\n",
    "                \"catchBonusDollars\": .0,\n",
    "                \"grid\": \"practice-4\",\n",
    "                \"roundtype\": \"practice\",\n",
    "            },\n",
    "            \"taskparams\": {\n",
    "                **default_taskparams,\n",
    "                **create_gridworld_params([\n",
    "                    '............G',\n",
    "                    '.............',\n",
    "                    '.............',\n",
    "                    '......#......',\n",
    "                    '......#......',\n",
    "                    '......#......',\n",
    "                    '.11#######...',\n",
    "                    '.1....#......',\n",
    "                    '.1....#......',\n",
    "                    '......#......',\n",
    "                    '......0......',\n",
    "                    '.....00......',\n",
    "                    'S.....0......'\n",
    "                ])\n",
    "            },\n",
    "            \"type\": \"GridWatchDot\"\n",
    "        }\n",
    "    ])\n",
    "    \n",
    "    if probetype == \"attention\":\n",
    "        pretask.append(\n",
    "            dict(\n",
    "                type=\"CustomSurvey\",\n",
    "                preamble=markdown(textwrap.dedent(f\"\"\"\n",
    "                    # ☝️ One last thing\n",
    "                    In addition, we are interested in your thought process as you look for the red dot 🤔. \n",
    "                    Following <b>some</b> trials, we will ask you <u>how aware of certain blue tiles you were at any point</u>.\n",
    "                    Your answer should reflect the amount you paid attention to them.\n",
    "                    **These responses will not affect your bonus**.\n",
    "                    Remember: your primary goal is to catch the red dot.\n",
    "\n",
    "                    <br>\n",
    "                    <hr>\n",
    "                    To continue, you must answer the following comprehension questions correctly within 2 tries.\n",
    "                    \"\"\")),\n",
    "                maxAttempts=2,\n",
    "                questions=[\n",
    "                    {\n",
    "                      \"prompt\": \"Your answers to the questions will affect your bonus.\", \n",
    "                      \"options\": [\"Always\", \"Sometimes\", \"Never\"], \n",
    "                      \"required\": True, \n",
    "                      \"requireCorrect\": True,\n",
    "                      \"correct\": \"Never\",\n",
    "                      \"name\": \"probeNoBonusCheck\",\n",
    "                      \"type\": \"multiple-choice\"\n",
    "                    },\n",
    "                    {\n",
    "                      \"prompt\": \"What is your primary goal?\", \n",
    "                      \"options\": [\"Catch the red dot\", \"Answer the questions correctly\", \"Neither\"], \n",
    "                      \"required\": True, \n",
    "                      \"requireCorrect\": True,\n",
    "                      \"correct\": \"Catch the red dot\",\n",
    "                      \"name\": \"primaryGoalCheck\",\n",
    "                      \"type\": \"multiple-choice\"\n",
    "                    }\n",
    "                ]\n",
    "            )\n",
    "        )\n",
    "    elif probetype == \"memory\":\n",
    "        pretask.append(\n",
    "            dict(\n",
    "                type=\"CustomSurvey\",\n",
    "                preamble=markdown(textwrap.dedent(f\"\"\"\n",
    "                    # ☝️ One last thing\n",
    "                    In addition, we are interested in your thought process as you look for the red dot 🤔. \n",
    "                    Following <b>some</b> trials, we will ask you about <u>where certain blue tiles were originally</u>.\n",
    "                    You will be shown two possible locations, and asked where the blue tiles were in the pattern you were just shown. \n",
    "                    **These responses will not affect your bonus**.\n",
    "                    Remember: your primary goal is to catch the red dot.\n",
    "\n",
    "                    <br>\n",
    "                    <hr>\n",
    "                    To continue, you must answer the following comprehension questions correctly within 2 tries.\n",
    "                    \"\"\")),\n",
    "                maxAttempts=2,\n",
    "                questions=[\n",
    "                    {\n",
    "                      \"prompt\": \"Your answers to the questions will affect your bonus.\", \n",
    "                      \"options\": [\"Always\", \"Sometimes\", \"Never\"], \n",
    "                      \"required\": True, \n",
    "                      \"requireCorrect\": True,\n",
    "                      \"correct\": \"Never\",\n",
    "                      \"name\": \"probeNoBonusCheck\",\n",
    "                      \"type\": \"multiple-choice\"\n",
    "                    },\n",
    "                    {\n",
    "                      \"prompt\": \"What is your primary goal?\", \n",
    "                      \"options\": [\"Catch the red dot\", \"Answer the questions correctly\", \"Neither\"], \n",
    "                      \"required\": True, \n",
    "                      \"requireCorrect\": True,\n",
    "                      \"correct\": \"Catch the red dot\",\n",
    "                      \"name\": \"primaryGoalCheck\",\n",
    "                      \"type\": \"multiple-choice\"\n",
    "                    }\n",
    "                ]\n",
    "            )\n",
    "        )\n",
    "    else:\n",
    "        raise Exception(\"unknown probetype\")\n",
    "    return pretask"
   ]
  },
  {
   "cell_type": "code",
   "execution_count": 5,
   "metadata": {},
   "outputs": [],
   "source": [
    "def generate_posttask():\n",
    "    return [\n",
    "        {\n",
    "            \"type\": 'CustomSurvey',\n",
    "            \"questions\": [\n",
    "              {\n",
    "                \"prompt\": \"In some experiments, the blue dot moves to reach a location, or can be controlled. Have you participated in an experiment like that?\", \n",
    "                \"required\": True,\n",
    "                \"options\": [\"Yes\", \"No\"], \n",
    "                \"name\": \"playedGrid\",\n",
    "                \"type\": \"multiple-choice\"\n",
    "              },\n",
    "              {\n",
    "                  \"prompt\": \"Any general comments?\",\n",
    "                  \"rows\": 5,\n",
    "                  \"columns\":50,\n",
    "                  \"required\": False,\n",
    "                  \"name\": \"generalComments\",\n",
    "                  \"type\": \"textbox\"\n",
    "              },\n",
    "            ],\n",
    "        },\n",
    "        {\n",
    "            \"type\": 'CustomSurvey',\n",
    "            \"questions\": [\n",
    "              {\"prompt\": \"Age\", \"required\": True, \"name\": \"age\", \"type\": \"textbox\"}, \n",
    "              {\"prompt\": \"Gender\", \"required\": True, \"name\": \"gender\", \"type\": \"textbox\"}, \n",
    "            ],\n",
    "        },\n",
    "        {\n",
    "            \"type\": \"SaveGlobalStore\"\n",
    "        },\n",
    "        {\n",
    "            \"type\": \"fullscreen\",\n",
    "            \"fullscreen_mode\": False\n",
    "        },\n",
    "    ]"
   ]
  },
  {
   "cell_type": "markdown",
   "metadata": {},
   "source": [
    "### Get responses from experiment 3 to be yoked"
   ]
  },
  {
   "cell_type": "code",
   "execution_count": 6,
   "metadata": {},
   "outputs": [],
   "source": [
    "exp3_mod_grids = json.load(open(\"../mazes/mazes_12-15_mod.json\", 'r'))\n",
    "EXP3_NAV_FILE = \"../exp3/data/navtrials.json\"\n",
    "EXP3_ALL_NAV_FILE = \"../exp3/data/all-navtrials.json\"\n",
    "exp3_filt_nt = pd.read_json(open(EXP3_NAV_FILE, 'r'))\n",
    "exp3_all_nt = pd.read_json(open(EXP3_ALL_NAV_FILE, 'r'))"
   ]
  },
  {
   "cell_type": "code",
   "execution_count": 7,
   "metadata": {},
   "outputs": [],
   "source": [
    "nonexcluded = exp3_filt_nt.sessionId.unique()\n",
    "exp3_nt = exp3_all_nt[exp3_all_nt['sessionId'].isin(nonexcluded)]\n",
    "assert all(exp3_nt.groupby([\"sessionId\", 'round'])['reward'].sum().groupby(\"sessionId\").count() == 8)"
   ]
  },
  {
   "cell_type": "code",
   "execution_count": 8,
   "metadata": {},
   "outputs": [],
   "source": [
    "EXP3_ALL_ATTN_FILE = \"../exp3/data/all-attentiontrials.json\"\n",
    "EXP3_ALL_MEM_FILE = \"../exp3/data/all-memorytrials.json\"\n",
    "exp3_at = pd.read_json(open(EXP3_ALL_ATTN_FILE, 'r'))\n",
    "exp3_mt = pd.read_json(open(EXP3_ALL_MEM_FILE, 'r'))"
   ]
  },
  {
   "cell_type": "code",
   "execution_count": 9,
   "metadata": {},
   "outputs": [],
   "source": [
    "exp3_participantround_probes = pd.concat([\n",
    "    exp3_at.groupby(['sessionId', 'round']).apply(\n",
    "        lambda rs: rs.sort_values('queryround').to_dict('records')\n",
    "    ),\n",
    "    exp3_mt.groupby(['sessionId', 'round']).apply(\n",
    "        lambda rs: rs.sort_values('queryround').to_dict('records')\n",
    "    )\n",
    "])\n",
    "memory_participants = exp3_mt.sessionId.unique()\n",
    "attn_participants = exp3_at.sessionId.unique()"
   ]
  },
  {
   "cell_type": "code",
   "execution_count": 10,
   "metadata": {},
   "outputs": [],
   "source": [
    "exp3_resp = [] #each participant's grids and probes, in order\n",
    "for pid, prows in exp3_nt.groupby(\"sessionId\"):\n",
    "    resp = {'sessionId': pid, 'rounds': []}\n",
    "    for r, rrows in prows.sort_values(\"round\").groupby(\"round\"):\n",
    "        first_step = rrows.sort_values(\"trialnum\").iloc[0]\n",
    "        assert first_step['trialnum'] == 0\n",
    "        original_probedata = exp3_participantround_probes[(pid, r)]\n",
    "        probeparams = []\n",
    "        for pdata in original_probedata:\n",
    "            assert pdata['sessionId'] == pid\n",
    "            assert pdata['navgridname'] == first_step['gridname']\n",
    "            assert pdata['round'] == r\n",
    "            if pid in memory_participants:\n",
    "                new_pdata = {\n",
    "                    k: pdata[k] for k in ['probegridname_mem', 'navgridname', 'probeobs', 'queryround', 'true_color']\n",
    "                }\n",
    "                new_pdata['probetype'] = \"memory\"\n",
    "            elif pid in attn_participants:\n",
    "                new_pdata = {\n",
    "                    k: pdata[k] for k in \n",
    "                    ['probeobs', 'queryround', 'navgridname']\n",
    "                }\n",
    "                new_pdata['probetype'] = \"attention\"\n",
    "            else:\n",
    "                raise ValueError(\"unrecognized participant\")\n",
    "            probeparams.append(new_pdata)\n",
    "        round_params = {\n",
    "            \"navparams\": {\n",
    "                \"sessionId\": pid,\n",
    "                \"round\": r,\n",
    "                \"gridname\": first_step['gridname'],\n",
    "                \"initrt\": first_step['rt'].item(),\n",
    "            },\n",
    "            \"probeparams\": probeparams\n",
    "        }\n",
    "        resp['rounds'].append(round_params)\n",
    "    exp3_resp.append(resp)"
   ]
  },
  {
   "cell_type": "code",
   "execution_count": 11,
   "metadata": {},
   "outputs": [
    {
     "data": {
      "image/png": "[encoded data removed]",
      "text/plain": [
       "<Figure size 432x288 with 1 Axes>"
      ]
     },
     "metadata": {
      "needs_background": "light"
     },
     "output_type": "display_data"
    }
   ],
   "source": [
    "rts = sum([[r['navparams']['initrt'] for r in resp['rounds']] for resp in exp3_resp], [])\n",
    "_ = pd.Series(np.log(rts)).hist(bins=30).set_title(\"Initial Log RT dist\")"
   ]
  },
  {
   "cell_type": "code",
   "execution_count": 12,
   "metadata": {},
   "outputs": [
    {
     "data": {
      "text/plain": [
       "<AxesSubplot:>"
      ]
     },
     "execution_count": 12,
     "metadata": {},
     "output_type": "execute_result"
    },
    {
     "data": {
      "image/png": "[encoded data removed]",
      "text/plain": [
       "<Figure size 432x288 with 1 Axes>"
      ]
     },
     "metadata": {
      "needs_background": "light"
     },
     "output_type": "display_data"
    }
   ],
   "source": [
    "def rt_summary(rts):\n",
    "    return {\n",
    "        'mean': np.mean(rts),\n",
    "        'std': np.std(rts),\n",
    "        'median': np.median(rts),\n",
    "        'max': np.max(rts),\n",
    "        'min': np.min(rts),\n",
    "        'less_than_sec': np.mean([rt < 1000 for rt in rts])\n",
    "    }\n",
    "rt_stats = pd.DataFrame([{\n",
    "        **rt_summary([r['navparams']['initrt'] for r in resp['rounds']]),\n",
    "        'sessionId': resp['sessionId']\n",
    "    }\n",
    "    for resp in exp3_resp])\n",
    "rt_stats['less_than_sec'].hist(bins=15)"
   ]
  },
  {
   "cell_type": "code",
   "execution_count": 13,
   "metadata": {},
   "outputs": [
    {
     "data": {
      "image/png": "[encoded data removed]",
      "text/plain": [
       "<Figure size 432x288 with 1 Axes>"
      ]
     },
     "metadata": {
      "needs_background": "light"
     },
     "output_type": "display_data"
    }
   ],
   "source": [
    "INITIAL_RT_MAX = 30000\n",
    "INITIAL_RT_MIN = 600\n",
    "_ = pd.Series([rt for rt in rts if INITIAL_RT_MIN < rt < INITIAL_RT_MAX]).hist(bins=50).set_title(\"Initial RT dist\")"
   ]
  },
  {
   "cell_type": "code",
   "execution_count": 14,
   "metadata": {},
   "outputs": [
    {
     "data": {
      "text/plain": [
       "0.9719551282051282"
      ]
     },
     "execution_count": 14,
     "metadata": {},
     "output_type": "execute_result"
    }
   ],
   "source": [
    "#prop of trials falling inside cutoff range\n",
    "np.mean([INITIAL_RT_MIN < rt < INITIAL_RT_MAX for rt in rts])"
   ]
  },
  {
   "cell_type": "code",
   "execution_count": 15,
   "metadata": {},
   "outputs": [],
   "source": [
    "ALL_GRIDNAMES = [\"grid-12\", \"grid-13\", \"grid-14\", \"grid-15\"]\n",
    "#transforms not used in original exp\n",
    "UNUSED_TRANSFORMS = \\\n",
    "    set(['base', 'rot90', 'rot180', 'rot270', 'vflip', 'hflip', 'trans', 'rtrans']) -\\\n",
    "    set(exp3_filt_nt.trans.unique())\n",
    "MIN_DOT_ONSET_MS = 100\n",
    "MIN_DOT_OFFSET_MS = 0\n",
    "DOT_DURATION = 1500\n",
    "MIN_DOT_ONSET_TIMEFRAME_PROP = .5\n",
    "\n",
    "#...\n",
    "def process_original_navigation(navparams):\n",
    "    navparams = copy.deepcopy(navparams)\n",
    "#     navparams['grid'] = f\"gridB-{navparams['gridname'].split('-')[1]}-0\"\n",
    "    navparams['grid'] = f\"grid-{navparams['gridname'].split('-')[1]}\"\n",
    "    navparams['transform'] = navparams['gridname'].split('-')[3]\n",
    "    navparams[\"original_gridname\"] = navparams[\"gridname\"]\n",
    "    del navparams['gridname']\n",
    "    navparams[\"original_sessionId\"] = navparams[\"sessionId\"]\n",
    "    del navparams['sessionId']\n",
    "    navparams[\"TRIAL_DURATION_MS\"] = max(min(navparams['initrt'], INITIAL_RT_MAX), INITIAL_RT_MIN)\n",
    "    del navparams['initrt']\n",
    "    navparams['is_yoked'] = True\n",
    "    return navparams\n",
    "@lru_cache(maxsize=None)\n",
    "def make_gridworld(arr):\n",
    "    gw = GridWorld(arr, absorbing_features=('G',), initial_features=('S'))\n",
    "    return gw"
   ]
  },
  {
   "cell_type": "code",
   "execution_count": 16,
   "metadata": {},
   "outputs": [],
   "source": [
    "def create_GridWatchDot_config(*, trialparams, default_taskparams, basegrids, hasDot, rng):\n",
    "    trans_grid = gridutils.transformations[trialparams['transform']](basegrids[trialparams['grid']])\n",
    "    gw = make_gridworld(tuple(trans_grid))\n",
    "    dotAppearances = []\n",
    "    if hasDot:\n",
    "        # choose a random location on the grid to put the dot\n",
    "        grid_locs = [s for s in gw.state_list if not gw.is_terminal(s)]\n",
    "        assert len(grid_locs) == len(\"\".join(trans_grid))\n",
    "        dot_s = grid_locs[rng.sample(range(len(grid_locs)), k=1)[0]]\n",
    "        starttime_ms = max(trialparams['TRIAL_DURATION_MS'] - DOT_DURATION, MIN_DOT_ONSET_MS)\n",
    "        dot_duration = DOT_DURATION if (trialparams['TRIAL_DURATION_MS'] > DOT_DURATION) else (trialparams['TRIAL_DURATION_MS'] - MIN_DOT_ONSET_MS)\n",
    "        assert MIN_DOT_ONSET_MS <= starttime_ms\n",
    "        dotAppearances = [{\n",
    "            **dot_s,\n",
    "            \"time_ms\": starttime_ms,\n",
    "            \"duration_ms\": dot_duration\n",
    "        }]\n",
    "    params = {\n",
    "        'trialparams': {\n",
    "            **trialparams,\n",
    "            \"dotAppearances\": dotAppearances,\n",
    "            \"roundtype\": \"main\"\n",
    "        },\n",
    "        \"taskparams\": {\n",
    "            **copy.deepcopy(default_taskparams),\n",
    "            \"feature_array\": trans_grid,\n",
    "            \"init_state\": [gw.initial_states[0]['x'], gw.initial_states[0]['y']],\n",
    "            \"absorbing_states\":[[s['x'], s['y']] for s in gw.absorbing_states],\n",
    "        },\n",
    "        \"type\": \"GridWatchDot\"\n",
    "    }\n",
    "    return params"
   ]
  },
  {
   "cell_type": "code",
   "execution_count": 17,
   "metadata": {},
   "outputs": [],
   "source": [
    "def create_attention_probe_configs(*, probeparams, nav_trialconfig, rng):\n",
    "    configs = []\n",
    "    for pp in probeparams:\n",
    "        obs = str(pp['probeobs'])\n",
    "        taskparams = copy.deepcopy(nav_trialconfig['taskparams'])\n",
    "        trialparams = copy.deepcopy(nav_trialconfig['trialparams'])\n",
    "        taskparams[\"feature_colors\"][obs] = '#48D1CC' #MediumTurquoise\n",
    "        assert pp['navgridname'] == trialparams['original_gridname']\n",
    "        assert pp['probetype'] == 'attention'\n",
    "        configs.append({\n",
    "            \"type\": \"GridBlockAttentionQuery\",\n",
    "            \"round\": trialparams['round'],\n",
    "            \"roundtype\": \"attentionquery\",\n",
    "            \"queryround\": pp['queryround'], #the n-th asked about this round\n",
    "            \"probegridparams\": taskparams,\n",
    "            \"navtrialparams\": trialparams,\n",
    "            \"probeobs\": obs,\n",
    "            \"questiontext\": \"How aware of the highlighted tiles were you at any point?\"\n",
    "        })\n",
    "    return configs"
   ]
  },
  {
   "cell_type": "code",
   "execution_count": 18,
   "metadata": {},
   "outputs": [],
   "source": [
    "def create_memory_probe_configs(*, probeparams, nav_trialconfig, mod_grids, rng):\n",
    "    GREEN = '#44A9A0'\n",
    "    YELLOW = \"#DCCB5D\"\n",
    "    configs = []\n",
    "    for pp in probeparams:\n",
    "        obs = str(pp['probeobs'])\n",
    "        mod_obs = dict(zip(\"0123456\", \"ABCDEFG\"))[obs]\n",
    "        taskparams = copy.deepcopy(nav_trialconfig['taskparams'])\n",
    "        trialparams = copy.deepcopy(nav_trialconfig['trialparams'])\n",
    "        taskparams[\"feature_colors\"][obs] = '#48D1CC' #MediumTurquoise\n",
    "        assert pp['navgridname'] == trialparams['original_gridname']\n",
    "        assert pp['probetype'] == 'memory'\n",
    "        \n",
    "        #color of correct answer\n",
    "        if pp['true_color'] == \"Green\":\n",
    "            true_color = GREEN\n",
    "            mod_color = YELLOW\n",
    "        elif pp['true_color'] == \"Yellow\":\n",
    "            true_color = YELLOW\n",
    "            mod_color = GREEN\n",
    "        else:\n",
    "            raise Exception(\"unknown color\")\n",
    "        \n",
    "        # probegridparams\n",
    "        grid = trialparams['grid']\n",
    "        transform = trialparams['transform']\n",
    "        tgrid = gridutils.transformations[transform](mod_grids[grid])\n",
    "        probegridparams = {\n",
    "            **copy.deepcopy(taskparams),\n",
    "            'feature_colors': {\n",
    "                \"#\": \"black\",\n",
    "                obs: true_color,\n",
    "                mod_obs: mod_color\n",
    "            },\n",
    "            'feature_array': tgrid,\n",
    "        }\n",
    "        configs.append({\n",
    "            'dontSave': ['initResponse', 'navtrialparams', 'questiontext', 'stimuli', 'validResponses', 'responseEndLabels'],\n",
    "            'initResponse': \"?\",\n",
    "            'mod_color': mod_color,\n",
    "            'navtrialparams': trialparams,\n",
    "            'grid': grid,\n",
    "            'transform': transform,\n",
    "            'probeobs': obs,\n",
    "            'queryround': pp['queryround'],\n",
    "            'questiontext': \"Blue tiles were <b>either</b> in the yellow <b>or</b> green location (not both), which one was it?\",\n",
    "            \"responseEndLabels\": [\"\", \"\"],\n",
    "            \"responseLabels\": [\"Yellow\", \"?\", \"Green\"],\n",
    "            'round': trialparams['round'],\n",
    "            'roundtype': \"probe_2afc\",\n",
    "            'stimuli': [{\n",
    "                \"TILE_SIZE\": 25,\n",
    "                \"gridworldparams\": probegridparams,\n",
    "                \"type\": \"gridworld\"\n",
    "            }],\n",
    "            'true_color': true_color,\n",
    "            \"type\": \"CustomItem\",\n",
    "            \"validResponses\": [\"Yellow\", \"Green\"]\n",
    "        })\n",
    "        configs.append({\n",
    "            'dontSave': ['initResponse', 'navtrialparams', 'questiontext', 'stimuli', 'validResponses', 'responseEndLabels'],\n",
    "            'initResponse': \"?\",\n",
    "            'mod_color': mod_color,\n",
    "            'navtrialparams': trialparams,\n",
    "            'grid': grid,\n",
    "            'transform': transform,\n",
    "            'probeobs': obs,\n",
    "            'queryround': pp['queryround'],\n",
    "            'questiontext': \"How confident are you?\",\n",
    "            \"responseEndLabels\": [\"I guessed\", \"I'm certain\"],\n",
    "            \"responseLabels\": [1, 2, 3, 4, \"?\", 5, 6, 7, 8],\n",
    "            'round': trialparams['round'],\n",
    "            'roundtype': \"probe_conf\",\n",
    "            'stimuli': [{\n",
    "                \"TILE_SIZE\": 25,\n",
    "                \"gridworldparams\": probegridparams,\n",
    "                \"type\": \"gridworld\"\n",
    "            }],\n",
    "            'true_color': true_color,\n",
    "            \"type\": \"CustomItem\",\n",
    "            \"validResponses\": [1, 2, 3, 4, 5, 6, 7, 8]\n",
    "        })\n",
    "    return configs"
   ]
  },
  {
   "cell_type": "code",
   "execution_count": 19,
   "metadata": {},
   "outputs": [],
   "source": [
    "def sample_maintrial_configs(*, resp, basegrids, mod_grids, default_trialparams, default_taskparams, rng):\n",
    "    crit_trialparams = []\n",
    "    for navtrial in resp['rounds']:\n",
    "        crit_params = process_original_navigation(navtrial['navparams'])\n",
    "        crit_params['probeparams'] = navtrial['probeparams']\n",
    "        crit_trialparams.append(crit_params)\n",
    "    #generate dummy trials\n",
    "    dum_combos = set(product(ALL_GRIDNAMES, UNUSED_TRANSFORMS)) - set([(t['grid'], t['transform']) for t in crit_trialparams])\n",
    "    dum_combos = sorted(dum_combos, key=lambda _: rng.random())[:8]\n",
    "    dum_trialdur = sorted([t['TRIAL_DURATION_MS'] for t in crit_trialparams], key=lambda _: rng.random())\n",
    "    dummy_trialparams = []\n",
    "    for (gn, trans), trialdur in zip(dum_combos, dum_trialdur):\n",
    "        dummy_trialparams.append({\n",
    "            'is_yoked': False,\n",
    "            'hasDot': True,\n",
    "            'grid': gn,\n",
    "            'transform': trans,\n",
    "            'TRIAL_DURATION_MS': trialdur\n",
    "        })\n",
    "    #generate trial sequence\n",
    "    initial_dummy_trialparams = copy.deepcopy(dummy_trialparams)\n",
    "    init_dum_dot = sorted([True, False]*(len(dummy_trialparams)//2), key=lambda _: rng.random())\n",
    "    sampsat.condition(sampsat.no_repeat(init_dum_dot, repeat_size=3))\n",
    "    for tp in initial_dummy_trialparams:\n",
    "        tp['hasDot'] = init_dum_dot.pop(0)\n",
    "    nav_trialparams = []\n",
    "    while crit_trialparams + dummy_trialparams:\n",
    "        if rng.randint(0, 1):\n",
    "            nav_trialparams.append(crit_trialparams.pop(0))\n",
    "        else:\n",
    "            nav_trialparams.append(dummy_trialparams.pop(0))\n",
    "        if not dummy_trialparams:\n",
    "            nav_trialparams.extend(crit_trialparams)\n",
    "            break\n",
    "        if not crit_trialparams:\n",
    "            nav_trialparams.extend(dummy_trialparams)\n",
    "            break\n",
    "    #randomly generate timeline configurations, including inter-trial \n",
    "    sampsat.condition(sampsat.no_repeat([t['is_yoked'] for t in nav_trialparams], repeat_size=3))\n",
    "    nav_trialparams = sorted(initial_dummy_trialparams, key=lambda _: rng.random()) + nav_trialparams\n",
    "    sampsat.condition(sampsat.no_repeat([(t['grid'], t['transform']) for t in nav_trialparams], repeat_size=2))\n",
    "    sampsat.condition(sampsat.no_repeat([t['grid'] for t in nav_trialparams], repeat_size=3))\n",
    "    sampsat.condition(sampsat.no_repeat([t['transform'] for t in nav_trialparams], repeat_size=3))\n",
    "    intertrial_pause = {\n",
    "        \"type\": \"CustomInstructions\",\n",
    "        \"instructions\": \"&nbsp;\",\n",
    "        \"auto_continue\": True,\n",
    "        \"continue_wait_time\": 2000,\n",
    "    }\n",
    "    timeline = []\n",
    "    probetype = None\n",
    "    for ntp_i, ntp in enumerate(nav_trialparams):\n",
    "        hasDot = ntp.get('hasDot', False)\n",
    "        nav_trialconfig = create_GridWatchDot_config(\n",
    "            trialparams={**default_trialparams, **ntp, \"round\": ntp_i}, \n",
    "            default_taskparams=default_taskparams,\n",
    "            basegrids=basegrids,\n",
    "            hasDot=hasDot,\n",
    "            rng=rng\n",
    "        )\n",
    "        timeline.append(nav_trialconfig)\n",
    "        timeline.append({**intertrial_pause})\n",
    "        if nav_trialconfig['trialparams']['is_yoked']:\n",
    "            if ntp['probeparams'][0]['probetype'] == \"memory\":\n",
    "                probe_configs = create_memory_probe_configs(\n",
    "                    probeparams=ntp['probeparams'],\n",
    "                    nav_trialconfig=nav_trialconfig,\n",
    "                    mod_grids=mod_grids,\n",
    "                    rng=rng\n",
    "                )\n",
    "                probetype = \"memory\"\n",
    "            elif ntp['probeparams'][0]['probetype'] == 'attention':\n",
    "                probe_configs = create_attention_probe_configs(\n",
    "                    probeparams=ntp['probeparams'],\n",
    "                    nav_trialconfig=nav_trialconfig,\n",
    "                    rng=rng\n",
    "                )\n",
    "                probetype = \"attention\"\n",
    "            timeline.extend(probe_configs)\n",
    "    \n",
    "    #how many main trials in total\n",
    "    if probetype == 'memory':\n",
    "        assert len(timeline) == 2*8 + 2*8 + 2*5*8 + 2*8\n",
    "    elif probetype == 'attention':\n",
    "        assert len(timeline) == 2*8 + 2*8 + 5*8 + 2*8\n",
    "    # every grid should be the same size\n",
    "    assert len(set([len(\"\".join(t['taskparams']['feature_array'])) for t in timeline if 'taskparams' in t])) == 1\n",
    "    return timeline"
   ]
  },
  {
   "cell_type": "code",
   "execution_count": 20,
   "metadata": {},
   "outputs": [
    {
     "name": "stderr",
     "output_type": "stream",
     "text": [
      "100%|██████████| 156/156 [00:06<00:00, 25.92it/s]\n"
     ]
    }
   ],
   "source": [
    "import tqdm\n",
    "default_taskparams = {\n",
    "    \"feature_colors\": {\n",
    "        \"#\": \"black\",\n",
    "        \"G\": \"yellow\",\n",
    "        \"S\": \"white\",\n",
    "        \".\": \"white\",\n",
    "        **{i: \"mediumblue\" for i in \"0123456\"}\n",
    "    },\n",
    "    \"wall_features\": [\"#\", ] + list(\"0123456\"),\n",
    "    \"show_rewards\": False,   \n",
    "}\n",
    "default_trialparams = {\n",
    "    \"dotAppearances\": [],\n",
    "    \"catchBonusDollars\": .02,\n",
    "    \"TRIAL_DURATION_MS\": 10000,\n",
    "    \"DOT_RADIUS\": .1,\n",
    "    \"TILE_SIZE\": 40,\n",
    "    'EXPERIMENT_CODE_VERSION': EXPERIMENT_CODE_VERSION\n",
    "}\n",
    "basegrids = json.load(open(\"../mazes/mazes_12-15.json\", 'r'))\n",
    "mod_grids = json.load(open(\"../mazes/mazes_12-15_mod.json\", 'r'))\n",
    "rng_seed = 493319\n",
    "rng = random.Random(rng_seed)\n",
    "timelines = []\n",
    "for resp in tqdm.tqdm(exp3_resp):\n",
    "    instruction_config = generate_instructions(\n",
    "        default_trialparams,\n",
    "        default_taskparams,\n",
    "        probetype=\"attention\"\n",
    "    )\n",
    "    main_config = sampsat.rejection(lambda : sample_maintrial_configs(\n",
    "        resp=resp,\n",
    "        basegrids=basegrids,\n",
    "        mod_grids=mod_grids,\n",
    "        default_trialparams=default_trialparams,\n",
    "        default_taskparams=default_taskparams,\n",
    "        rng=rng\n",
    "    ), debug=False)\n",
    "    posttask_config = generate_posttask()\n",
    "    timelines.append(instruction_config + main_config + posttask_config)"
   ]
  },
  {
   "cell_type": "code",
   "execution_count": 21,
   "metadata": {},
   "outputs": [
    {
     "data": {
      "image/png": "[encoded data removed]",
      "text/plain": [
       "<Figure size 432x288 with 1 Axes>"
      ]
     },
     "metadata": {
      "needs_background": "light"
     },
     "output_type": "display_data"
    }
   ],
   "source": [
    "#properties of response times\n",
    "yoked_rts = []\n",
    "dot_durations = []\n",
    "for tl in timelines:\n",
    "    for t in tl:\n",
    "        if t['type'] == \"GridWatchDot\" and t['trialparams'].get('is_yoked', False):\n",
    "            yoked_rts.append(t['trialparams']['TRIAL_DURATION_MS'])\n",
    "        if t['type'] == \"GridWatchDot\" and t['trialparams']['dotAppearances'] and t['trialparams']['roundtype'] == 'main':\n",
    "            dot_durations.append(t['trialparams']['dotAppearances'][0]['duration_ms'])\n",
    "pd.Series(np.log(yoked_rts)).hist(bins=25)\n",
    "assert np.mean(yoked_rts) > 3000\n",
    "assert all(pd.Series(dot_durations) <= 1500)"
   ]
  },
  {
   "cell_type": "code",
   "execution_count": 22,
   "metadata": {},
   "outputs": [
    {
     "data": {
      "text/plain": [
       "<AxesSubplot:>"
      ]
     },
     "execution_count": 22,
     "metadata": {},
     "output_type": "execute_result"
    },
    {
     "data": {
      "image/png": "[encoded data removed]",
      "text/plain": [
       "<Figure size 432x288 with 1 Axes>"
      ]
     },
     "metadata": {
      "needs_background": "light"
     },
     "output_type": "display_data"
    }
   ],
   "source": [
    "pd.Series(dot_durations).hist(bins=25)"
   ]
  },
  {
   "cell_type": "code",
   "execution_count": 23,
   "metadata": {},
   "outputs": [
    {
     "data": {
      "text/plain": [
       "0.8963675213675214"
      ]
     },
     "execution_count": 23,
     "metadata": {},
     "output_type": "execute_result"
    }
   ],
   "source": [
    "(pd.Series(dot_durations) >= 1000).mean()"
   ]
  },
  {
   "cell_type": "code",
   "execution_count": 24,
   "metadata": {},
   "outputs": [
    {
     "data": {
      "text/plain": [
       "0.9150641025641025"
      ]
     },
     "execution_count": 24,
     "metadata": {},
     "output_type": "execute_result"
    }
   ],
   "source": [
    "(pd.Series(yoked_rts) >= 1000).mean()"
   ]
  },
  {
   "cell_type": "code",
   "execution_count": 25,
   "metadata": {},
   "outputs": [
    {
     "data": {
      "image/png": "[encoded data removed]",
      "text/plain": [
       "<Figure size 432x288 with 1 Axes>"
      ]
     },
     "metadata": {
      "needs_background": "light"
     },
     "output_type": "display_data"
    }
   ],
   "source": [
    "import matplotlib.pyplot as plt\n",
    "_ = plt.hist(np.log(yoked_rts),cumulative=True, density=True, bins=30)"
   ]
  },
  {
   "cell_type": "code",
   "execution_count": 26,
   "metadata": {},
   "outputs": [
    {
     "data": {
      "image/png": "[encoded data removed]",
      "text/plain": [
       "<Figure size 432x288 with 1 Axes>"
      ]
     },
     "metadata": {
      "needs_background": "light"
     },
     "output_type": "display_data"
    }
   ],
   "source": [
    "_ = plt.hist(yoked_rts,cumulative=True, density=True, bins=30)"
   ]
  },
  {
   "cell_type": "code",
   "execution_count": 27,
   "metadata": {},
   "outputs": [],
   "source": [
    "#check general features of grids\n",
    "shape = lambda g: (len(g[0]), len(g))\n",
    "N_MAIN_TRIALS = 16 + 8\n",
    "N_PROBE_TRIALS = 8*5, 8*5*2\n",
    "GRID_SHAPE = (13, 13)\n",
    "for tl in timelines:\n",
    "    #test correct number of main trials\n",
    "    assert len([t for t in tl if t.get('trialparams', False) and t['trialparams']['roundtype'] == 'main']) == N_MAIN_TRIALS\n",
    "    #test number of probe trials\n",
    "    assert len([t for t in tl if t.get('probeobs', False)]) in N_PROBE_TRIALS\n",
    "    #test all grids are the same size (including practice)\n",
    "    assert set([shape(t['taskparams']['feature_array']) for t in tl if t.get('taskparams', False)]) == {GRID_SHAPE}"
   ]
  },
  {
   "cell_type": "markdown",
   "metadata": {},
   "source": [
    "# SAVE EXPERIMENT CONFIGURATIONS"
   ]
  },
  {
   "cell_type": "code",
   "execution_count": 28,
   "metadata": {},
   "outputs": [],
   "source": [
    "import configparser\n",
    "import datetime\n",
    "\n",
    "EXP_CONFIG_DIR = \"../../experiment.psiturkapp/static/config/\"\n",
    "EXP_CONFIG_FILE = EXP_CONFIG_DIR+\"config.json.zip\"\n",
    "PSITURKAPP_CONFIG = \"../../experiment.psiturkapp/config.txt\"\n",
    "\n",
    "#####################\n",
    "params = {\n",
    "    \"EXPERIMENT_CODE_VERSION\": EXPERIMENT_CODE_VERSION,\n",
    "    \"maintrials_seed\": rng_seed,\n",
    "    \"expectedTime\": EXPECTED_TIME,\n",
    "    \"config_creation_time\": str(datetime.datetime.now()),\n",
    "    \"recruitment_platform\": \"prolific\"\n",
    "}\n",
    "experiment_config = {\n",
    "    \"timelines\": timelines,\n",
    "    \"params\": params,\n",
    "    \"preloadImages\": [\n",
    "        \"static/images/bluedotgrid.png\", \n",
    "        \"static/images/goalsquare.png\",\n",
    "        \"static/images/green_goal.png\",\n",
    "        \"static/images/x_start.png\"\n",
    "    ]\n",
    "}\n"
   ]
  },
  {
   "cell_type": "code",
   "execution_count": 29,
   "metadata": {},
   "outputs": [
    {
     "name": "stdout",
     "output_type": "stream",
     "text": [
      "156 conditions\n",
      "b'' None\n",
      "b'' None\n"
     ]
    }
   ],
   "source": [
    "# UPDATE PSITURK APP\n",
    "import zipfile\n",
    "json.dump(experiment_config,\n",
    "          open(f\"config.json\", \"w\"), separators=(',', ':'))\n",
    "zipfile.ZipFile(\"config.json.zip\", mode=\"w\", compression=zipfile.ZIP_DEFLATED).write(\"config.json\")\n",
    "\n",
    "config = configparser.ConfigParser()\n",
    "res = config.read(PSITURKAPP_CONFIG)\n",
    "assert len(res) > 0\n",
    "config[\"Task Parameters\"][\"experiment_code_version\"] = EXPERIMENT_CODE_VERSION\n",
    "config[\"Task Parameters\"][\"num_conds\"] = str(len(experiment_config['timelines']))\n",
    "print(f\"{len(experiment_config['timelines'])} conditions\")\n",
    "with open(PSITURKAPP_CONFIG, 'w') as configfile:\n",
    "    config.write(configfile)\n",
    "    \n",
    "import subprocess\n",
    "process = subprocess.Popen(f\"cp config.json.zip {EXP_CONFIG_FILE}\".split(), stdout=subprocess.PIPE)\n",
    "output, error = process.communicate()\n",
    "print(output, error)\n",
    "process = subprocess.Popen(f\"cp config.json.zip {EXP_CONFIG_DIR + '/config-' + EXPERIMENT_CODE_VERSION}.json.zip\".split(), stdout=subprocess.PIPE)\n",
    "output, error = process.communicate()\n",
    "print(output, error)"
   ]
  }
 ],
 "metadata": {
  "kernelspec": {
   "display_name": "Python 3 (ipykernel)",
   "language": "python",
   "name": "python3"
  },
  "language_info": {
   "codemirror_mode": {
    "name": "ipython",
    "version": 3
   },
   "file_extension": ".py",
   "mimetype": "text/x-python",
   "name": "python",
   "nbconvert_exporter": "python",
   "pygments_lexer": "ipython3",
   "version": "3.7.4"
  }
 },
 "nbformat": 4,
 "nbformat_minor": 4
}
