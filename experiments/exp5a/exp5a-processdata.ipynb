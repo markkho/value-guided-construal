{
 "cells": [
  {
   "cell_type": "markdown",
   "metadata": {},
   "source": [
    "# Perceptual Control A - Process Data\n",
    "\n",
    "Note: this includes the logic for updating the database for excluded participants"
   ]
  },
  {
   "cell_type": "code",
   "execution_count": 1,
   "metadata": {},
   "outputs": [],
   "source": [
    "import urllib.request\n",
    "from functools import lru_cache\n",
    "import datetime\n",
    "import csv, json\n",
    "import pandas as pd\n",
    "import numpy as np\n",
    "import matplotlib.pyplot as plt\n",
    "\n",
    "from msdm.domains import GridWorld\n",
    "from msdm.algorithms import PolicyIteration\n",
    "from vgc_project import gridutils, sampsat"
   ]
  },
  {
   "cell_type": "code",
   "execution_count": 2,
   "metadata": {},
   "outputs": [],
   "source": [
    "# load experiment parameters\n",
    "expConfig = json.load(open(\"config.json\", 'r'))\n",
    "EXPERIMENT_CODE_VERSION = expConfig['params']['EXPERIMENT_CODE_VERSION']\n",
    "cond1 = expConfig['timelines'][0]\n",
    "basegrids = json.load(open(\"../mazes/mazes_0-11.json\", \"r\"))\n",
    "\n",
    "CREDENTIALS = json.load(open(\"../credentials.json\", 'r'))\n",
    "EXPURL = CREDENTIALS[\"EXPURL\"]\n",
    "USERNAME = CREDENTIALS[\"USERNAME\"]\n",
    "PASSWORD = CREDENTIALS[\"PASSWORD\"]\n",
    "print(\"Credentials:\")\n",
    "print(CREDENTIALS)\n",
    "\n",
    "DESTDIR = \"./data/\"\n",
    "if not os.path.exists(DESTDIR):\n",
    "    os.mkdir(DESTDIR)\n",
    "sourcedest = [\n",
    "    (f\"data/{EXPERIMENT_CODE_VERSION}/trialdata\", DESTDIR+\"rawtrialdata.csv\"),\n",
    "    (f\"data/{EXPERIMENT_CODE_VERSION}/questiondata\", DESTDIR+\"rawquestiondata.csv\"),\n",
    "    (f\"data/{EXPERIMENT_CODE_VERSION}/bonusdata\", DESTDIR+\"rawbonusdata.csv\"),\n",
    "    (f\"data/{EXPERIMENT_CODE_VERSION}/conditiondata\", DESTDIR+\"rawconditiondata.csv\")\n",
    "]\n",
    "\n",
    "password_mgr = urllib.request.HTTPPasswordMgrWithDefaultRealm()\n",
    "password_mgr.add_password(None, EXPURL, USERNAME, PASSWORD)\n",
    "handler = urllib.request.HTTPBasicAuthHandler(password_mgr)"
   ]
  },
  {
   "cell_type": "code",
   "execution_count": 3,
   "metadata": {},
   "outputs": [],
   "source": [
    "for SOURCE, DEST in sourcedest:\n",
    "    opener = urllib.request.build_opener(handler)\n",
    "    opener.open(EXPURL+SOURCE)\n",
    "    urllib.request.install_opener(opener)\n",
    "    urllib.request.urlretrieve(EXPURL+SOURCE, DEST)   "
   ]
  },
  {
   "cell_type": "code",
   "execution_count": 4,
   "metadata": {},
   "outputs": [],
   "source": [
    "csv.field_size_limit(sys.maxsize)\n",
    "trialdata = [line for line in csv.reader(open(sourcedest[0][1], 'r'))]\n",
    "questiondata = [line for line in csv.reader(open(sourcedest[1][1], 'r'))]\n",
    "bonusdata = [line for line in csv.reader(open(sourcedest[2][1], 'r'))]\n",
    "conditiondata = [line for line in csv.reader(open(sourcedest[3][1], 'r'))]"
   ]
  },
  {
   "cell_type": "code",
   "execution_count": 5,
   "metadata": {},
   "outputs": [],
   "source": [
    "psiturk_conditions = pd.DataFrame(conditiondata, columns=['psiturk_id', 'condition'])"
   ]
  },
  {
   "cell_type": "code",
   "execution_count": 6,
   "metadata": {},
   "outputs": [],
   "source": [
    "trials = []\n",
    "errors = []\n",
    "for psiturk_id, idx, datetime_ms, entry in trialdata:\n",
    "    if \"debug\" in psiturk_id:\n",
    "        continue\n",
    "    datetime_ms = datetime.datetime.fromtimestamp(float(datetime_ms)/1000.)\n",
    "    idx = int(idx)\n",
    "    entry = json.loads(entry)\n",
    "    try:\n",
    "        assert idx == entry['trial_index']\n",
    "    except AssertionError as e :\n",
    "        errors.append((e, psiturk_id, idx, datetime_ms, entry))\n",
    "    trials.append({\n",
    "        \"psiturk_id\": psiturk_id,\n",
    "        \"idx\": idx,\n",
    "        \"datetime_ms\": datetime_ms,\n",
    "        \"data\": entry.get(\"data\", None),\n",
    "        \"trial_type\": entry['trial_type'],\n",
    "        \"time_elapsed\": entry['time_elapsed'],\n",
    "        \"internal_node_id\": float(entry[\"internal_node_id\"].split(\"-\")[1])\n",
    "    })\n",
    "trials = pd.DataFrame(trials)\n",
    "trials = trials[trials.psiturk_id.apply(lambda p: \"debug\" not in p)]"
   ]
  },
  {
   "cell_type": "code",
   "execution_count": 7,
   "metadata": {},
   "outputs": [
    {
     "name": "stdout",
     "output_type": "stream",
     "text": [
      "172.0    167\n",
      "12.0       8\n",
      "1.0        4\n",
      "4.0        3\n",
      "5.0        3\n",
      "39.0       1\n",
      "38.0       1\n",
      "11.0       1\n",
      "3.0        1\n",
      "Name: internal_node_id, dtype: int64\n"
     ]
    }
   ],
   "source": [
    "print(trials.groupby('psiturk_id')['internal_node_id'].max().value_counts())"
   ]
  },
  {
   "cell_type": "code",
   "execution_count": 8,
   "metadata": {},
   "outputs": [],
   "source": [
    "#dot trials\n",
    "dot_trials = trials[(trials.trial_type == \"GridWatchDot\")]\n",
    "dot_trials = dot_trials[(dot_trials.data.apply(lambda d: d['trialparams']['roundtype'] != \"practice\"))]\n",
    "dot_trials = pd.concat([\n",
    "    pd.DataFrame({\n",
    "        \"psiturk_id\": dot_trials.psiturk_id,\n",
    "    }).reset_index(drop=True),\n",
    "    pd.DataFrame(list(dot_trials.data.apply(lambda d: {**d['trialparams'], **{k: v for k, v in d.items() if k not in ['trialparams', 'taskparams']}}).values))\n",
    "], axis=1)\n",
    "dot_trials['dot_duration_ms'] = dot_trials['dotAppearances'].apply(lambda da: da[0]['duration_ms'] if da else float('NaN'))\n",
    "dot_trials = dot_trials[['original_gridname', 'original_sessionId', 'psiturk_id', 'sessionId', 'TRIAL_DURATION_MS', 'is_yoked', 'hasDot', 'grid', \n",
    "                         'transform', 'round', 'dotCatches', 'dotMisfires', 'dot_duration_ms']].reset_index(drop=True)\n",
    "dot_trials.hasDot = dot_trials.hasDot.fillna(False)\n",
    "dot_trials['correct'] = dot_trials.apply(lambda r: bool(r['dotCatches']) if r['hasDot'] else (r['dotMisfires'] == 0), axis=1)\n",
    "dot_trials['bonus'] = dot_trials['correct']*.02\n",
    "bonusdf = dot_trials[['psiturk_id', 'bonus']]"
   ]
  },
  {
   "cell_type": "code",
   "execution_count": 9,
   "metadata": {},
   "outputs": [
    {
     "data": {
      "text/plain": [
       "mean      0.750493\n",
       "median    0.777778\n",
       "sem       0.014914\n",
       "Name: dotCatches, dtype: float64"
      ]
     },
     "metadata": {},
     "output_type": "display_data"
    },
    {
     "data": {
      "text/plain": [
       "(0.0, 1.0)"
      ]
     },
     "execution_count": 9,
     "metadata": {},
     "output_type": "execute_result"
    },
    {
     "data": {
      "image/png": "[encoded data removed]",
      "text/plain": [
       "<Figure size 432x288 with 1 Axes>"
      ]
     },
     "metadata": {
      "needs_background": "light"
     },
     "output_type": "display_data"
    }
   ],
   "source": [
    "g = dot_trials[dot_trials['hasDot']].groupby(\"sessionId\")['dotCatches'].mean().hist()\n",
    "display(dot_trials[dot_trials['hasDot']].groupby(\"sessionId\")['dotCatches'].mean().agg(['mean', 'median', 'sem']))\n",
    "g.set_xlim(0, 1)"
   ]
  },
  {
   "cell_type": "code",
   "execution_count": 10,
   "metadata": {},
   "outputs": [
    {
     "data": {
      "text/plain": [
       "mean      0.124119\n",
       "median    0.000000\n",
       "sem       0.015943\n",
       "Name: dotMisfires, dtype: float64"
      ]
     },
     "metadata": {},
     "output_type": "display_data"
    },
    {
     "data": {
      "text/plain": [
       "(0.0, 1.0)"
      ]
     },
     "execution_count": 10,
     "metadata": {},
     "output_type": "execute_result"
    },
    {
     "data": {
      "image/png": "[encoded data removed]",
      "text/plain": [
       "<Figure size 432x288 with 1 Axes>"
      ]
     },
     "metadata": {
      "needs_background": "light"
     },
     "output_type": "display_data"
    }
   ],
   "source": [
    "g = dot_trials[~dot_trials['hasDot']].groupby(\"sessionId\")['dotMisfires'].apply(lambda dm: np.mean(dm > 0)).hist()\n",
    "display(dot_trials[~dot_trials['hasDot']].groupby(\"sessionId\")['dotMisfires'].apply(lambda dm: np.mean(dm > 0)).agg(['mean', 'median', 'sem']))\n",
    "g.set_xlim(0, 1)"
   ]
  },
  {
   "cell_type": "code",
   "execution_count": 11,
   "metadata": {},
   "outputs": [],
   "source": [
    "# dot_trials[dot_trials['hasDot']].groupby(\"sessionId\")['dotMisfires'].apply(lambda dm: np.mean(dm > 0))"
   ]
  },
  {
   "cell_type": "code",
   "execution_count": 12,
   "metadata": {},
   "outputs": [
    {
     "data": {
      "text/plain": [
       "<AxesSubplot:xlabel='dot_duration_ms', ylabel='correct'>"
      ]
     },
     "execution_count": 12,
     "metadata": {},
     "output_type": "execute_result"
    },
    {
     "data": {
      "image/png": "[encoded data removed]",
      "text/plain": [
       "<Figure size 432x288 with 1 Axes>"
      ]
     },
     "metadata": {
      "needs_background": "light"
     },
     "output_type": "display_data"
    }
   ],
   "source": [
    "import seaborn as sns\n",
    "sns.scatterplot(data=dot_trials[dot_trials.hasDot], x='dot_duration_ms', y='correct', alpha=.4)"
   ]
  },
  {
   "cell_type": "code",
   "execution_count": 13,
   "metadata": {},
   "outputs": [
    {
     "name": "stdout",
     "output_type": "stream",
     "text": [
      "Data missing for 1 participants\n"
     ]
    },
    {
     "data": {
      "text/html": [
       "<div>\n",
       "<style scoped>\n",
       "    .dataframe tbody tr th:only-of-type {\n",
       "        vertical-align: middle;\n",
       "    }\n",
       "\n",
       "    .dataframe tbody tr th {\n",
       "        vertical-align: top;\n",
       "    }\n",
       "\n",
       "    .dataframe thead th {\n",
       "        text-align: right;\n",
       "    }\n",
       "</style>\n",
       "<table border=\"1\" class=\"dataframe\">\n",
       "  <thead>\n",
       "    <tr style=\"text-align: right;\">\n",
       "      <th></th>\n",
       "      <th>psiturk_id</th>\n",
       "      <th>sessionId</th>\n",
       "      <th>rounds</th>\n",
       "    </tr>\n",
       "  </thead>\n",
       "  <tbody>\n",
       "    <tr>\n",
       "      <th>0</th>\n",
       "      <td>5d9c35e740e5c70017ee9a77:60ce80dd5086fa7ffb2a50ef</td>\n",
       "      <td>azjhZoE2VM</td>\n",
       "      <td>1</td>\n",
       "    </tr>\n",
       "  </tbody>\n",
       "</table>\n",
       "</div>"
      ],
      "text/plain": [
       "                                          psiturk_id   sessionId  rounds\n",
       "0  5d9c35e740e5c70017ee9a77:60ce80dd5086fa7ffb2a50ef  azjhZoE2VM       1"
      ]
     },
     "metadata": {},
     "output_type": "display_data"
    }
   ],
   "source": [
    "#awareness trials\n",
    "attn_trials = trials[(trials.trial_type == \"GridBlockAttentionQuery\")]\n",
    "attn_trials = pd.concat([\n",
    "    pd.DataFrame({\n",
    "        \"psiturk_id\": attn_trials.psiturk_id,\n",
    "    }).reset_index(drop=True),\n",
    "    pd.DataFrame(list(attn_trials.data.values))\n",
    "], axis=1)\n",
    "attn_trials['attn_resp'] = attn_trials['response'].apply(int)\n",
    "attn_trials['attn_resp_N'] = (attn_trials['attn_resp'] - 1)/(8 - 1)\n",
    "attn_trials['rt'] = attn_trials['responsetime'] - attn_trials['starttime']\n",
    "attn_trials['obstacle'] = attn_trials['probeobs']\n",
    "attn_trials['transform'] = attn_trials.navtrialparams.apply(lambda tp: tp['transform'])\n",
    "attn_trials['grid'] = attn_trials.navtrialparams.apply(lambda tp: tp['grid'])\n",
    "attn_trials = attn_trials[['psiturk_id', 'sessionId', 'grid', 'transform', 'round', 'starttime', 'responsetime',\n",
    "                           'queryround', 'obstacle', 'rt', 'response', 'attn_resp', 'attn_resp_N']].reset_index(drop=True)\n",
    "round_count = attn_trials.groupby(['psiturk_id', 'sessionId'])['round'].count()\n",
    "try:\n",
    "    assert all(round_count == 12*7)\n",
    "    pid_missing_data, sid_missing_data = set([]), set([])\n",
    "except AssertionError:\n",
    "    pid_missing_data, sid_missing_data = zip(*round_count[round_count != 12*7].index.values)\n",
    "    pid_missing_data, sid_missing_data = set(pid_missing_data), set(sid_missing_data)\n",
    "    print(f\"Data missing for {len(pid_missing_data)} participants\")\n",
    "    display(round_count[round_count != 12*7].reset_index(name=\"rounds\"))"
   ]
  },
  {
   "cell_type": "code",
   "execution_count": 14,
   "metadata": {},
   "outputs": [],
   "source": [
    "#survey level data\n",
    "survey_trials = trials[(trials.trial_type.isin([\"CustomSurvey\", \"SaveGlobalStore\"]))]\n",
    "survey_trials = pd.concat([\n",
    "    pd.DataFrame({\n",
    "        \"psiturk_id\": survey_trials.psiturk_id,\n",
    "    }).reset_index(drop=True),\n",
    "    pd.DataFrame([d if d else {} for d in survey_trials.data.values])\n",
    "], axis=1)\n",
    "survey_trials = survey_trials.melt(id_vars='psiturk_id', var_name=\"question\", value_name=\"response\")\n",
    "survey_trials = survey_trials[~survey_trials.response.isna()]\n",
    "survey_trials = survey_trials.pivot(index='psiturk_id', columns=\"question\" )\n",
    "survey_trials.columns = survey_trials.columns.droplevel()\n",
    "survey_trials = survey_trials.reset_index()\n",
    "survey_trials.columns.name = None\n",
    "survey_trials = survey_trials[survey_trials['playedGrid'].isin([\"Yes\", \"No\"])].reset_index(drop=True)\n",
    "completed_task = survey_trials['psiturk_id']"
   ]
  },
  {
   "cell_type": "code",
   "execution_count": 15,
   "metadata": {},
   "outputs": [
    {
     "name": "stdout",
     "output_type": "stream",
     "text": [
      "4eNKsr9nc8\n",
      "It was sometimes hard to see the red dot due to floaters in my eye. Interesting experiment.\n",
      "Male\n",
      "\n",
      "cN2BhgxhLW\n",
      "I looked at the overall grid to notice the red dot rather than pay attention to highlighted blocks\n",
      "female\n",
      "\n",
      "9uLEOpLqIp\n",
      "I just concentrated on the whole playing area at once by holding the screen further away so I'd see the red dot as soon as it appeared.\n",
      "male\n",
      "\n",
      "HRkcSNUXfb\n",
      "I was more are of the right-hand side of that square. I am not sure why but I managed to catch the red dot on the left as well. I am curious to know how well did I do? If you could let me know the score in the message that would be great. Cheers, have a great day.\n",
      "Male\n",
      "\n",
      "k8GOj4qwia\n",
      "no\n",
      "Male\n",
      "\n",
      "62lKnRqbkK\n",
      "A very quick moving test.\n",
      "Male\n",
      "\n",
      "UuRpGFe2Yn\n",
      "I wasn't sure what was meant by the 'secondary' question about being aware of the blocks, I was aware of the blocks fairly evenly but later on I decided you were asking if I had noticed those specific shapes in a particular location and orientation, I was vaguely aware of them and where I thought they were. On reflection I overestimated how much I was aware of them, but as the task progressed I began noticing one set of blocks above all of the others.\n",
      "Female\n",
      "\n",
      "VWuJXX2drw\n",
      "I enjoyed that. Very interesting.\n",
      "Male\n",
      "\n",
      "372nnNtNVj\n",
      "No\n",
      "male\n",
      "\n",
      "AqDWV4jbzw\n",
      "I cannot remember where the highlighted areas are, it was quite difficult, and found I was concentrating more on seeing the red dot.\n",
      "Female\n",
      "\n",
      "6ie80n95Jw\n",
      "No \n",
      "Male \n",
      "\n",
      "Fzs82lMnfN\n",
      "N/A\n",
      "Male\n",
      "\n",
      "TdxMegm2yV\n",
      "Quite a test for the eyes!\n",
      "Male\n",
      "\n",
      "851XDuRPsa\n",
      "none\n",
      "male\n",
      "\n",
      "C5Y4kPNMZQ\n",
      "Thank you!\n",
      "Male\n",
      "\n",
      "I5gJUW4yP4\n",
      "it was a good experiment \n",
      "female\n",
      "\n",
      "1VF3oPbOaT\n",
      "No technical problems\n",
      "Female\n",
      "\n",
      "kLXuUleEm6\n",
      "Surprisingly tricky to concentrate on whole grid, but enjoyable!\n",
      "Male\n",
      "\n",
      "bi8Y2NOrBl\n",
      "Interesting study.\n",
      "female\n",
      "\n",
      "0g5l3QhnhI\n",
      "n/a\n",
      "Female\n",
      "\n",
      "kmeltM3dw2\n",
      "No\n",
      "Male\n",
      "\n",
      "seo3fPvzbT\n",
      "None\n",
      "Male\n",
      "\n",
      "9gURbngdRd\n",
      "I enjoyed this experiment! Thank you.\n",
      "Female\n",
      "\n",
      "47m44fzcJN\n",
      "Pretty fun\n",
      "Female\n",
      "\n",
      "t42MFTKYjx\n",
      "No\n",
      "female\n",
      "\n",
      "UTOjTKTfmE\n",
      "nothing\n",
      "Male\n",
      "\n",
      "mkY0VEwVsw\n",
      "It felt really long\n",
      "female\n",
      "\n",
      "aLsMZsAMwd\n",
      "enjoyed the games. thank you\n",
      "female\n",
      "\n",
      "P7y75FhJSe\n",
      "it's quite technical i think\n",
      "male\n",
      "\n",
      "AZXDCLEr2D\n",
      "n/a\n",
      "male\n",
      "\n",
      "SWSckhzrio\n",
      "After seeing a succession of rapid grids, it gets harder to perceive the spaces.\n",
      "female\n",
      "\n",
      "p1adCPlHJy\n",
      "No\n",
      "Male\n",
      "\n",
      "tTlSpPAsR9\n",
      "This was interesting.\n",
      "Female\n",
      "\n",
      "LgInc2vIL2\n",
      "It was great to do\n",
      "Male\n",
      "\n",
      "0gDdkTUdIi\n",
      "n/a\n",
      "\n",
      "female#\n",
      "\n",
      "XP90uJOkmB\n",
      "This was hard. \n",
      "Female\n",
      "\n"
     ]
    }
   ],
   "source": [
    "for _, row in survey_trials.iterrows():\n",
    "    if row.generalComments:\n",
    "        print(row.sessionId)\n",
    "        print(row.generalComments)\n",
    "        print(row.gender)\n",
    "        print()"
   ]
  },
  {
   "cell_type": "code",
   "execution_count": 16,
   "metadata": {},
   "outputs": [
    {
     "name": "stdout",
     "output_type": "stream",
     "text": [
      "Total Participants: 209\n",
      "Participants with survey data: 167\n",
      "Participants who previously played task: 3\n",
      "Participants missing data: 1\n",
      "Participants to Exclude: 4\n",
      "Participants with no data: 40\n"
     ]
    }
   ],
   "source": [
    "survey_trials['exclude'] = survey_trials.playedGrid == \"Yes\"\n",
    "pid_to_exclude, sid_to_exclude = survey_trials[['psiturk_id', 'sessionId']][survey_trials.playedGrid == \"Yes\"].values.T\n",
    "pid_to_exclude = set(pid_to_exclude)\n",
    "sid_to_exclude = set(sid_to_exclude)\n",
    "assert len(sid_to_exclude) == len(pid_to_exclude)\n",
    "all_pid = set([pid for pid, cond in conditiondata]) | (set(survey_trials.psiturk_id) | set(dot_trials.psiturk_id)) \n",
    "pid_no_data = all_pid - (set(survey_trials.psiturk_id) | set(dot_trials.psiturk_id)) \n",
    "print(f\"Total Participants: {len(all_pid)}\")\n",
    "print(f\"Participants with survey data: {len(survey_trials)}\")\n",
    "print(f\"Participants who previously played task: {len(pid_to_exclude)}\")\n",
    "print(f\"Participants missing data: {len(pid_missing_data)}\")\n",
    "print(f\"Participants to Exclude: {len(pid_to_exclude | pid_missing_data)}\")\n",
    "print(f\"Participants with no data: {len(pid_no_data)}\")"
   ]
  },
  {
   "cell_type": "code",
   "execution_count": 17,
   "metadata": {},
   "outputs": [
    {
     "name": "stdout",
     "output_type": "stream",
     "text": [
      "0 6005cbcb8a28b657ee71b852:60ce827174e9c6eb3a26da2b\n",
      "1 60bf627e1c82bf5b7b498cf1:60cf42c2c2f30494673e3e95\n",
      "2 609549042fb3fde4b22e2625:60cf42bcd2fa935e5ae279e6\n",
      "3 5d9c35e740e5c70017ee9a77:60ce80dd5086fa7ffb2a50ef\n"
     ]
    }
   ],
   "source": [
    "# updates psiturk database to recruit conditions appropriately\n",
    "# it is idempodent\n",
    "for i, pid in enumerate(pid_to_exclude | pid_missing_data):\n",
    "# for i, pid in enumerate(pid_to_exclude | pid_missing_data | pid_no_data):\n",
    "    new_status = \"ignore\"\n",
    "    print(i, pid)\n",
    "    request = f\"http://frozen-depths-23358.herokuapp.com/set_status?uniqueId={pid}&new_status={new_status}\"\n",
    "    res = urllib.request.urlopen(request).read()\n",
    "    res = json.loads(res)\n",
    "    if \"success\" not in res['status'].lower():\n",
    "        print(res['status'], request)"
   ]
  },
  {
   "cell_type": "code",
   "execution_count": 18,
   "metadata": {},
   "outputs": [],
   "source": [
    "# save data before exclusions\n",
    "survey_trials.to_json(\"./data/all-survey-trials.json\")\n",
    "attn_trials.to_json(\"./data/all-attention-trials.json\")\n",
    "dot_trials.to_json(\"./data/all-dot-trials.json\")\n",
    "\n",
    "# exclusions\n",
    "survey_trials = survey_trials[~survey_trials.exclude].reset_index(drop=True)\n",
    "attn_trials = attn_trials[attn_trials.sessionId.isin(survey_trials.sessionId)].reset_index(drop=True)\n",
    "dot_trials = dot_trials[dot_trials.sessionId.isin(survey_trials.sessionId)].reset_index(drop=True)\n",
    "\n",
    "# data after exclusions\n",
    "# survey_trials.to_json(\"./data/survey-trials.json\")\n",
    "# attn_trials.to_json(\"./data/attention-trials.json\")\n",
    "# bc_trials.to_json(\"./data/nav-trials.json\")"
   ]
  },
  {
   "cell_type": "code",
   "execution_count": 19,
   "metadata": {},
   "outputs": [
    {
     "data": {
      "text/plain": [
       "1    160\n",
       "2      2\n",
       "Name: condition, dtype: int64"
      ]
     },
     "execution_count": 19,
     "metadata": {},
     "output_type": "execute_result"
    }
   ],
   "source": [
    "# final conditions counts (need 162)\n",
    "survey_trials.condition.value_counts().value_counts()"
   ]
  },
  {
   "cell_type": "code",
   "execution_count": 20,
   "metadata": {},
   "outputs": [
    {
     "data": {
      "text/plain": [
       "set()"
      ]
     },
     "execution_count": 20,
     "metadata": {},
     "output_type": "execute_result"
    }
   ],
   "source": [
    "set(range(162)) - set(survey_trials.condition)"
   ]
  },
  {
   "cell_type": "markdown",
   "metadata": {},
   "source": [
    "# Bonusing"
   ]
  },
  {
   "cell_type": "code",
   "execution_count": 21,
   "metadata": {},
   "outputs": [
    {
     "name": "stdout",
     "output_type": "stream",
     "text": [
      "54236fe7fdf99b328baf8e9e,0.68\n",
      "56951771e0c800000c5a44eb,0.38\n",
      "56bdd0efef423f0006cbd833,0.66\n",
      "571bd2006b0894000962ef14,0.44\n",
      "577d88e5900cc80001d2cfc8,0.58\n",
      "57dc437d89fea70001729482,0.20\n",
      "58fc6017ee99a700012ce5d8,0.68\n",
      "5956845992b7c900016938b6,0.56\n",
      "5957a896eb4f4a00011688b5,0.64\n",
      "5980fff19bf4fe0001070984,0.70\n",
      "5985c60773278100014b2f8e,0.46\n",
      "59a9d2a36fde8c0001cee6df,0.60\n",
      "5a1f3ad6df3fa800015c5433,0.70\n",
      "5a31373183019b00012f6322,0.54\n",
      "5a371ed9c572530001a6958f,0.60\n",
      "5a8ad2082a842c0001fce0f2,0.70\n",
      "5a913c1e6475f900019f8e5c,0.56\n",
      "5a980d2d873cda0001dc999c,0.62\n",
      "5ad59462045cb000015c9960,0.68\n",
      "5aeb6f2eb59b0d00012e879f,0.72\n",
      "5b550c6e303c330001660747,0.24\n",
      "5b684ef482d9db000118fc0a,0.44\n",
      "5be3269e9c7f62000153f992,0.60\n",
      "5becc2a13b6489000156572f,0.64\n",
      "5c180a3ac59c17000167491e,0.64\n",
      "5c3f9ae8ef1d0d0001b2d5e4,0.60\n",
      "5c446de311bc1c0001fff3fe,0.66\n",
      "5c5e13a4bfe52800014488fd,0.56\n",
      "5c822d9bf492670001800cd4,0.64\n",
      "5c89a0e6ba1c4500167dab1d,0.66\n",
      "5c98b07ba67d120001ef94e9,0.36\n",
      "5c99deb374c55600174401a9,0.56\n",
      "5cc5c31a89c84a0001377a39,0.22\n",
      "5d0aa6cc4f6e8a0001bbbada,0.56\n",
      "5d28f52cf5de2a00177893bf,0.58\n",
      "5d2fabf8cbcda30001d27a68,0.48\n",
      "5d32d0de4e8363001535f3a2,0.34\n",
      "5d51b9ac202cb30001a0d904,0.64\n",
      "5d5321290c2a6a0017cc6a80,0.66\n",
      "5d5ad205a69ee60001437cdd,0.48\n",
      "5d7030ac857dc1000120d032,0.62\n",
      "5d9c35e740e5c70017ee9a77,0.22\n",
      "5dc0b5fc0016bb061eaec90c,0.62\n",
      "5dc0d311e5dc4108137d7c10,0.72\n",
      "5dd31aef0f8d5133418c82a5,0.56\n",
      "5dd58d832091e954f052d628,0.66\n",
      "5deae08fe4f84020dfafac72,0.52\n",
      "5dee265613911c4bb3c0ac7e,0.50\n",
      "5dfabfe64c81b280d07e8137,0.72\n",
      "5e107ebe4f849e7618cff500,0.60\n",
      "5e122c6d6887bc8b881c4426,0.20\n",
      "5e13d5a0398bb6a1517fab4c,0.60\n",
      "5e149379d5e0b7000d999ae4,0.58\n",
      "5e1e26bc677d6f1913ec0111,0.62\n",
      "5e36be214de4516479b48f31,0.64\n",
      "5e4589f0dc89f106ff742885,0.64\n",
      "5e6645daaf3bd53bfad40b9f,0.70\n",
      "5e6e37cf6c47283eaa39ceeb,0.56\n",
      "5e72c398c88a68220fb7ba95,0.56\n",
      "5e7e9451fa30db1298af8abb,0.58\n",
      "5e8b945ed5bc610771ca8a25,0.32\n",
      "5e8e10cafcedba0914cc5249,0.60\n",
      "5e8e474ffacc7d10481f2f15,0.42\n",
      "5e96df278f41320009c08d70,0.66\n",
      "5e9a4793c4069d0dd2e7eb4f,0.70\n",
      "5e9cb6e4eca6041e3f3bab1b,0.64\n",
      "5e9ddcd1b7a69c14402e1cde,0.68\n",
      "5ea0304b6d57b8000c9b742c,0.62\n",
      "5ea19dcac30e0005e6e6b6e3,0.52\n",
      "5ea954b828c814030440af23,0.68\n",
      "5eae480dfef06e509de7f31a,0.68\n",
      "5eb7e8a2ed6bf771d16473c5,0.62\n",
      "5eba1056248e4a00088cd9da,0.44\n",
      "5ebc466264fea60774387e75,0.64\n",
      "5ec614d37bf5d768c8564186,0.58\n",
      "5ecd5323fb5b270994f96437,0.66\n",
      "5ed00b67157bd20c24f3fc51,0.72\n",
      "5ed1463ba41e260775f2ec6c,0.64\n",
      "5ed3b746f32485353aee1cf7,0.64\n",
      "5eda87309c985569eb4cb2e0,0.60\n",
      "5eea8b729b444a1a0548fec2,0.54\n",
      "5eea8ce1177f5a19a860bbe5,0.54\n",
      "5eed5c6c0b80bb18835f3a8e,0.70\n",
      "5eef7358d814bd20564c70ac,0.62\n",
      "5ef4948e17993d0424e13842,0.70\n",
      "5ef634f9f2624b0f20168095,0.66\n",
      "5ef77e1ecf5fa4499c13bfbf,0.64\n",
      "5ef9036012ad19685ba093e0,0.62\n",
      "5f075707c2f3ba3413b11a88,0.70\n",
      "5f08b74795151710fb1db1a5,0.70\n",
      "5f1807bcd0c5bf0aec40b4e5,0.68\n",
      "5f1992235bab3d018fea7199,0.62\n",
      "5f235c88d7c5b4117f9ba2fb,0.44\n",
      "5f31af089c42ef0ba3d6b150,0.26\n",
      "5f3f42c20b92a323011faad4,0.70\n",
      "5f4a8c8347b9fe5082353a3c,0.66\n",
      "5f4c81f06bf20b893f439607,0.68\n",
      "5f4fc11eaf6c8c0c31c383a5,0.68\n",
      "5f569fccba207c0fe4789cf8,0.56\n",
      "5f582a0071a90f3972ee9a09,0.52\n",
      "5f5845e9ed8e313b700bdfe7,0.62\n",
      "5f6b4d8ec71e61016a16642e,0.36\n",
      "5f6b5661a65494021ef8cad8,0.70\n",
      "5f77261c43624a1f68dc9d26,0.28\n",
      "5f7760d025023628ce3f4d05,0.54\n",
      "5f840a58ecaa8b0008d03f8d,0.56\n",
      "5f983127fa1d94095da3eb3e,0.60\n",
      "5fbbef5baefef402513b4046,0.72\n",
      "5fc18d478a746025809c8d29,0.50\n",
      "5fdca0f3cad6ac22c0fb3534,0.62\n",
      "5fe076bdeed16d989e05ed41,0.60\n",
      "5fe7756dbbdf7f5e348f95ec,0.60\n",
      "5ffb12c55aa7330f9f581106,0.62\n",
      "6005cbcb8a28b657ee71b852,0.56\n",
      "601a788b7ab49028cd7a4ad4,0.64\n",
      "601c611eb7e30277bb2546d7,0.48\n",
      "6033aebb7228c70967a3ab43,0.62\n",
      "60393bd51cb437000a744227,0.48\n",
      "603a5e0774df2e5aa95b08a6,0.66\n",
      "603ae31e6aba3a7010516055,0.72\n",
      "603d53cf869201c5d1e56c0b,0.62\n",
      "6054cdc28222dc1ca6f58d8c,0.44\n",
      "60564e01f63c4f503d49c003,0.62\n",
      "6058d2405f4008ae73478bd5,0.72\n",
      "605ed50de1f34b77863d970c,0.62\n",
      "6067220a46ad70e6b710fe74,0.54\n",
      "60761c9f9758ad0a6edd9703,0.70\n",
      "60882f690555f6309af205dd,0.58\n",
      "608c1a76b90743c021b5318a,0.72\n",
      "608e001a819f543b8c6bfbb1,0.68\n",
      "60946e5b873f9834a9c9f74a,0.72\n",
      "609549042fb3fde4b22e2625,0.62\n",
      "609b1f95b52bc07802b4d0fa,0.68\n",
      "609d81679bcff493c7d143de,0.56\n",
      "60a3304ffb8cf482f8d11b6f,0.58\n",
      "60aa52f56964a096e3ab53c7,0.42\n",
      "60b2cfda6dc535727c22e781,0.66\n",
      "60b55f3ee17b9cefddab4a7e,0.58\n",
      "60b7bb53ae7f4708214bd044,0.58\n",
      "60b84b68ed2ba90d5d1a4dea,0.64\n",
      "60b898ac02148616e6edb207,0.60\n",
      "60b942a7585032566113cb88,0.56\n",
      "60bf627e1c82bf5b7b498cf1,0.58\n",
      "60c0826eb20ec98f5690109d,0.64\n",
      "60c115f392ad797385228389,0.64\n",
      "60c20088afc9f7f11aa891ad,0.52\n",
      "60c51c424c146ac707d27fd1,0.58\n",
      "60c5f31a047ed92c4e6d67e4,0.30\n",
      "60c650461eb0049ac75aff88,0.70\n",
      "60c78cbc10d6c2c5aaf772e7,0.58\n",
      "60c7a468d0690b1927a92b4d,0.66\n",
      "60ca3dc8b1adc234cbed8132,0.12\n",
      "60cb63abf6f1053d9577e1fe,0.66\n",
      "60cb9c11d0fc24036ce9f67a,0.44\n",
      "60cba33aa66d767b09f8e9e9,0.68\n",
      "60cbcd41b6da99c9e4f5987f,0.62\n",
      "60cc278554f2dd44973bf5fd,0.56\n",
      "60cc8e74ea173e1d9312abee,0.60\n",
      "60cc9f1f5ea78783bd3759cd,0.58\n",
      "60ccfd0da66014057a81d5aa,0.70\n",
      "60cd4163cac5b0ece5de76a9,0.70\n",
      "60cd566fc6317ffe655a366d,0.62\n",
      "60cd5d87a2ac59cf0b99a5a6,0.56\n",
      "60cd5e534c07533d4efdfe60,0.60\n",
      "60cde93adde00107f1e7bdcf,0.64\n",
      "60cde9a3ff1c53752b95c3e2,0.48\n",
      "60cdfa4284bfd7a889da8e1d,0.60\n",
      "60ce0d95c9f30101c708dc03,0.58\n",
      "60ce3bb6ac33a8f34880ad47,0.36\n",
      "98.18000000000006\n"
     ]
    }
   ],
   "source": [
    "pid_bonusdf = bonusdf.groupby('psiturk_id')['bonus'].sum().reset_index()\n",
    "tot_b = 0\n",
    "for _, r in pid_bonusdf.iterrows():\n",
    "    b = max(r.bonus, 0)\n",
    "    if b == 0.0:\n",
    "        continue\n",
    "    tot_b += b\n",
    "    print(f\"{r.psiturk_id.split(':')[0]},{b:.2f}\")\n",
    "print(tot_b)"
   ]
  }
 ],
 "metadata": {
  "kernelspec": {
   "display_name": "Python 3 (ipykernel)",
   "language": "python",
   "name": "python3"
  },
  "language_info": {
   "codemirror_mode": {
    "name": "ipython",
    "version": 3
   },
   "file_extension": ".py",
   "mimetype": "text/x-python",
   "name": "python",
   "nbconvert_exporter": "python",
   "pygments_lexer": "ipython3",
   "version": "3.7.4"
  }
 },
 "nbformat": 4,
 "nbformat_minor": 4
}
