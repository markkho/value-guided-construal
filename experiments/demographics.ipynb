{
 "cells": [
  {
   "cell_type": "code",
   "execution_count": 1,
   "metadata": {},
   "outputs": [],
   "source": [
    "import json\n",
    "import pandas as pd"
   ]
  },
  {
   "cell_type": "code",
   "execution_count": 2,
   "metadata": {},
   "outputs": [],
   "source": [
    "gender_map = {\n",
    "    \"f\": \"female\",\n",
    "    \"non-binary\": \"neither\",\n",
    "    \"genderqueer\": \"neither\",\n",
    "    \"cis female\": \"female\",\n",
    "    \"woman\": \"female\",\n",
    "    \"flexible\": \"neither\",\n",
    "    \"m\": \"male\",\n",
    "    \"non binary\": \"neither\",\n",
    "    \"agender\": \"neither\",\n",
    "    \"man\": \"male\",\n",
    "    \"nonbinary\": \"neither\",\n",
    "    \"(cisgender) male\": \"male\",\n",
    "    \"trans masculine\": \"male\",\n",
    "    \"genderfluid nonbinary man\": \"neither\",\n",
    "    \"cisgender woman\": \"female\",\n",
    "    \"female (afab)\": \"female\",\n",
    "    \"non-binary (assigned male at birth)\": \"neither\",\n",
    "    \"non binary afab\": \"neither\",\n",
    "    \"female#\": \"female\",\n",
    "    \"mn\": \"male\"\n",
    "}"
   ]
  },
  {
   "cell_type": "markdown",
   "metadata": {},
   "source": [
    "# Exp 1"
   ]
  },
  {
   "cell_type": "code",
   "execution_count": 3,
   "metadata": {},
   "outputs": [
    {
     "name": "stdout",
     "output_type": "stream",
     "text": [
      "median age:  28.0\n",
      "\n",
      "gender breakdown: \n",
      "male       81\n",
      "female     75\n",
      "neither     5\n",
      "Name: gender, dtype: int64\n"
     ]
    }
   ],
   "source": [
    "exp1_st = pd.DataFrame(json.load(open(\"./exp1/data/participantdata.json\", \"r\")))\n",
    "print(\"median age: \", exp1_st.age.median())\n",
    "print()\n",
    "print(\"gender breakdown: \")\n",
    "print(exp1_st.gender.apply(lambda g: gender_map.get(g.strip().lower(), g).lower() if g else \"neither\").value_counts())"
   ]
  },
  {
   "cell_type": "markdown",
   "metadata": {},
   "source": [
    "# Exp 2 "
   ]
  },
  {
   "cell_type": "code",
   "execution_count": 4,
   "metadata": {},
   "outputs": [
    {
     "name": "stdout",
     "output_type": "stream",
     "text": [
      "median age:  28.0\n",
      "\n",
      "gender breakdown: \n",
      "female     85\n",
      "male       72\n",
      "neither     5\n",
      "Name: gender, dtype: int64\n"
     ]
    }
   ],
   "source": [
    "exp2_st = pd.DataFrame(json.load(open(\"./exp2/data/participantdata.json\", \"r\")))\n",
    "print(\"median age: \", exp2_st.age.median())\n",
    "print()\n",
    "print(\"gender breakdown: \")\n",
    "print(exp2_st.gender.apply(lambda g: gender_map.get(g.strip().lower(), g.strip()).lower() if g else \"neither\").value_counts())"
   ]
  },
  {
   "cell_type": "markdown",
   "metadata": {},
   "source": [
    "# Exp 3"
   ]
  },
  {
   "cell_type": "code",
   "execution_count": 5,
   "metadata": {},
   "outputs": [
    {
     "name": "stdout",
     "output_type": "stream",
     "text": [
      "median age:  26.0\n",
      "\n",
      "gender breakdown: \n",
      "female     78\n",
      "male       75\n",
      "neither     3\n",
      "Name: gender, dtype: int64\n",
      "\n",
      "total participants:  156\n"
     ]
    }
   ],
   "source": [
    "exp3_st = pd.DataFrame(json.load(open(\"./exp3/data/participantdata.json\", \"r\")))\n",
    "print(\"median age: \", exp3_st.age.median())\n",
    "print()\n",
    "print(\"gender breakdown: \")\n",
    "print(exp3_st.gender.apply(lambda g: gender_map.get(g.strip().lower(), g.strip()).lower() if g else \"neither\").value_counts())\n",
    "\n",
    "print()\n",
    "print(\"total participants: \", len(exp3_st))"
   ]
  },
  {
   "cell_type": "markdown",
   "metadata": {},
   "source": [
    "# Exp 4a"
   ]
  },
  {
   "cell_type": "code",
   "execution_count": 6,
   "metadata": {},
   "outputs": [
    {
     "name": "stdout",
     "output_type": "stream",
     "text": [
      "median age:  30.0\n",
      "\n",
      "gender breakdown: \n",
      "male       82\n",
      "female     82\n",
      "neither     3\n",
      "Name: gender, dtype: int64\n",
      "\n",
      "total participants:  167\n"
     ]
    }
   ],
   "source": [
    "exp4a_st = pd.DataFrame(json.load(open(\"./exp4a/data/participantdata.json\", \"r\")))\n",
    "print(\"median age: \", exp4a_st.age.median())\n",
    "print()\n",
    "print(\"gender breakdown: \")\n",
    "print(exp4a_st.gender.apply(lambda g: gender_map.get(g.strip().lower(), g.strip()).lower() if g else \"neither\").value_counts())\n",
    "\n",
    "print()\n",
    "print(\"total participants: \", len(exp4a_st))"
   ]
  },
  {
   "cell_type": "markdown",
   "metadata": {},
   "source": [
    "# Exp 4b"
   ]
  },
  {
   "cell_type": "code",
   "execution_count": 7,
   "metadata": {},
   "outputs": [
    {
     "name": "stdout",
     "output_type": "stream",
     "text": [
      "median age:  32.0\n",
      "\n",
      "gender breakdown: \n",
      "female     89\n",
      "male       86\n",
      "neither     4\n",
      "Name: gender, dtype: int64\n",
      "\n",
      "total participants:  179\n"
     ]
    }
   ],
   "source": [
    "exp4b_st = pd.DataFrame(json.load(open(\"./exp4b/data/participantdata.json\", \"r\")))\n",
    "print(\"median age: \", exp4b_st.age.median())\n",
    "print()\n",
    "print(\"gender breakdown: \")\n",
    "print(exp4b_st.gender.apply(lambda g: gender_map.get(g.strip().lower(), g.strip()).lower() if g else \"neither\").value_counts())\n",
    "\n",
    "print()\n",
    "print(\"total participants: \", len(exp4b_st))"
   ]
  },
  {
   "cell_type": "markdown",
   "metadata": {},
   "source": [
    "# Exp 5a"
   ]
  },
  {
   "cell_type": "code",
   "execution_count": 8,
   "metadata": {},
   "outputs": [
    {
     "name": "stdout",
     "output_type": "stream",
     "text": [
      "median age:  30.5\n",
      "\n",
      "gender breakdown: \n",
      "male       84\n",
      "female     79\n",
      "neither     1\n",
      "Name: gender, dtype: int64\n",
      "\n",
      "total participants:  164\n"
     ]
    }
   ],
   "source": [
    "exp5a_st = pd.DataFrame(json.load(open(\"./exp5a/data/all-survey-trials.json\", \"r\")))\n",
    "exp5a_st = exp5a_st[~exp5a_st.exclude]\n",
    "print(\"median age: \", exp5a_st.age.median())\n",
    "print()\n",
    "print(\"gender breakdown: \")\n",
    "print(exp5a_st.gender.apply(lambda g: gender_map.get(g.strip().lower(), g.strip()).lower() if g else \"neither\").value_counts())\n",
    "\n",
    "print()\n",
    "print(\"total participants: \", len(exp5a_st))"
   ]
  },
  {
   "cell_type": "markdown",
   "metadata": {},
   "source": [
    "# Exp 5b"
   ]
  },
  {
   "cell_type": "code",
   "execution_count": 9,
   "metadata": {},
   "outputs": [
    {
     "name": "stdout",
     "output_type": "stream",
     "text": [
      "median age:  36.5\n",
      "\n",
      "gender breakdown: \n",
      "male       86\n",
      "female     85\n",
      "neither     1\n",
      "Name: gender, dtype: int64\n",
      "\n",
      "total participants:  172\n"
     ]
    }
   ],
   "source": [
    "exp5b_st = pd.DataFrame(json.load(open(\"./exp5b/data/all-survey-trials.json\", \"r\")))\n",
    "exp5b_st = exp5b_st[~exp5b_st.exclude]\n",
    "print(\"median age: \", exp5b_st.age.median())\n",
    "print()\n",
    "print(\"gender breakdown: \")\n",
    "print(exp5b_st.gender.apply(lambda g: gender_map.get(g.strip().lower(), g.strip()).lower() if g else \"neither\").value_counts())\n",
    "\n",
    "print()\n",
    "print(\"total participants: \", len(exp5b_st))"
   ]
  },
  {
   "cell_type": "markdown",
   "metadata": {},
   "source": [
    "# Exp 6a"
   ]
  },
  {
   "cell_type": "code",
   "execution_count": 10,
   "metadata": {},
   "outputs": [
    {
     "name": "stdout",
     "output_type": "stream",
     "text": [
      "median age:  29.0\n",
      "\n",
      "gender breakdown: \n",
      "female    86\n",
      "male      77\n",
      "Name: gender, dtype: int64\n",
      "\n",
      "total participants:  163\n"
     ]
    }
   ],
   "source": [
    "exp6a_st = pd.DataFrame(json.load(open(\"./exp6a/data/all-survey-trials.json\", \"r\")))\n",
    "exp6a_st = exp6a_st[~exp6a_st.exclude]\n",
    "print(\"median age: \", exp6a_st.age.median())\n",
    "print()\n",
    "print(\"gender breakdown: \")\n",
    "print(exp6a_st.gender.apply(lambda g: gender_map.get(g.strip().lower(), g.strip()).lower() if g else \"neither\").value_counts())\n",
    "\n",
    "print()\n",
    "print(\"total participants: \", len(exp6a_st))"
   ]
  },
  {
   "cell_type": "markdown",
   "metadata": {},
   "source": [
    "# Exp 6b"
   ]
  },
  {
   "cell_type": "code",
   "execution_count": 11,
   "metadata": {},
   "outputs": [
    {
     "name": "stdout",
     "output_type": "stream",
     "text": [
      "median age:  30.0\n",
      "\n",
      "gender breakdown: \n",
      "male       94\n",
      "female     63\n",
      "neither     4\n",
      "Name: gender, dtype: int64\n",
      "\n",
      "total participants:  161\n"
     ]
    }
   ],
   "source": [
    "exp6b_st = pd.DataFrame(json.load(open(\"./exp6b/data/all-survey-trials.json\", \"r\")))\n",
    "exp6b_st = exp6b_st[~exp6b_st.exclude]\n",
    "print(\"median age: \", exp6b_st.age.median())\n",
    "print()\n",
    "print(\"gender breakdown: \")\n",
    "print(exp6b_st.gender.apply(lambda g: gender_map.get(g.strip().lower(), g.strip()).lower() if g else \"neither\").value_counts())\n",
    "\n",
    "print()\n",
    "print(\"total participants: \", len(exp6b_st))"
   ]
  },
  {
   "cell_type": "markdown",
   "metadata": {},
   "source": [
    "# All"
   ]
  },
  {
   "cell_type": "code",
   "execution_count": 12,
   "metadata": {},
   "outputs": [
    {
     "name": "stdout",
     "output_type": "stream",
     "text": [
      "median age:  30.0\n",
      "\n",
      "gender breakdown: \n",
      "male       737\n",
      "female     722\n",
      "neither     26\n",
      "Name: gender, dtype: int64\n",
      "\n",
      "total participants:  1485\n"
     ]
    }
   ],
   "source": [
    "cols = ['sessionId', 'gender', 'age']\n",
    "all_st = pd.concat([\n",
    "    exp1_st[cols].assign(exp=\"exp1\"),\n",
    "    exp2_st[cols].assign(exp=\"exp2\"),\n",
    "    exp3_st[cols].assign(exp=\"exp3\"),\n",
    "    exp4a_st[cols].assign(exp=\"exp4a\"),\n",
    "    exp4b_st[cols].assign(exp=\"exp4b\"),\n",
    "    exp5a_st[cols].assign(exp=\"exp5a\"),\n",
    "    exp5b_st[cols].assign(exp=\"exp5b\"),\n",
    "    exp6a_st[cols].assign(exp=\"exp6a\"),\n",
    "    exp6b_st[cols].assign(exp=\"all\"),\n",
    "], axis=0)\n",
    "print(\"median age: \", all_st.age.median())\n",
    "print()\n",
    "print(\"gender breakdown: \")\n",
    "print(all_st.gender.apply(lambda g: gender_map.get(g.strip().lower(), g.strip()).lower() if g else \"neither\").value_counts())\n",
    "\n",
    "print()\n",
    "print(\"total participants: \", len(all_st))"
   ]
  },
  {
   "cell_type": "code",
   "execution_count": null,
   "metadata": {},
   "outputs": [],
   "source": []
  }
 ],
 "metadata": {
  "kernelspec": {
   "display_name": "Python 3",
   "language": "python",
   "name": "python3"
  },
  "language_info": {
   "codemirror_mode": {
    "name": "ipython",
    "version": 3
   },
   "file_extension": ".py",
   "mimetype": "text/x-python",
   "name": "python",
   "nbconvert_exporter": "python",
   "pygments_lexer": "ipython3",
   "version": "3.7.4"
  }
 },
 "nbformat": 4,
 "nbformat_minor": 4
}
