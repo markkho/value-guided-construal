{
 "cells": [
  {
   "cell_type": "markdown",
   "metadata": {},
   "source": [
    "# Exp 4b Hovering - Process Data"
   ]
  },
  {
   "cell_type": "code",
   "execution_count": 1,
   "metadata": {},
   "outputs": [],
   "source": [
    "import urllib.request\n",
    "import datetime\n",
    "import csv, json\n",
    "import pandas as pd\n",
    "import numpy as np\n",
    "import matplotlib.pyplot as plt"
   ]
  },
  {
   "cell_type": "code",
   "execution_count": 1,
   "metadata": {},
   "outputs": [],
   "source": [
    "# load experiment parameters\n",
    "expConfig = json.load(open(\"config.json\", 'r'))\n",
    "EXPERIMENT_CODE_VERSION = expConfig['params']['EXPERIMENT_CODE_VERSION']\n",
    "cond1 = expConfig['timelines'][0]\n",
    "\n",
    "CREDENTIALS = json.load(open(\"../credentials.json\", 'r'))\n",
    "EXPURL = CREDENTIALS[\"EXPURL\"]\n",
    "USERNAME = CREDENTIALS[\"USERNAME\"]\n",
    "PASSWORD = CREDENTIALS[\"PASSWORD\"]\n",
    "# print(\"Credentials:\")\n",
    "# print(CREDENTIALS)\n",
    "\n",
    "DESTDIR = \"./data/\"\n",
    "if not os.path.exists(DESTDIR):\n",
    "    os.mkdir(DESTDIR)\n",
    "    \n",
    "sourcedest = [\n",
    "    (f\"data/{EXPERIMENT_CODE_VERSION}/trialdata\", DESTDIR+\"rawtrialdata.csv\"),\n",
    "    (f\"data/{EXPERIMENT_CODE_VERSION}/questiondata\", DESTDIR+\"rawquestiondata.csv\"),\n",
    "    (f\"data/{EXPERIMENT_CODE_VERSION}/bonusdata\", DESTDIR+\"rawbonusdata.csv\")\n",
    "]\n",
    "\n",
    "password_mgr = urllib.request.HTTPPasswordMgrWithDefaultRealm()\n",
    "password_mgr.add_password(None, EXPURL, USERNAME, PASSWORD)\n",
    "handler = urllib.request.HTTPBasicAuthHandler(password_mgr)"
   ]
  },
  {
   "cell_type": "code",
   "execution_count": 3,
   "metadata": {},
   "outputs": [
    {
     "name": "stdout",
     "output_type": "stream",
     "text": [
      "HTTPError raised:  HTTP Error 401: UNAUTHORIZED\n",
      "Continuing without downloading data\n"
     ]
    }
   ],
   "source": [
    "try:\n",
    "    for SOURCE, DEST in sourcedest:\n",
    "        opener = urllib.request.build_opener(handler)\n",
    "        opener.open(EXPURL+SOURCE)\n",
    "        urllib.request.install_opener(opener)\n",
    "        urllib.request.urlretrieve(EXPURL+SOURCE, DEST)   \n",
    "except urllib.error.HTTPError as e:\n",
    "    print(\"HTTPError raised: \", e)\n",
    "    print(\"Continuing without downloading data\")"
   ]
  },
  {
   "cell_type": "code",
   "execution_count": 4,
   "metadata": {},
   "outputs": [],
   "source": [
    "csv.field_size_limit(sys.maxsize)\n",
    "trialdata = [line for line in csv.reader(open(sourcedest[0][1], 'r'))]\n",
    "questiondata = [line for line in csv.reader(open(sourcedest[1][1], 'r'))]\n",
    "bonusdata = [line for line in csv.reader(open(sourcedest[2][1], 'r'))]"
   ]
  },
  {
   "cell_type": "code",
   "execution_count": 5,
   "metadata": {},
   "outputs": [],
   "source": [
    "trials = []\n",
    "errors = []\n",
    "for psiturk_id, idx, datetime_ms, entry in trialdata:\n",
    "    if \"debug\" in psiturk_id:\n",
    "        continue\n",
    "    datetime_ms = datetime.datetime.fromtimestamp(float(datetime_ms)/1000.)\n",
    "    idx = int(idx)\n",
    "    entry = json.loads(entry)\n",
    "    try:\n",
    "        assert idx == entry['trial_index']\n",
    "    except AssertionError as e :\n",
    "        errors.append((e, psiturk_id, idx, datetime_ms, entry))\n",
    "    trials.append({\n",
    "        \"psiturk_id\": psiturk_id,\n",
    "        \"idx\": idx,\n",
    "        \"datetime_ms\": datetime_ms,\n",
    "        \"data\": entry.get(\"data\", None),\n",
    "        \"trial_type\": entry['trial_type'],\n",
    "        \"time_elapsed\": entry['time_elapsed'],\n",
    "        \"internal_node_id\": float(entry[\"internal_node_id\"].split(\"-\")[1])\n",
    "    })\n",
    "trials = pd.DataFrame(trials)\n",
    "trials = trials[trials.psiturk_id.apply(lambda p: \"debug\" not in p)]"
   ]
  },
  {
   "cell_type": "code",
   "execution_count": 6,
   "metadata": {},
   "outputs": [],
   "source": [
    "#survey level data\n",
    "survey_trials = trials[(trials.trial_type.isin([\"CustomSurvey\", \"SaveGlobalStore\"]))]\n",
    "survey_trials = pd.concat([\n",
    "    pd.DataFrame({\n",
    "        \"psiturk_id\": survey_trials.psiturk_id,\n",
    "    }).reset_index(drop=True),\n",
    "    pd.DataFrame([d if d else {} for d in survey_trials.data.values])\n",
    "], axis=1)\n",
    "survey_trials = survey_trials.melt(id_vars='psiturk_id', var_name=\"question\", value_name=\"response\")\n",
    "survey_trials = survey_trials[~survey_trials.response.isna()]\n",
    "survey_trials = survey_trials.drop_duplicates()\n",
    "survey_trials = survey_trials.pivot(index='psiturk_id', columns=\"question\")\n",
    "survey_trials.columns = survey_trials.columns.droplevel()\n",
    "survey_trials = survey_trials.reset_index()\n",
    "survey_trials.columns.name = None\n",
    "completed_task = survey_trials['psiturk_id']"
   ]
  },
  {
   "cell_type": "code",
   "execution_count": 7,
   "metadata": {},
   "outputs": [],
   "source": [
    "# for _, row in survey_trials.iterrows():\n",
    "#     if row.generalComments:\n",
    "#         print(row.sessionId)\n",
    "#         print(row.generalComments)\n",
    "#         print(row.gender)\n",
    "#         print()"
   ]
  },
  {
   "cell_type": "code",
   "execution_count": 8,
   "metadata": {},
   "outputs": [],
   "source": [
    "# Main trials\n",
    "nav_trials = trials[(trials['trial_type'] == 'GridNavigationHoverReveal')]\n",
    "nav_trials = pd.concat([\n",
    "    pd.DataFrame({\n",
    "        \"psiturk_id\": nav_trials.psiturk_id\n",
    "    }).reset_index(drop=True),\n",
    "    pd.DataFrame(list(\n",
    "        nav_trials.data.apply(lambda d: {**d['trialparams'], **{k: v for k, v in d.items() if k not in ['trialparams', 'taskparams']}}).values\n",
    "    ))\n",
    "], axis=1)\n",
    "nav_trials = nav_trials[nav_trials['roundtype'] == 'main'].reset_index(drop=True)\n",
    "nav_trials = nav_trials[[\n",
    "    'psiturk_id', 'sessionId', 'round', 'grid','transformation', \n",
    "    'navigationData', 'mouseMoveData', 'mouseHoverData'\n",
    "]]"
   ]
  },
  {
   "cell_type": "code",
   "execution_count": 9,
   "metadata": {},
   "outputs": [
    {
     "name": "stdout",
     "output_type": "stream",
     "text": [
      "Number of trials with no hovering: 130 of 2256\n",
      "Participants excluded: (9 of 188) ['4UT33mdRRD', 'LxjZeOqzBl', 'Ujc1OfHC30', 'XvVfo1HNAK', 'g1oVbEsZw6', 'hIDMKB74JZ', 'idxCIL3VZ7', 'pTqCRtp0Vc', 'zdfb1skG04']\n",
      "log hoverduration cutoff: 3.82\n",
      "hoverduration cutoff: 45.45 ms\n"
     ]
    }
   ],
   "source": [
    "from collections import defaultdict\n",
    "\n",
    "HOVER_TRIAL_EXCLUSION_CUTOFF = .5\n",
    "TOTAL_ROUNDS = 12\n",
    "def hoverdurations(hoverdata, only_obs=True):\n",
    "    dur = defaultdict(int)\n",
    "    for e in hoverdata:\n",
    "        assert e['visible']\n",
    "        if only_obs:\n",
    "            if e['obstacle'] not in '0123456789':\n",
    "                continue\n",
    "        else:\n",
    "            if e['obstacle'] == '.':\n",
    "                continue\n",
    "        dur[e['obstacle']] += e['exitTime'] - e['enterTime']\n",
    "    dur['any_hovering'] = len(dur) > 0\n",
    "    return dict(dur)\n",
    "\n",
    "hover_df = pd.concat([\n",
    "    nav_trials[['psiturk_id', 'sessionId', 'round', 'grid', 'transformation']],\n",
    "    nav_trials['mouseHoverData'].apply(lambda d: pd.Series(hoverdurations(d, only_obs=True)))\n",
    "], axis=1)\n",
    "all_sid = hover_df.sessionId.unique()\n",
    "n_no_hover_trials = sum(~hover_df['any_hovering'])\n",
    "print(f\"Number of trials with no hovering: {n_no_hover_trials} of {len(hover_df)}\")\n",
    "sid_exclude = hover_df.groupby([\"sessionId\"], as_index=True)['any_hovering'].apply(lambda h: sum(h)/TOTAL_ROUNDS) < HOVER_TRIAL_EXCLUSION_CUTOFF\n",
    "sid_exclude = sid_exclude.index[sid_exclude]\n",
    "print(f\"Participants excluded: ({len(sid_exclude)} of {len(hover_df.sessionId.unique())}) {list(sid_exclude)}\")\n",
    "\n",
    "hover_df = hover_df[hover_df['any_hovering']]\n",
    "hover_df = hover_df[~hover_df['sessionId'].isin(sid_exclude)]\n",
    "hover_df = hover_df.melt(\n",
    "    value_vars=list('01234'),\n",
    "    id_vars=['psiturk_id', 'sessionId', 'round', 'grid', 'transformation'],\n",
    "    value_name=\"hoverduration\",\n",
    "    var_name=\"obstacle\"\n",
    ")\n",
    "hover_df['log_hoverduration'] = np.log(hover_df['hoverduration'])\n",
    "mean_loghd = hover_df['log_hoverduration'].mean()\n",
    "std_loghd = hover_df['log_hoverduration'].std()\n",
    "hover_df['hovered'] = hover_df['log_hoverduration'].apply(lambda d: (not np.isnan(d)) and (d > (mean_loghd - 2*std_loghd)))\n",
    "print(f\"log hoverduration cutoff: {(mean_loghd - 2*std_loghd):.2f}\")\n",
    "print(f\"hoverduration cutoff: {np.exp(mean_loghd - 2*std_loghd):.2f} ms\")\n",
    "\n",
    "assert all((hover_df.groupby('sessionId')['round'].count()/(TOTAL_ROUNDS*5)) >= .5)"
   ]
  },
  {
   "cell_type": "code",
   "execution_count": 10,
   "metadata": {},
   "outputs": [],
   "source": [
    "survey_trials = survey_trials[survey_trials.sessionId.isin(hover_df.sessionId.unique())]\n",
    "survey_trials = survey_trials.drop(\"psiturk_id\", axis=1)"
   ]
  },
  {
   "cell_type": "code",
   "execution_count": 11,
   "metadata": {},
   "outputs": [],
   "source": [
    "hover_df.to_json(\"./data/hovering-data-trials.json\")\n",
    "nav_trials.to_json(\"./data/all-navigation-trials.json\")\n",
    "survey_trials.to_json(\"./data/participantdata.json\")"
   ]
  }
 ],
 "metadata": {
  "kernelspec": {
   "display_name": "Python 3",
   "language": "python",
   "name": "python3"
  },
  "language_info": {
   "codemirror_mode": {
    "name": "ipython",
    "version": 3
   },
   "file_extension": ".py",
   "mimetype": "text/x-python",
   "name": "python",
   "nbconvert_exporter": "python",
   "pygments_lexer": "ipython3",
   "version": "3.7.4"
  }
 },
 "nbformat": 4,
 "nbformat_minor": 4
}
