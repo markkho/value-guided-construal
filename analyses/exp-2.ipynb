{
 "cells": [
  {
   "cell_type": "markdown",
   "metadata": {
    "tags": []
   },
   "source": [
    "# Experiment 2"
   ]
  },
  {
   "cell_type": "code",
   "execution_count": 1,
   "metadata": {},
   "outputs": [
    {
     "name": "stderr",
     "output_type": "stream",
     "text": [
      "R[write to console]: Loading required package: Matrix\n",
      "\n"
     ]
    }
   ],
   "source": [
    "import json\n",
    "import matplotlib.pyplot as plt\n",
    "import numpy as np\n",
    "\n",
    "from vgc_project.r import create_R_model_interface, ImmutableDataFrame\n",
    "from vgc_project.parameter_fit import create_fit_vgc_model_to_trials, Trial\n",
    "\n",
    "joblib_cache_location = \"./_analysiscache\"\n",
    "rmods = create_R_model_interface(joblib_cache_location=joblib_cache_location)\n",
    "fit_vgc_model_to_trials = create_fit_vgc_model_to_trials(joblib_cache_location=joblib_cache_location)\n",
    "\n",
    "import analysisutils\n",
    "from analysisutils import predictor_names, short_predictor_names\n",
    "from prep_data import \\\n",
    "    mazes,\\\n",
    "    model_preds,\\\n",
    "    get_exp2_at\n",
    "\n",
    "exp2_at = get_exp2_at()"
   ]
  },
  {
   "cell_type": "code",
   "execution_count": 2,
   "metadata": {},
   "outputs": [],
   "source": [
    "exp2_early_at_im = ImmutableDataFrame(exp2_at[exp2_at['earlyterm'] == 'earlyterm'])\n",
    "exp2_full_at_im = ImmutableDataFrame(exp2_at[exp2_at['earlyterm'] == 'full'])\n",
    "exp2_at_im = ImmutableDataFrame(exp2_at)"
   ]
  },
  {
   "cell_type": "markdown",
   "metadata": {},
   "source": [
    "# Static"
   ]
  },
  {
   "cell_type": "markdown",
   "metadata": {},
   "source": [
    "## HGLM with VGC"
   ]
  },
  {
   "cell_type": "code",
   "execution_count": 3,
   "metadata": {},
   "outputs": [
    {
     "name": "stdout",
     "output_type": "stream",
     "text": [
      "$\\chi^2(1) = 679.20, p  < 1.0 \\times 10^{-16}$; $\\beta = 0.106$, S.E. $= 0.004$\n",
      "$\\chi^2(1) = 726.95, p  < 1.0 \\times 10^{-16}$; $\\beta = 0.115$, S.E. $= 0.004$\n"
     ]
    }
   ],
   "source": [
    "exp2_full_vgc_sum = analysisutils.single_predictor_analysis(\n",
    "    name='Exp. 2 VGC full model',\n",
    "    data=exp2_full_at_im,\n",
    "    dv='attention_N',\n",
    "    model_func='lmer',\n",
    "    random_effects='(1 | sessionId) + (1 | grid)',\n",
    "    predictor='static_vgc_weight_Z',\n",
    "    rmods=rmods,\n",
    "    coeff_digits=3,\n",
    "    normalized_predictor=True\n",
    ")\n",
    "exp2_early_vgc_sum = analysisutils.single_predictor_analysis(\n",
    "    name='Exp. 2 VGC early model',\n",
    "    data=exp2_early_at_im,\n",
    "    dv='attention_N',\n",
    "    model_func='lmer',\n",
    "    random_effects='(1 | sessionId) + (1 | grid)',\n",
    "    predictor='static_vgc_weight_Z',\n",
    "    rmods=rmods,\n",
    "    coeff_digits=3,\n",
    "    normalized_predictor=True\n",
    ")\n",
    "\n",
    "with open(\"./inputs/exp2_early_vgc_single_summary_svgc.tex\", 'w') as file:\n",
    "    file.write(exp2_early_vgc_sum.summary)\n",
    "print(exp2_early_vgc_sum.summary)\n",
    "with open(\"./inputs/exp2_full_vgc_single_summary_svgc.tex\", 'w') as file:\n",
    "    file.write(exp2_full_vgc_sum.summary)\n",
    "print(exp2_full_vgc_sum.summary)"
   ]
  },
  {
   "cell_type": "markdown",
   "metadata": {},
   "source": [
    "## Interaction analysis"
   ]
  },
  {
   "cell_type": "code",
   "execution_count": 4,
   "metadata": {},
   "outputs": [],
   "source": [
    "%load_ext rpy2.ipython"
   ]
  },
  {
   "cell_type": "code",
   "execution_count": 5,
   "metadata": {},
   "outputs": [
    {
     "name": "stdout",
     "output_type": "stream",
     "text": [
      "WARNING:rpy2.rinterface_lib.callbacks:R[write to console]: \n",
      "Attaching package: ‘lmerTest’\n",
      "\n",
      "\n",
      "WARNING:rpy2.rinterface_lib.callbacks:R[write to console]: The following object is masked from ‘package:lme4’:\n",
      "\n",
      "    lmer\n",
      "\n",
      "\n",
      "WARNING:rpy2.rinterface_lib.callbacks:R[write to console]: The following object is masked from ‘package:stats’:\n",
      "\n",
      "    step\n",
      "\n",
      "\n",
      "WARNING:rpy2.rinterface_lib.callbacks:R[write to console]: Loading required package: zoo\n",
      "\n",
      "WARNING:rpy2.rinterface_lib.callbacks:R[write to console]: \n",
      "Attaching package: ‘zoo’\n",
      "\n",
      "\n",
      "WARNING:rpy2.rinterface_lib.callbacks:R[write to console]: The following objects are masked from ‘package:base’:\n",
      "\n",
      "    as.Date, as.Date.numeric\n",
      "\n",
      "\n"
     ]
    }
   ],
   "source": [
    "%%R\n",
    "library(lme4)\n",
    "library(lmerTest)\n",
    "library(lmtest)\n",
    "library(scales)"
   ]
  },
  {
   "cell_type": "code",
   "execution_count": 6,
   "metadata": {},
   "outputs": [
    {
     "name": "stdout",
     "output_type": "stream",
     "text": [
      "          [,1]\n",
      "earlyterm    1\n",
      "full        -1\n",
      "Linear mixed model fit by maximum likelihood . t-tests use Satterthwaite's\n",
      "  method [lmerModLmerTest]\n",
      "Formula: attention_N ~ static_vgc_weight_Z + graph_based_hitcount_Z +  \n",
      "    log_traj_based_hitcount_Z + optpolicy_dist_Z + goal_dist_Z +  \n",
      "    start_dist_Z + walls_dist_Z + center_dist_Z + bottleneck_dist_Z +  \n",
      "    sr_occ_Z + earlyterm + (1 | sessionId) + (1 | grid)\n",
      "   Data: exp2_at_im\n",
      "Control: lmerControl(optimizer = \"bobyqa\", optCtrl = list(maxfun = 1e+05))\n",
      "\n",
      "     AIC      BIC   logLik deviance df.resid \n",
      "  5163.6   5276.1  -2566.8   5133.6    13306 \n",
      "\n",
      "Scaled residuals: \n",
      "    Min      1Q  Median      3Q     Max \n",
      "-3.1724 -0.7541 -0.0262  0.7672  3.3253 \n",
      "\n",
      "Random effects:\n",
      " Groups    Name        Variance Std.Dev.\n",
      " sessionId (Intercept) 0.019765 0.14059 \n",
      " grid      (Intercept) 0.001602 0.04003 \n",
      " Residual              0.082751 0.28766 \n",
      "Number of obs: 13321, groups:  sessionId, 162; grid, 12\n",
      "\n",
      "Fixed effects:\n",
      "                            Estimate Std. Error         df t value Pr(>|t|)    \n",
      "(Intercept)                4.878e-01  1.640e-02  3.957e+01  29.738  < 2e-16 ***\n",
      "static_vgc_weight_Z        6.596e-02  3.607e-03  1.222e+04  18.286  < 2e-16 ***\n",
      "graph_based_hitcount_Z     5.030e-02  4.830e-03  1.207e+04  10.415  < 2e-16 ***\n",
      "log_traj_based_hitcount_Z -3.245e-02  5.707e-03  4.583e+03  -5.685 1.39e-08 ***\n",
      "optpolicy_dist_Z          -8.249e-02  4.034e-03  6.794e+03 -20.447  < 2e-16 ***\n",
      "goal_dist_Z               -2.311e-02  5.248e-03  9.421e+03  -4.404 1.08e-05 ***\n",
      "start_dist_Z              -1.226e-02  5.086e-03  9.277e+03  -2.411   0.0159 *  \n",
      "walls_dist_Z              -1.215e-01  2.755e-02  1.268e+04  -4.408 1.05e-05 ***\n",
      "center_dist_Z              1.450e-01  2.807e-02  1.255e+04   5.163 2.46e-07 ***\n",
      "bottleneck_dist_Z         -6.051e-02  3.732e-03  1.034e+04 -16.215  < 2e-16 ***\n",
      "sr_occ_Z                  -4.418e-02  3.482e-03  6.890e+03 -12.691  < 2e-16 ***\n",
      "earlyterm1                -3.247e-03  2.499e-03  1.315e+04  -1.299   0.1940    \n",
      "---\n",
      "Signif. codes:  0 ‘***’ 0.001 ‘**’ 0.01 ‘*’ 0.05 ‘.’ 0.1 ‘ ’ 1\n",
      "\n",
      "Correlation of Fixed Effects:\n",
      "            (Intr) st___Z gr___Z l____Z opt__Z gl_d_Z str__Z wll__Z cnt__Z\n",
      "sttc_vgc__Z -0.037                                                        \n",
      "grph_bsd__Z  0.033 -0.183                                                 \n",
      "lg_trj_b__Z  0.007 -0.156 -0.642                                          \n",
      "optplcy_d_Z -0.004  0.282  0.322 -0.481                                   \n",
      "goal_dist_Z  0.055  0.058 -0.017  0.184 -0.233                            \n",
      "start_dst_Z  0.055  0.024  0.037  0.222 -0.195  0.828                     \n",
      "walls_dst_Z -0.143  0.243 -0.074  0.123 -0.014  0.057  0.064              \n",
      "centr_dst_Z  0.143 -0.216  0.048 -0.093  0.033 -0.079 -0.086 -0.991       \n",
      "bttlnck_d_Z  0.017  0.027  0.027  0.132 -0.537  0.471  0.426  0.085 -0.134\n",
      "sr_occ_Z     0.030 -0.029  0.011 -0.140  0.248  0.075  0.110 -0.158  0.214\n",
      "earlyterm1  -0.002  0.000  0.000 -0.001  0.001  0.000 -0.001  0.000  0.000\n",
      "            btt__Z sr_c_Z\n",
      "sttc_vgc__Z              \n",
      "grph_bsd__Z              \n",
      "lg_trj_b__Z              \n",
      "optplcy_d_Z              \n",
      "goal_dist_Z              \n",
      "start_dst_Z              \n",
      "walls_dst_Z              \n",
      "centr_dst_Z              \n",
      "bttlnck_d_Z              \n",
      "sr_occ_Z    -0.250       \n",
      "earlyterm1   0.000  0.000\n"
     ]
    }
   ],
   "source": [
    "%%R -i exp2_at_im\n",
    "exp2_at_im$earlyterm <- factor(exp2_at_im$earlyterm)\n",
    "contrasts(exp2_at_im$earlyterm) <- contr.sum(2)\n",
    "print(contrasts(exp2_at_im$earlyterm))\n",
    "onlymain <- lmer(\n",
    "    attention_N ~\n",
    "                static_vgc_weight_Z\n",
    "                    + graph_based_hitcount_Z\n",
    "                    + log_traj_based_hitcount_Z\n",
    "                    + optpolicy_dist_Z\n",
    "                    + goal_dist_Z\n",
    "                    + start_dist_Z\n",
    "                    + walls_dist_Z\n",
    "                    + center_dist_Z\n",
    "                    + bottleneck_dist_Z\n",
    "                    + sr_occ_Z\n",
    "                + earlyterm\n",
    "                + (1 | sessionId) + (1 | grid),\n",
    "    data=exp2_at_im,\n",
    "    control=lmerControl(optimizer=\"bobyqa\", optCtrl=list(maxfun=1e+05)),\n",
    "    REML=F\n",
    ")\n",
    "summary(onlymain)"
   ]
  },
  {
   "cell_type": "code",
   "execution_count": 7,
   "metadata": {},
   "outputs": [],
   "source": [
    "%%R -o interactions_res\n",
    "interactions_res <- rbind(\n",
    "    anova(\n",
    "        onlymain,\n",
    "        update(onlymain, ~ . + earlyterm:static_vgc_weight_Z)\n",
    "    ),\n",
    "    anova(\n",
    "        onlymain,\n",
    "        update(onlymain, ~ . + earlyterm:optpolicy_dist_Z)\n",
    "    ),\n",
    "    anova(\n",
    "        onlymain,\n",
    "        update(onlymain, ~ . + earlyterm:log_traj_based_hitcount_Z)\n",
    "    ),\n",
    "    anova(\n",
    "        onlymain,\n",
    "        update(onlymain, ~ . + earlyterm:graph_based_hitcount_Z)\n",
    "    )\n",
    ")"
   ]
  },
  {
   "cell_type": "code",
   "execution_count": 8,
   "metadata": {},
   "outputs": [],
   "source": [
    "%%R -o optpolicy_interaction_maineff_sum,optpolicy_interaction_interaction_sum,log_traj_interaction_maineff_sum,log_traj_interaction_interaction_sum\n",
    "# Optimal Policy Distance Interaction Model\n",
    "optpolicy_dist_res <- summary(update(onlymain, ~ . + earlyterm:optpolicy_dist_Z))\n",
    "optpolicy_interaction_maineff_sum <- paste(\n",
    "    \"$\\\\beta = \", round(optpolicy_dist_res$coefficients[\"optpolicy_dist_Z\",][\"Estimate\"], digits=3),\n",
    "    \", \\\\text{S.E.} = \", round(optpolicy_dist_res$coefficients[\"optpolicy_dist_Z\",][\"Std. Error\"], digits=3),\n",
    "    \"$\", sep=\"\"\n",
    ")\n",
    "optpolicy_interaction_interaction_sum <- paste(\n",
    "    \"$\\\\beta = \", round(optpolicy_dist_res$coefficients[\"optpolicy_dist_Z:earlyterm1\",][\"Estimate\"], digits=3),\n",
    "    \", \\\\text{S.E.} = \", round(optpolicy_dist_res$coefficients[\"optpolicy_dist_Z:earlyterm1\",][\"Std. Error\"], digits=3),\n",
    "    \"$\", sep=\"\"\n",
    ")\n",
    "# Trajectory-based Heuristic Search Interaction Model\n",
    "log_traj_res <- summary(update(onlymain, ~ . + earlyterm:log_traj_based_hitcount_Z))\n",
    "log_traj_interaction_maineff_sum <- paste(\n",
    "    \"$\\\\beta = \", round(log_traj_res$coefficients[\"log_traj_based_hitcount_Z\",][\"Estimate\"], digits=3),\n",
    "    \", \\\\text{S.E.} = \", round(log_traj_res$coefficients[\"log_traj_based_hitcount_Z\",][\"Std. Error\"], digits=3),\n",
    "    \"$\", sep=\"\"\n",
    ")\n",
    "log_traj_interaction_interaction_sum <- paste(\n",
    "    \"$\\\\beta = \", round(log_traj_res$coefficients[\"log_traj_based_hitcount_Z:earlyterm1\",][\"Estimate\"], digits=3),\n",
    "    \", \\\\text{S.E.} = \", round(log_traj_res$coefficients[\"log_traj_based_hitcount_Z:earlyterm1\",][\"Std. Error\"], digits=3),\n",
    "    \"$\", sep=\"\"\n",
    ")"
   ]
  },
  {
   "cell_type": "code",
   "execution_count": 9,
   "metadata": {},
   "outputs": [],
   "source": [
    "optpolicy_interaction_maineff_sum = optpolicy_interaction_maineff_sum[0]\n",
    "optpolicy_interaction_interaction_sum = optpolicy_interaction_interaction_sum[0]\n",
    "log_traj_interaction_maineff_sum = log_traj_interaction_maineff_sum[0]\n",
    "log_traj_interaction_interaction_sum = log_traj_interaction_interaction_sum[0]"
   ]
  },
  {
   "cell_type": "code",
   "execution_count": 10,
   "metadata": {},
   "outputs": [
    {
     "data": {
      "text/plain": [
       "('$\\\\beta = -0.083, \\\\text{S.E.} = 0.004$',\n",
       " '$\\\\beta = 0.009, \\\\text{S.E.} = 0.003$',\n",
       " '$\\\\beta = -0.033, \\\\text{S.E.} = 0.006$',\n",
       " '$\\\\beta = 0.013, \\\\text{S.E.} = 0.003$')"
      ]
     },
     "execution_count": 10,
     "metadata": {},
     "output_type": "execute_result"
    }
   ],
   "source": [
    "optpolicy_interaction_maineff_sum , optpolicy_interaction_interaction_sum, log_traj_interaction_maineff_sum, log_traj_interaction_interaction_sum"
   ]
  },
  {
   "cell_type": "code",
   "execution_count": 11,
   "metadata": {},
   "outputs": [],
   "source": [
    "with open(\"./inputs/exp2_optpolicy_interaction_maineff_sum_svgc.tex\", 'w') as file:\n",
    "    file.write(optpolicy_interaction_maineff_sum)\n",
    "with open(\"./inputs/exp2_optpolicy_interaction_interaction_sum_svgc.tex\", 'w') as file:\n",
    "    file.write(optpolicy_interaction_interaction_sum)\n",
    "with open(\"./inputs/exp2_log_traj_interaction_maineff_sum_svgc.tex\", 'w') as file:\n",
    "    file.write(log_traj_interaction_maineff_sum)\n",
    "with open(\"./inputs/exp2_log_traj_interaction_interaction_sum_svgc.tex\", 'w') as file:\n",
    "    file.write(log_traj_interaction_interaction_sum)"
   ]
  },
  {
   "cell_type": "code",
   "execution_count": 12,
   "metadata": {},
   "outputs": [],
   "source": [
    "exp2_interactions_res = interactions_res[['update' in i for i in interactions_res.index]].copy()\n",
    "exp2_interactions_res.index = [i.replace(\"update(onlymain, ~. + earlyterm:\", \"\").replace(\")\", \"\")\n",
    "                               for i in exp2_interactions_res.index]\n",
    "exp2_interactions_res[\"Bonferroni Pr(>Chisq)\"] = exp2_interactions_res['Pr(>Chisq)'].apply(lambda p: min(p*4, 1.0))"
   ]
  },
  {
   "cell_type": "code",
   "execution_count": 13,
   "metadata": {},
   "outputs": [
    {
     "name": "stdout",
     "output_type": "stream",
     "text": [
      "./inputs/exp2_static_vgc_weight_interaction_lesion_llr_svgc.tex\n",
      "static_vgc_weight :  $\\chi^2(1) = 1.02, p = 1.0$\n",
      "\n",
      "./inputs/exp2_optpolicy_dist_interaction_lesion_llr_svgc.tex\n",
      "optpolicy_dist :  $\\chi^2(1) = 12.22, p = 0.0019$\n",
      "\n",
      "./inputs/exp2_log_traj_based_hitcount_interaction_lesion_llr_svgc.tex\n",
      "log_traj_based_hitcount :  $\\chi^2(1) = 24.86, p = 2.5 \\times 10^{-6}$\n",
      "\n",
      "./inputs/exp2_graph_based_hitcount_interaction_lesion_llr_svgc.tex\n",
      "graph_based_hitcount :  $\\chi^2(1) = 1.69, p = 0.78$\n",
      "\n"
     ]
    }
   ],
   "source": [
    "for pred, row in exp2_interactions_res.iterrows():\n",
    "    pred_interaction_summary = \\\n",
    "        f\"$\\chi^2({int(row['Chi Df']):d}) = \" + \\\n",
    "        f\"{row['Chisq']:.2f}\" + \\\n",
    "        \", p \" + analysisutils.pval_to_string(row[\"Bonferroni Pr(>Chisq)\"]) + \"$\"\n",
    "    pred = pred.replace(\"_Z\", \"\")\n",
    "    filename = f\"./inputs/exp2_{pred}_interaction_lesion_llr_svgc.tex\"\n",
    "    print(filename)\n",
    "    with open(filename, 'w') as file:\n",
    "        file.write(pred_interaction_summary)\n",
    "    print(pred, \": \", pred_interaction_summary)\n",
    "    print()\n",
    "    # print(pred, row)"
   ]
  },
  {
   "cell_type": "markdown",
   "metadata": {},
   "source": [
    "# Dynamic"
   ]
  },
  {
   "cell_type": "markdown",
   "metadata": {},
   "source": [
    "## HGLM with VGC"
   ]
  },
  {
   "cell_type": "code",
   "execution_count": 14,
   "metadata": {},
   "outputs": [
    {
     "name": "stdout",
     "output_type": "stream",
     "text": [
      "$\\chi^2(1) = 877.83, p  < 1.0 \\times 10^{-16}$; $\\beta = 0.128$, S.E. $= 0.004$\n",
      "$\\chi^2(1) = 1060.92, p  < 1.0 \\times 10^{-16}$; $\\beta = 0.149$, S.E. $= 0.004$\n"
     ]
    }
   ],
   "source": [
    "exp2_full_vgc_sum = analysisutils.single_predictor_analysis(\n",
    "    name='Exp. 2 VGC full model',\n",
    "    data=exp2_full_at_im,\n",
    "    dv='attention_N',\n",
    "    model_func='lmer',\n",
    "    random_effects='(1 | sessionId) + (1 | grid)',\n",
    "    predictor='dynamic_vgc_weight_Z',\n",
    "    rmods=rmods,\n",
    "    coeff_digits=3,\n",
    "    normalized_predictor=True\n",
    ")\n",
    "exp2_early_vgc_sum = analysisutils.single_predictor_analysis(\n",
    "    name='Exp. 2 VGC early model',\n",
    "    data=exp2_early_at_im,\n",
    "    dv='attention_N',\n",
    "    model_func='lmer',\n",
    "    random_effects='(1 | sessionId) + (1 | grid)',\n",
    "    predictor='dynamic_vgc_weight_Z',\n",
    "    rmods=rmods,\n",
    "    coeff_digits=3,\n",
    "    normalized_predictor=True\n",
    ")\n",
    "\n",
    "with open(\"./inputs/exp2_early_vgc_single_summary_dvgc.tex\", 'w') as file:\n",
    "    file.write(exp2_early_vgc_sum.summary)\n",
    "print(exp2_early_vgc_sum.summary)\n",
    "with open(\"./inputs/exp2_full_vgc_single_summary_dvgc.tex\", 'w') as file:\n",
    "    file.write(exp2_full_vgc_sum.summary)\n",
    "print(exp2_full_vgc_sum.summary)"
   ]
  },
  {
   "cell_type": "markdown",
   "metadata": {},
   "source": [
    "## Interaction analysis"
   ]
  },
  {
   "cell_type": "code",
   "execution_count": 15,
   "metadata": {},
   "outputs": [
    {
     "name": "stdout",
     "output_type": "stream",
     "text": [
      "The rpy2.ipython extension is already loaded. To reload it, use:\n",
      "  %reload_ext rpy2.ipython\n"
     ]
    }
   ],
   "source": [
    "%load_ext rpy2.ipython"
   ]
  },
  {
   "cell_type": "code",
   "execution_count": 16,
   "metadata": {},
   "outputs": [],
   "source": [
    "%%R\n",
    "library(lme4)\n",
    "library(lmerTest)\n",
    "library(lmtest)\n",
    "library(scales)"
   ]
  },
  {
   "cell_type": "code",
   "execution_count": 17,
   "metadata": {},
   "outputs": [
    {
     "name": "stdout",
     "output_type": "stream",
     "text": [
      "          [,1]\n",
      "earlyterm    1\n",
      "full        -1\n",
      "Linear mixed model fit by maximum likelihood . t-tests use Satterthwaite's\n",
      "  method [lmerModLmerTest]\n",
      "Formula: attention_N ~ dynamic_vgc_weight_Z + graph_based_hitcount_Z +  \n",
      "    log_traj_based_hitcount_Z + optpolicy_dist_Z + goal_dist_Z +  \n",
      "    start_dist_Z + walls_dist_Z + center_dist_Z + bottleneck_dist_Z +  \n",
      "    sr_occ_Z + earlyterm + (1 | sessionId) + (1 | grid)\n",
      "   Data: exp2_at_im\n",
      "Control: lmerControl(optimizer = \"bobyqa\", optCtrl = list(maxfun = 1e+05))\n",
      "\n",
      "     AIC      BIC   logLik deviance df.resid \n",
      "  5007.6   5120.0  -2488.8   4977.6    13306 \n",
      "\n",
      "Scaled residuals: \n",
      "    Min      1Q  Median      3Q     Max \n",
      "-3.1116 -0.7590 -0.0300  0.7637  3.1936 \n",
      "\n",
      "Random effects:\n",
      " Groups    Name        Variance Std.Dev.\n",
      " sessionId (Intercept) 0.019779 0.14064 \n",
      " grid      (Intercept) 0.001625 0.04031 \n",
      " Residual              0.081773 0.28596 \n",
      "Number of obs: 13321, groups:  sessionId, 162; grid, 12\n",
      "\n",
      "Fixed effects:\n",
      "                            Estimate Std. Error         df t value Pr(>|t|)    \n",
      "(Intercept)                4.982e-01  1.645e-02  3.840e+01  30.292  < 2e-16 ***\n",
      "dynamic_vgc_weight_Z       8.928e-02  4.012e-03  1.268e+04  22.254  < 2e-16 ***\n",
      "graph_based_hitcount_Z     8.043e-03  5.401e-03  1.189e+04   1.489   0.1365    \n",
      "log_traj_based_hitcount_Z  9.614e-03  5.724e-03  4.980e+03   1.680   0.0931 .  \n",
      "optpolicy_dist_Z          -9.214e-02  3.881e-03  7.771e+03 -23.739  < 2e-16 ***\n",
      "goal_dist_Z                3.416e-03  5.405e-03  9.118e+03   0.632   0.5274    \n",
      "start_dist_Z              -5.795e-03  5.071e-03  9.179e+03  -1.143   0.2531    \n",
      "walls_dist_Z              -1.703e-01  2.678e-02  1.264e+04  -6.359 2.10e-10 ***\n",
      "center_dist_Z              1.985e-01  2.737e-02  1.253e+04   7.251 4.39e-13 ***\n",
      "bottleneck_dist_Z         -5.353e-02  3.730e-03  1.019e+04 -14.350  < 2e-16 ***\n",
      "sr_occ_Z                  -4.090e-02  3.461e-03  6.995e+03 -11.817  < 2e-16 ***\n",
      "earlyterm1                -3.266e-03  2.485e-03  1.315e+04  -1.315   0.1887    \n",
      "---\n",
      "Signif. codes:  0 ‘***’ 0.001 ‘**’ 0.01 ‘*’ 0.05 ‘.’ 0.1 ‘ ’ 1\n",
      "\n",
      "Correlation of Fixed Effects:\n",
      "            (Intr) dy___Z gr___Z l____Z opt__Z gl_d_Z str__Z wll__Z cnt__Z\n",
      "dynmc_vg__Z -0.001                                                        \n",
      "grph_bsd__Z  0.023 -0.486                                                 \n",
      "lg_trj_b__Z  0.001  0.202 -0.689                                          \n",
      "optplcy_d_Z  0.006  0.130  0.281 -0.422                                   \n",
      "goal_dist_Z  0.055  0.267 -0.135  0.239 -0.215                            \n",
      "start_dst_Z  0.055  0.077 -0.001  0.239 -0.198  0.816                     \n",
      "walls_dst_Z -0.136  0.123 -0.087  0.188 -0.071  0.076  0.069              \n",
      "centr_dst_Z  0.136 -0.094  0.054 -0.147  0.087 -0.091 -0.090 -0.990       \n",
      "bttlnck_d_Z  0.018  0.107 -0.024  0.156 -0.546  0.479  0.430  0.093 -0.140\n",
      "sr_occ_Z     0.028  0.019 -0.004 -0.140  0.267  0.079  0.111 -0.153  0.210\n",
      "earlyterm1  -0.002  0.000  0.001 -0.001  0.001  0.000 -0.001  0.000  0.000\n",
      "            btt__Z sr_c_Z\n",
      "dynmc_vg__Z              \n",
      "grph_bsd__Z              \n",
      "lg_trj_b__Z              \n",
      "optplcy_d_Z              \n",
      "goal_dist_Z              \n",
      "start_dst_Z              \n",
      "walls_dst_Z              \n",
      "centr_dst_Z              \n",
      "bttlnck_d_Z              \n",
      "sr_occ_Z    -0.246       \n",
      "earlyterm1   0.000  0.000\n"
     ]
    }
   ],
   "source": [
    "%%R -i exp2_at_im\n",
    "exp2_at_im$earlyterm <- factor(exp2_at_im$earlyterm)\n",
    "contrasts(exp2_at_im$earlyterm) <- contr.sum(2)\n",
    "print(contrasts(exp2_at_im$earlyterm))\n",
    "onlymain <- lmer(\n",
    "    attention_N ~\n",
    "                dynamic_vgc_weight_Z\n",
    "                    + graph_based_hitcount_Z\n",
    "                    + log_traj_based_hitcount_Z\n",
    "                    + optpolicy_dist_Z\n",
    "                    + goal_dist_Z\n",
    "                    + start_dist_Z\n",
    "                    + walls_dist_Z\n",
    "                    + center_dist_Z\n",
    "                    + bottleneck_dist_Z\n",
    "                    + sr_occ_Z\n",
    "                + earlyterm\n",
    "                + (1 | sessionId) + (1 | grid),\n",
    "    data=exp2_at_im,\n",
    "    control=lmerControl(optimizer=\"bobyqa\", optCtrl=list(maxfun=1e+05)),\n",
    "    REML=F\n",
    ")\n",
    "summary(onlymain)"
   ]
  },
  {
   "cell_type": "code",
   "execution_count": 18,
   "metadata": {},
   "outputs": [],
   "source": [
    "%%R -o interactions_res\n",
    "interactions_res <- rbind(\n",
    "    anova(\n",
    "        onlymain,\n",
    "        update(onlymain, ~ . + earlyterm:dynamic_vgc_weight_Z)\n",
    "    ),\n",
    "    anova(\n",
    "        onlymain,\n",
    "        update(onlymain, ~ . + earlyterm:optpolicy_dist_Z)\n",
    "    ),\n",
    "    anova(\n",
    "        onlymain,\n",
    "        update(onlymain, ~ . + earlyterm:log_traj_based_hitcount_Z)\n",
    "    ),\n",
    "    anova(\n",
    "        onlymain,\n",
    "        update(onlymain, ~ . + earlyterm:graph_based_hitcount_Z)\n",
    "    )\n",
    ")"
   ]
  },
  {
   "cell_type": "code",
   "execution_count": 19,
   "metadata": {},
   "outputs": [],
   "source": [
    "%%R -o optpolicy_interaction_maineff_sum,optpolicy_interaction_interaction_sum,log_traj_interaction_maineff_sum,log_traj_interaction_interaction_sum\n",
    "# Optimal Policy Distance Interaction Model\n",
    "optpolicy_dist_res <- summary(update(onlymain, ~ . + earlyterm:optpolicy_dist_Z))\n",
    "optpolicy_interaction_maineff_sum <- paste(\n",
    "    \"$\\\\beta = \", round(optpolicy_dist_res$coefficients[\"optpolicy_dist_Z\",][\"Estimate\"], digits=3),\n",
    "    \", \\\\text{S.E.} = \", round(optpolicy_dist_res$coefficients[\"optpolicy_dist_Z\",][\"Std. Error\"], digits=3),\n",
    "    \"$\", sep=\"\"\n",
    ")\n",
    "optpolicy_interaction_interaction_sum <- paste(\n",
    "    \"$\\\\beta = \", round(optpolicy_dist_res$coefficients[\"optpolicy_dist_Z:earlyterm1\",][\"Estimate\"], digits=3),\n",
    "    \", \\\\text{S.E.} = \", round(optpolicy_dist_res$coefficients[\"optpolicy_dist_Z:earlyterm1\",][\"Std. Error\"], digits=3),\n",
    "    \"$\", sep=\"\"\n",
    ")\n",
    "# Trajectory-based Heuristic Search Interaction Model\n",
    "log_traj_res <- summary(update(onlymain, ~ . + earlyterm:log_traj_based_hitcount_Z))\n",
    "log_traj_interaction_maineff_sum <- paste(\n",
    "    \"$\\\\beta = \", round(log_traj_res$coefficients[\"log_traj_based_hitcount_Z\",][\"Estimate\"], digits=3),\n",
    "    \", \\\\text{S.E.} = \", round(log_traj_res$coefficients[\"log_traj_based_hitcount_Z\",][\"Std. Error\"], digits=3),\n",
    "    \"$\", sep=\"\"\n",
    ")\n",
    "log_traj_interaction_interaction_sum <- paste(\n",
    "    \"$\\\\beta = \", round(log_traj_res$coefficients[\"log_traj_based_hitcount_Z:earlyterm1\",][\"Estimate\"], digits=3),\n",
    "    \", \\\\text{S.E.} = \", round(log_traj_res$coefficients[\"log_traj_based_hitcount_Z:earlyterm1\",][\"Std. Error\"], digits=3),\n",
    "    \"$\", sep=\"\"\n",
    ")"
   ]
  },
  {
   "cell_type": "code",
   "execution_count": 20,
   "metadata": {},
   "outputs": [],
   "source": [
    "optpolicy_interaction_maineff_sum = optpolicy_interaction_maineff_sum[0]\n",
    "optpolicy_interaction_interaction_sum = optpolicy_interaction_interaction_sum[0]\n",
    "log_traj_interaction_maineff_sum = log_traj_interaction_maineff_sum[0]\n",
    "log_traj_interaction_interaction_sum = log_traj_interaction_interaction_sum[0]"
   ]
  },
  {
   "cell_type": "code",
   "execution_count": 21,
   "metadata": {},
   "outputs": [
    {
     "data": {
      "text/plain": [
       "('$\\\\beta = -0.092, \\\\text{S.E.} = 0.004$',\n",
       " '$\\\\beta = 0.009, \\\\text{S.E.} = 0.003$',\n",
       " '$\\\\beta = 0.01, \\\\text{S.E.} = 0.006$',\n",
       " '$\\\\beta = 0.013, \\\\text{S.E.} = 0.003$')"
      ]
     },
     "execution_count": 21,
     "metadata": {},
     "output_type": "execute_result"
    }
   ],
   "source": [
    "optpolicy_interaction_maineff_sum , optpolicy_interaction_interaction_sum, log_traj_interaction_maineff_sum, log_traj_interaction_interaction_sum"
   ]
  },
  {
   "cell_type": "code",
   "execution_count": 22,
   "metadata": {},
   "outputs": [],
   "source": [
    "with open(\"./inputs/exp2_optpolicy_interaction_maineff_sum_dvgc.tex\", 'w') as file:\n",
    "    file.write(optpolicy_interaction_maineff_sum)\n",
    "with open(\"./inputs/exp2_optpolicy_interaction_interaction_sum_dvgc.tex\", 'w') as file:\n",
    "    file.write(optpolicy_interaction_interaction_sum)\n",
    "with open(\"./inputs/exp2_log_traj_interaction_maineff_sum_dvgc.tex\", 'w') as file:\n",
    "    file.write(log_traj_interaction_maineff_sum)\n",
    "with open(\"./inputs/exp2_log_traj_interaction_interaction_sum_dvgc.tex\", 'w') as file:\n",
    "    file.write(log_traj_interaction_interaction_sum)"
   ]
  },
  {
   "cell_type": "code",
   "execution_count": 23,
   "metadata": {},
   "outputs": [],
   "source": [
    "exp2_interactions_res = interactions_res[['update' in i for i in interactions_res.index]].copy()\n",
    "exp2_interactions_res.index = [i.replace(\"update(onlymain, ~. + earlyterm:\", \"\").replace(\")\", \"\")\n",
    "                               for i in exp2_interactions_res.index]\n",
    "exp2_interactions_res[\"Bonferroni Pr(>Chisq)\"] = exp2_interactions_res['Pr(>Chisq)'].apply(lambda p: min(p*4, 1.0))"
   ]
  },
  {
   "cell_type": "code",
   "execution_count": 24,
   "metadata": {},
   "outputs": [
    {
     "name": "stdout",
     "output_type": "stream",
     "text": [
      "./inputs/exp2_dynamic_vgc_weight_interaction_lesion_llr_dvgc.tex\n",
      "dynamic_vgc_weight :  $\\chi^2(1) = 5.90, p = 0.061$\n",
      "\n",
      "./inputs/exp2_optpolicy_dist_interaction_lesion_llr_dvgc.tex\n",
      "optpolicy_dist :  $\\chi^2(1) = 12.13, p = 0.0020$\n",
      "\n",
      "./inputs/exp2_log_traj_based_hitcount_interaction_lesion_llr_dvgc.tex\n",
      "log_traj_based_hitcount :  $\\chi^2(1) = 25.52, p = 1.7 \\times 10^{-6}$\n",
      "\n",
      "./inputs/exp2_graph_based_hitcount_interaction_lesion_llr_dvgc.tex\n",
      "graph_based_hitcount :  $\\chi^2(1) = 1.74, p = 0.75$\n",
      "\n",
      "WARNING:rpy2.rinterface_lib.callbacks:R[write to console]: Warning messages:\n",
      "\n",
      "WARNING:rpy2.rinterface_lib.callbacks:R[write to console]: 1: package ‘lmtest’ was built under R version 3.6.2 \n",
      "\n",
      "WARNING:rpy2.rinterface_lib.callbacks:R[write to console]: 2: package ‘zoo’ was built under R version 3.6.2 \n",
      "\n"
     ]
    }
   ],
   "source": [
    "for pred, row in exp2_interactions_res.iterrows():\n",
    "    pred_interaction_summary = \\\n",
    "        f\"$\\chi^2({int(row['Chi Df']):d}) = \" + \\\n",
    "        f\"{row['Chisq']:.2f}\" + \\\n",
    "        \", p \" + analysisutils.pval_to_string(row[\"Bonferroni Pr(>Chisq)\"]) + \"$\"\n",
    "    pred = pred.replace(\"_Z\", \"\")\n",
    "    filename = f\"./inputs/exp2_{pred}_interaction_lesion_llr_dvgc.tex\"\n",
    "    print(filename)\n",
    "    with open(filename, 'w') as file:\n",
    "        file.write(pred_interaction_summary)\n",
    "    print(pred, \": \", pred_interaction_summary)\n",
    "    print()\n",
    "    # print(pred, row)"
   ]
  },
  {
   "cell_type": "code",
   "execution_count": null,
   "metadata": {},
   "outputs": [],
   "source": []
  }
 ],
 "metadata": {
  "kernelspec": {
   "display_name": "Python 3 (ipykernel)",
   "language": "python",
   "name": "python3"
  },
  "language_info": {
   "codemirror_mode": {
    "name": "ipython",
    "version": 3
   },
   "file_extension": ".py",
   "mimetype": "text/x-python",
   "name": "python",
   "nbconvert_exporter": "python",
   "pygments_lexer": "ipython3",
   "version": "3.7.4"
  }
 },
 "nbformat": 4,
 "nbformat_minor": 4
}
