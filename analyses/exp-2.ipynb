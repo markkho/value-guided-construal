{
 "cells": [
  {
   "cell_type": "markdown",
   "metadata": {
    "tags": []
   },
   "source": [
    "# Experiment 2"
   ]
  },
  {
   "cell_type": "code",
   "execution_count": 1,
   "metadata": {},
   "outputs": [
    {
     "name": "stderr",
     "output_type": "stream",
     "text": [
      "R[write to console]: Loading required package: Matrix\n",
      "\n"
     ]
    }
   ],
   "source": [
    "import json\n",
    "import matplotlib.pyplot as plt\n",
    "import numpy as np\n",
    "\n",
    "from vgc_project.r import create_R_model_interface, ImmutableDataFrame\n",
    "from vgc_project.parameter_fit import create_fit_vgc_model_to_trials, Trial\n",
    "\n",
    "joblib_cache_location = \"./_analysiscache\"\n",
    "rmods = create_R_model_interface(joblib_cache_location=joblib_cache_location)\n",
    "fit_vgc_model_to_trials = create_fit_vgc_model_to_trials(joblib_cache_location=joblib_cache_location)\n",
    "\n",
    "import analysisutils\n",
    "from analysisutils import predictor_names, short_predictor_names\n",
    "from prep_data import \\\n",
    "    mazes,\\\n",
    "    model_preds,\\\n",
    "    get_exp2_at\n",
    "\n",
    "exp2_at = get_exp2_at()"
   ]
  },
  {
   "cell_type": "code",
   "execution_count": 2,
   "metadata": {},
   "outputs": [],
   "source": [
    "exp2_early_at_im = ImmutableDataFrame(exp2_at[exp2_at['earlyterm'] == 'earlyterm'])\n",
    "exp2_full_at_im = ImmutableDataFrame(exp2_at[exp2_at['earlyterm'] == 'full'])\n",
    "exp2_at_im = ImmutableDataFrame(exp2_at)"
   ]
  },
  {
   "cell_type": "markdown",
   "metadata": {},
   "source": [
    "# Static"
   ]
  },
  {
   "cell_type": "markdown",
   "metadata": {},
   "source": [
    "## HGLM with VGC"
   ]
  },
  {
   "cell_type": "code",
   "execution_count": 3,
   "metadata": {},
   "outputs": [
    {
     "name": "stderr",
     "output_type": "stream",
     "text": [
      "/Users/markho/Dropbox/Cog-Sci-Research/Projects-active/Frames/vgc_project/vgc_project/r.py:56: UserWarning: Persisting input arguments took 0.53s to run.\n",
      "If this happens often in your code, it can cause performance problems \n",
      "(results will be correct in all cases). \n",
      "The reason for this is probably some large input arguments for a wrapped\n",
      " function (e.g. large strings).\n",
      "THIS IS A JOBLIB ISSUE. If you can, kindly provide the joblib's team with an\n",
      " example so that they can fix the problem.\n",
      "  cache[key] = func(*args, **kw)\n",
      "/Users/markho/Dropbox/Cog-Sci-Research/Projects-active/Frames/vgc_project/vgc_project/r.py:56: UserWarning: Persisting input arguments took 0.57s to run.\n",
      "If this happens often in your code, it can cause performance problems \n",
      "(results will be correct in all cases). \n",
      "The reason for this is probably some large input arguments for a wrapped\n",
      " function (e.g. large strings).\n",
      "THIS IS A JOBLIB ISSUE. If you can, kindly provide the joblib's team with an\n",
      " example so that they can fix the problem.\n",
      "  cache[key] = func(*args, **kw)\n"
     ]
    },
    {
     "name": "stdout",
     "output_type": "stream",
     "text": [
      "$\\chi^2(1) = 679.20, p  < 1.0 \\times 10^{-16}$; $\\beta = 0.106$, S.E. $= 0.004$\n",
      "$\\chi^2(1) = 726.95, p  < 1.0 \\times 10^{-16}$; $\\beta = 0.115$, S.E. $= 0.004$\n"
     ]
    }
   ],
   "source": [
    "exp2_full_vgc_sum = analysisutils.single_predictor_analysis(\n",
    "    name='Exp. 2 VGC full model',\n",
    "    data=exp2_full_at_im,\n",
    "    dv='attention_N',\n",
    "    model_func='lmer',\n",
    "    random_effects='(1 | sessionId) + (1 | grid)',\n",
    "    predictor='static_vgc_weight_Z',\n",
    "    rmods=rmods,\n",
    "    coeff_digits=3,\n",
    "    normalized_predictor=True\n",
    ")\n",
    "exp2_early_vgc_sum = analysisutils.single_predictor_analysis(\n",
    "    name='Exp. 2 VGC early model',\n",
    "    data=exp2_early_at_im,\n",
    "    dv='attention_N',\n",
    "    model_func='lmer',\n",
    "    random_effects='(1 | sessionId) + (1 | grid)',\n",
    "    predictor='static_vgc_weight_Z',\n",
    "    rmods=rmods,\n",
    "    coeff_digits=3,\n",
    "    normalized_predictor=True\n",
    ")\n",
    "\n",
    "with open(\"./inputs/exp2_early_vgc_single_summary_svgc.tex\", 'w') as file:\n",
    "    file.write(exp2_early_vgc_sum.summary)\n",
    "print(exp2_early_vgc_sum.summary)\n",
    "with open(\"./inputs/exp2_full_vgc_single_summary_svgc.tex\", 'w') as file:\n",
    "    file.write(exp2_full_vgc_sum.summary)\n",
    "print(exp2_full_vgc_sum.summary)"
   ]
  },
  {
   "cell_type": "markdown",
   "metadata": {},
   "source": [
    "## Interaction analysis"
   ]
  },
  {
   "cell_type": "code",
   "execution_count": 4,
   "metadata": {},
   "outputs": [],
   "source": [
    "%load_ext rpy2.ipython"
   ]
  },
  {
   "cell_type": "code",
   "execution_count": 5,
   "metadata": {},
   "outputs": [
    {
     "name": "stdout",
     "output_type": "stream",
     "text": [
      "WARNING:rpy2.rinterface_lib.callbacks:R[write to console]: \n",
      "Attaching package: ‘lmerTest’\n",
      "\n",
      "\n",
      "WARNING:rpy2.rinterface_lib.callbacks:R[write to console]: The following object is masked from ‘package:lme4’:\n",
      "\n",
      "    lmer\n",
      "\n",
      "\n",
      "WARNING:rpy2.rinterface_lib.callbacks:R[write to console]: The following object is masked from ‘package:stats’:\n",
      "\n",
      "    step\n",
      "\n",
      "\n",
      "WARNING:rpy2.rinterface_lib.callbacks:R[write to console]: Loading required package: zoo\n",
      "\n",
      "WARNING:rpy2.rinterface_lib.callbacks:R[write to console]: \n",
      "Attaching package: ‘zoo’\n",
      "\n",
      "\n",
      "WARNING:rpy2.rinterface_lib.callbacks:R[write to console]: The following objects are masked from ‘package:base’:\n",
      "\n",
      "    as.Date, as.Date.numeric\n",
      "\n",
      "\n"
     ]
    }
   ],
   "source": [
    "%%R\n",
    "library(lme4)\n",
    "library(lmerTest)\n",
    "library(lmtest)\n",
    "library(scales)"
   ]
  },
  {
   "cell_type": "code",
   "execution_count": 6,
   "metadata": {},
   "outputs": [
    {
     "name": "stdout",
     "output_type": "stream",
     "text": [
      "          [,1]\n",
      "earlyterm    1\n",
      "full        -1\n",
      "Linear mixed model fit by maximum likelihood . t-tests use Satterthwaite's\n",
      "  method [lmerModLmerTest]\n",
      "Formula: attention_N ~ static_vgc_weight_Z + graph_based_hitcount_Z +  \n",
      "    log_traj_based_hitcount_Z + optpolicy_dist_Z + goal_dist_Z +  \n",
      "    start_dist_Z + walls_dist_Z + center_dist_Z + bottleneck_dist_Z +  \n",
      "    sr_occ_Z + earlyterm + (1 | sessionId) + (1 | grid)\n",
      "   Data: exp2_at_im\n",
      "Control: lmerControl(optimizer = \"bobyqa\", optCtrl = list(maxfun = 1e+05))\n",
      "\n",
      "     AIC      BIC   logLik deviance df.resid \n",
      "  5173.9   5286.3  -2571.9   5143.9    13306 \n",
      "\n",
      "Scaled residuals: \n",
      "    Min      1Q  Median      3Q     Max \n",
      "-3.1959 -0.7532 -0.0261  0.7669  3.3219 \n",
      "\n",
      "Random effects:\n",
      " Groups    Name        Variance Std.Dev.\n",
      " sessionId (Intercept) 0.019764 0.14058 \n",
      " grid      (Intercept) 0.001595 0.03994 \n",
      " Residual              0.082815 0.28778 \n",
      "Number of obs: 13321, groups:  sessionId, 162; grid, 12\n",
      "\n",
      "Fixed effects:\n",
      "                            Estimate Std. Error         df t value Pr(>|t|)    \n",
      "(Intercept)                4.879e-01  1.638e-02  3.971e+01  29.780  < 2e-16 ***\n",
      "static_vgc_weight_Z        6.643e-02  3.605e-03  1.222e+04  18.425  < 2e-16 ***\n",
      "graph_based_hitcount_Z     5.038e-02  4.837e-03  1.203e+04  10.416  < 2e-16 ***\n",
      "log_traj_based_hitcount_Z -3.317e-02  5.708e-03  4.524e+03  -5.810 6.66e-09 ***\n",
      "optpolicy_dist_Z          -8.158e-02  4.041e-03  6.683e+03 -20.187  < 2e-16 ***\n",
      "goal_dist_Z               -2.289e-02  5.256e-03  9.340e+03  -4.356 1.34e-05 ***\n",
      "start_dist_Z              -1.232e-02  5.089e-03  9.218e+03  -2.422   0.0155 *  \n",
      "walls_dist_Z              -1.232e-01  2.756e-02  1.267e+04  -4.470 7.90e-06 ***\n",
      "center_dist_Z              1.464e-01  2.808e-02  1.255e+04   5.214 1.87e-07 ***\n",
      "bottleneck_dist_Z         -6.082e-02  3.738e-03  1.024e+04 -16.273  < 2e-16 ***\n",
      "sr_occ_Z                  -4.436e-02  3.488e-03  6.798e+03 -12.719  < 2e-16 ***\n",
      "earlyterm1                -3.246e-03  2.500e-03  1.315e+04  -1.298   0.1943    \n",
      "---\n",
      "Signif. codes:  0 ‘***’ 0.001 ‘**’ 0.01 ‘*’ 0.05 ‘.’ 0.1 ‘ ’ 1\n",
      "\n",
      "Correlation of Fixed Effects:\n",
      "            (Intr) st___Z gr___Z l____Z opt__Z gl_d_Z str__Z wll__Z cnt__Z\n",
      "sttc_vgc__Z -0.037                                                        \n",
      "grph_bsd__Z  0.032 -0.183                                                 \n",
      "lg_trj_b__Z  0.007 -0.155 -0.643                                          \n",
      "optplcy_d_Z -0.005  0.280  0.325 -0.481                                   \n",
      "goal_dist_Z  0.056  0.057 -0.019  0.186 -0.238                            \n",
      "start_dst_Z  0.055  0.024  0.036  0.223 -0.196  0.828                     \n",
      "walls_dst_Z -0.143  0.244 -0.073  0.122 -0.011  0.056  0.063              \n",
      "centr_dst_Z  0.143 -0.217  0.047 -0.092  0.031 -0.079 -0.086 -0.991       \n",
      "bttlnck_d_Z  0.018  0.028  0.024  0.133 -0.539  0.473  0.427  0.083 -0.133\n",
      "sr_occ_Z     0.029 -0.028  0.014 -0.142  0.253  0.072  0.108 -0.157  0.213\n",
      "earlyterm1  -0.002  0.000  0.000 -0.001  0.001  0.000 -0.001  0.000  0.000\n",
      "            btt__Z sr_c_Z\n",
      "sttc_vgc__Z              \n",
      "grph_bsd__Z              \n",
      "lg_trj_b__Z              \n",
      "optplcy_d_Z              \n",
      "goal_dist_Z              \n",
      "start_dst_Z              \n",
      "walls_dst_Z              \n",
      "centr_dst_Z              \n",
      "bttlnck_d_Z              \n",
      "sr_occ_Z    -0.253       \n",
      "earlyterm1   0.000  0.000\n"
     ]
    }
   ],
   "source": [
    "%%R -i exp2_at_im\n",
    "exp2_at_im$earlyterm <- factor(exp2_at_im$earlyterm)\n",
    "contrasts(exp2_at_im$earlyterm) <- contr.sum(2)\n",
    "print(contrasts(exp2_at_im$earlyterm))\n",
    "onlymain <- lmer(\n",
    "    attention_N ~\n",
    "                static_vgc_weight_Z\n",
    "                    + graph_based_hitcount_Z\n",
    "                    + log_traj_based_hitcount_Z\n",
    "                    + optpolicy_dist_Z\n",
    "                    + goal_dist_Z\n",
    "                    + start_dist_Z\n",
    "                    + walls_dist_Z\n",
    "                    + center_dist_Z\n",
    "                    + bottleneck_dist_Z\n",
    "                    + sr_occ_Z\n",
    "                + earlyterm\n",
    "                + (1 | sessionId) + (1 | grid),\n",
    "    data=exp2_at_im,\n",
    "    control=lmerControl(optimizer=\"bobyqa\", optCtrl=list(maxfun=1e+05)),\n",
    "    REML=F\n",
    ")\n",
    "summary(onlymain)"
   ]
  },
  {
   "cell_type": "code",
   "execution_count": 7,
   "metadata": {},
   "outputs": [],
   "source": [
    "%%R -o interactions_res\n",
    "interactions_res <- rbind(\n",
    "    anova(\n",
    "        onlymain,\n",
    "        update(onlymain, ~ . + earlyterm:static_vgc_weight_Z)\n",
    "    ),\n",
    "    anova(\n",
    "        onlymain,\n",
    "        update(onlymain, ~ . + earlyterm:optpolicy_dist_Z)\n",
    "    ),\n",
    "    anova(\n",
    "        onlymain,\n",
    "        update(onlymain, ~ . + earlyterm:log_traj_based_hitcount_Z)\n",
    "    ),\n",
    "    anova(\n",
    "        onlymain,\n",
    "        update(onlymain, ~ . + earlyterm:graph_based_hitcount_Z)\n",
    "    )\n",
    ")"
   ]
  },
  {
   "cell_type": "code",
   "execution_count": 8,
   "metadata": {},
   "outputs": [],
   "source": [
    "%%R -o optpolicy_interaction_maineff_sum,optpolicy_interaction_interaction_sum,log_traj_interaction_maineff_sum,log_traj_interaction_interaction_sum\n",
    "# Optimal Policy Distance Interaction Model\n",
    "optpolicy_dist_res <- summary(update(onlymain, ~ . + earlyterm:optpolicy_dist_Z))\n",
    "optpolicy_interaction_maineff_sum <- paste(\n",
    "    \"$\\\\beta = \", round(optpolicy_dist_res$coefficients[\"optpolicy_dist_Z\",][\"Estimate\"], digits=3),\n",
    "    \", \\\\text{S.E.} = \", round(optpolicy_dist_res$coefficients[\"optpolicy_dist_Z\",][\"Std. Error\"], digits=3),\n",
    "    \"$\", sep=\"\"\n",
    ")\n",
    "optpolicy_interaction_interaction_sum <- paste(\n",
    "    \"$\\\\beta = \", round(optpolicy_dist_res$coefficients[\"optpolicy_dist_Z:earlyterm1\",][\"Estimate\"], digits=3),\n",
    "    \", \\\\text{S.E.} = \", round(optpolicy_dist_res$coefficients[\"optpolicy_dist_Z:earlyterm1\",][\"Std. Error\"], digits=3),\n",
    "    \"$\", sep=\"\"\n",
    ")\n",
    "# Trajectory-based Heuristic Search Interaction Model\n",
    "log_traj_res <- summary(update(onlymain, ~ . + earlyterm:log_traj_based_hitcount_Z))\n",
    "log_traj_interaction_maineff_sum <- paste(\n",
    "    \"$\\\\beta = \", round(log_traj_res$coefficients[\"log_traj_based_hitcount_Z\",][\"Estimate\"], digits=3),\n",
    "    \", \\\\text{S.E.} = \", round(log_traj_res$coefficients[\"log_traj_based_hitcount_Z\",][\"Std. Error\"], digits=3),\n",
    "    \"$\", sep=\"\"\n",
    ")\n",
    "log_traj_interaction_interaction_sum <- paste(\n",
    "    \"$\\\\beta = \", round(log_traj_res$coefficients[\"log_traj_based_hitcount_Z:earlyterm1\",][\"Estimate\"], digits=3),\n",
    "    \", \\\\text{S.E.} = \", round(log_traj_res$coefficients[\"log_traj_based_hitcount_Z:earlyterm1\",][\"Std. Error\"], digits=3),\n",
    "    \"$\", sep=\"\"\n",
    ")"
   ]
  },
  {
   "cell_type": "code",
   "execution_count": 9,
   "metadata": {},
   "outputs": [],
   "source": [
    "optpolicy_interaction_maineff_sum = optpolicy_interaction_maineff_sum[0]\n",
    "optpolicy_interaction_interaction_sum = optpolicy_interaction_interaction_sum[0]\n",
    "log_traj_interaction_maineff_sum = log_traj_interaction_maineff_sum[0]\n",
    "log_traj_interaction_interaction_sum = log_traj_interaction_interaction_sum[0]"
   ]
  },
  {
   "cell_type": "code",
   "execution_count": 10,
   "metadata": {},
   "outputs": [
    {
     "data": {
      "text/plain": [
       "('$\\\\beta = -0.082, \\\\text{S.E.} = 0.004$',\n",
       " '$\\\\beta = 0.009, \\\\text{S.E.} = 0.003$',\n",
       " '$\\\\beta = -0.033, \\\\text{S.E.} = 0.006$',\n",
       " '$\\\\beta = 0.013, \\\\text{S.E.} = 0.003$')"
      ]
     },
     "execution_count": 10,
     "metadata": {},
     "output_type": "execute_result"
    }
   ],
   "source": [
    "optpolicy_interaction_maineff_sum , optpolicy_interaction_interaction_sum, log_traj_interaction_maineff_sum, log_traj_interaction_interaction_sum"
   ]
  },
  {
   "cell_type": "code",
   "execution_count": 11,
   "metadata": {},
   "outputs": [],
   "source": [
    "with open(\"./inputs/exp2_optpolicy_interaction_maineff_sum_svgc.tex\", 'w') as file:\n",
    "    file.write(optpolicy_interaction_maineff_sum)\n",
    "with open(\"./inputs/exp2_optpolicy_interaction_interaction_sum_svgc.tex\", 'w') as file:\n",
    "    file.write(optpolicy_interaction_interaction_sum)\n",
    "with open(\"./inputs/exp2_log_traj_interaction_maineff_sum_svgc.tex\", 'w') as file:\n",
    "    file.write(log_traj_interaction_maineff_sum)\n",
    "with open(\"./inputs/exp2_log_traj_interaction_interaction_sum_svgc.tex\", 'w') as file:\n",
    "    file.write(log_traj_interaction_interaction_sum)"
   ]
  },
  {
   "cell_type": "code",
   "execution_count": 12,
   "metadata": {},
   "outputs": [],
   "source": [
    "exp2_interactions_res = interactions_res[['update' in i for i in interactions_res.index]].copy()\n",
    "exp2_interactions_res.index = [i.replace(\"update(onlymain, ~. + earlyterm:\", \"\").replace(\")\", \"\")\n",
    "                               for i in exp2_interactions_res.index]\n",
    "exp2_interactions_res[\"Bonferroni Pr(>Chisq)\"] = exp2_interactions_res['Pr(>Chisq)'].apply(lambda p: min(p*4, 1.0))"
   ]
  },
  {
   "cell_type": "code",
   "execution_count": 13,
   "metadata": {},
   "outputs": [
    {
     "name": "stdout",
     "output_type": "stream",
     "text": [
      "./inputs/exp2_static_vgc_weight_interaction_lesion_llr_svgc.tex\n",
      "static_vgc_weight :  $\\chi^2(1) = 1.01, p = 1.0$\n",
      "\n",
      "./inputs/exp2_optpolicy_dist_interaction_lesion_llr_svgc.tex\n",
      "optpolicy_dist :  $\\chi^2(1) = 12.15, p = 0.0020$\n",
      "\n",
      "./inputs/exp2_log_traj_based_hitcount_interaction_lesion_llr_svgc.tex\n",
      "log_traj_based_hitcount :  $\\chi^2(1) = 24.75, p = 2.6 \\times 10^{-6}$\n",
      "\n",
      "./inputs/exp2_graph_based_hitcount_interaction_lesion_llr_svgc.tex\n",
      "graph_based_hitcount :  $\\chi^2(1) = 1.67, p = 0.79$\n",
      "\n"
     ]
    }
   ],
   "source": [
    "for pred, row in exp2_interactions_res.iterrows():\n",
    "    pred_interaction_summary = \\\n",
    "        f\"$\\chi^2({int(row['Chi Df']):d}) = \" + \\\n",
    "        f\"{row['Chisq']:.2f}\" + \\\n",
    "        \", p \" + analysisutils.pval_to_string(row[\"Bonferroni Pr(>Chisq)\"]) + \"$\"\n",
    "    pred = pred.replace(\"_Z\", \"\")\n",
    "    filename = f\"./inputs/exp2_{pred}_interaction_lesion_llr_svgc.tex\"\n",
    "    print(filename)\n",
    "    with open(filename, 'w') as file:\n",
    "        file.write(pred_interaction_summary)\n",
    "    print(pred, \": \", pred_interaction_summary)\n",
    "    print()\n",
    "    # print(pred, row)"
   ]
  },
  {
   "cell_type": "markdown",
   "metadata": {},
   "source": [
    "# Dynamic"
   ]
  },
  {
   "cell_type": "markdown",
   "metadata": {},
   "source": [
    "## HGLM with VGC"
   ]
  },
  {
   "cell_type": "code",
   "execution_count": 14,
   "metadata": {},
   "outputs": [
    {
     "name": "stderr",
     "output_type": "stream",
     "text": [
      "/Users/markho/Dropbox/Cog-Sci-Research/Projects-active/Frames/vgc_project/vgc_project/r.py:56: UserWarning: Persisting input arguments took 0.67s to run.\n",
      "If this happens often in your code, it can cause performance problems \n",
      "(results will be correct in all cases). \n",
      "The reason for this is probably some large input arguments for a wrapped\n",
      " function (e.g. large strings).\n",
      "THIS IS A JOBLIB ISSUE. If you can, kindly provide the joblib's team with an\n",
      " example so that they can fix the problem.\n",
      "  cache[key] = func(*args, **kw)\n"
     ]
    },
    {
     "name": "stdout",
     "output_type": "stream",
     "text": [
      "$\\chi^2(1) = 877.32, p  < 1.0 \\times 10^{-16}$; $\\beta = 0.128$, S.E. $= 0.004$\n",
      "$\\chi^2(1) = 1059.32, p  < 1.0 \\times 10^{-16}$; $\\beta = 0.149$, S.E. $= 0.004$\n"
     ]
    },
    {
     "name": "stderr",
     "output_type": "stream",
     "text": [
      "/Users/markho/Dropbox/Cog-Sci-Research/Projects-active/Frames/vgc_project/vgc_project/r.py:56: UserWarning: Persisting input arguments took 0.56s to run.\n",
      "If this happens often in your code, it can cause performance problems \n",
      "(results will be correct in all cases). \n",
      "The reason for this is probably some large input arguments for a wrapped\n",
      " function (e.g. large strings).\n",
      "THIS IS A JOBLIB ISSUE. If you can, kindly provide the joblib's team with an\n",
      " example so that they can fix the problem.\n",
      "  cache[key] = func(*args, **kw)\n"
     ]
    }
   ],
   "source": [
    "exp2_full_vgc_sum = analysisutils.single_predictor_analysis(\n",
    "    name='Exp. 2 VGC full model',\n",
    "    data=exp2_full_at_im,\n",
    "    dv='attention_N',\n",
    "    model_func='lmer',\n",
    "    random_effects='(1 | sessionId) + (1 | grid)',\n",
    "    predictor='dynamic_vgc_weight_Z',\n",
    "    rmods=rmods,\n",
    "    coeff_digits=3,\n",
    "    normalized_predictor=True\n",
    ")\n",
    "exp2_early_vgc_sum = analysisutils.single_predictor_analysis(\n",
    "    name='Exp. 2 VGC early model',\n",
    "    data=exp2_early_at_im,\n",
    "    dv='attention_N',\n",
    "    model_func='lmer',\n",
    "    random_effects='(1 | sessionId) + (1 | grid)',\n",
    "    predictor='dynamic_vgc_weight_Z',\n",
    "    rmods=rmods,\n",
    "    coeff_digits=3,\n",
    "    normalized_predictor=True\n",
    ")\n",
    "\n",
    "with open(\"./inputs/exp2_early_vgc_single_summary_dvgc.tex\", 'w') as file:\n",
    "    file.write(exp2_early_vgc_sum.summary)\n",
    "print(exp2_early_vgc_sum.summary)\n",
    "with open(\"./inputs/exp2_full_vgc_single_summary_dvgc.tex\", 'w') as file:\n",
    "    file.write(exp2_full_vgc_sum.summary)\n",
    "print(exp2_full_vgc_sum.summary)"
   ]
  },
  {
   "cell_type": "markdown",
   "metadata": {},
   "source": [
    "## Interaction analysis"
   ]
  },
  {
   "cell_type": "code",
   "execution_count": 15,
   "metadata": {},
   "outputs": [
    {
     "name": "stdout",
     "output_type": "stream",
     "text": [
      "The rpy2.ipython extension is already loaded. To reload it, use:\n",
      "  %reload_ext rpy2.ipython\n"
     ]
    }
   ],
   "source": [
    "%load_ext rpy2.ipython"
   ]
  },
  {
   "cell_type": "code",
   "execution_count": 16,
   "metadata": {},
   "outputs": [],
   "source": [
    "%%R\n",
    "library(lme4)\n",
    "library(lmerTest)\n",
    "library(lmtest)\n",
    "library(scales)"
   ]
  },
  {
   "cell_type": "code",
   "execution_count": 17,
   "metadata": {},
   "outputs": [
    {
     "name": "stdout",
     "output_type": "stream",
     "text": [
      "          [,1]\n",
      "earlyterm    1\n",
      "full        -1\n",
      "Linear mixed model fit by maximum likelihood . t-tests use Satterthwaite's\n",
      "  method [lmerModLmerTest]\n",
      "Formula: attention_N ~ dynamic_vgc_weight_Z + graph_based_hitcount_Z +  \n",
      "    log_traj_based_hitcount_Z + optpolicy_dist_Z + goal_dist_Z +  \n",
      "    start_dist_Z + walls_dist_Z + center_dist_Z + bottleneck_dist_Z +  \n",
      "    sr_occ_Z + earlyterm + (1 | sessionId) + (1 | grid)\n",
      "   Data: exp2_at_im\n",
      "Control: lmerControl(optimizer = \"bobyqa\", optCtrl = list(maxfun = 1e+05))\n",
      "\n",
      "     AIC      BIC   logLik deviance df.resid \n",
      "  5017.5   5130.0  -2493.8   4987.5    13306 \n",
      "\n",
      "Scaled residuals: \n",
      "    Min      1Q  Median      3Q     Max \n",
      "-3.1098 -0.7579 -0.0307  0.7626  3.1833 \n",
      "\n",
      "Random effects:\n",
      " Groups    Name        Variance Std.Dev.\n",
      " sessionId (Intercept) 0.019778 0.14063 \n",
      " grid      (Intercept) 0.001621 0.04026 \n",
      " Residual              0.081835 0.28607 \n",
      "Number of obs: 13321, groups:  sessionId, 162; grid, 12\n",
      "\n",
      "Fixed effects:\n",
      "                            Estimate Std. Error         df t value Pr(>|t|)    \n",
      "(Intercept)                4.985e-01  1.644e-02  3.844e+01  30.332  < 2e-16 ***\n",
      "dynamic_vgc_weight_Z       8.982e-02  4.014e-03  1.268e+04  22.378  < 2e-16 ***\n",
      "graph_based_hitcount_Z     7.880e-03  5.409e-03  1.186e+04   1.457    0.145    \n",
      "log_traj_based_hitcount_Z  9.300e-03  5.729e-03  4.911e+03   1.623    0.105    \n",
      "optpolicy_dist_Z          -9.156e-02  3.889e-03  7.653e+03 -23.546  < 2e-16 ***\n",
      "goal_dist_Z                4.054e-03  5.416e-03  9.019e+03   0.749    0.454    \n",
      "start_dist_Z              -5.586e-03  5.075e-03  9.115e+03  -1.101    0.271    \n",
      "walls_dist_Z              -1.725e-01  2.678e-02  1.264e+04  -6.442 1.22e-10 ***\n",
      "center_dist_Z              2.004e-01  2.738e-02  1.253e+04   7.321 2.61e-13 ***\n",
      "bottleneck_dist_Z         -5.363e-02  3.737e-03  1.008e+04 -14.349  < 2e-16 ***\n",
      "sr_occ_Z                  -4.115e-02  3.468e-03  6.912e+03 -11.868  < 2e-16 ***\n",
      "earlyterm1                -3.266e-03  2.486e-03  1.315e+04  -1.314    0.189    \n",
      "---\n",
      "Signif. codes:  0 ‘***’ 0.001 ‘**’ 0.01 ‘*’ 0.05 ‘.’ 0.1 ‘ ’ 1\n",
      "\n",
      "Correlation of Fixed Effects:\n",
      "            (Intr) dy___Z gr___Z l____Z opt__Z gl_d_Z str__Z wll__Z cnt__Z\n",
      "dynmc_vg__Z -0.001                                                        \n",
      "grph_bsd__Z  0.023 -0.486                                                 \n",
      "lg_trj_b__Z  0.001  0.204 -0.691                                          \n",
      "optplcy_d_Z  0.005  0.125  0.285 -0.423                                   \n",
      "goal_dist_Z  0.055  0.268 -0.138  0.241 -0.220                            \n",
      "start_dst_Z  0.056  0.079 -0.003  0.240 -0.200  0.817                     \n",
      "walls_dst_Z -0.136  0.124 -0.087  0.187 -0.068  0.075  0.068              \n",
      "centr_dst_Z  0.136 -0.095  0.053 -0.146  0.085 -0.091 -0.090 -0.990       \n",
      "bttlnck_d_Z  0.018  0.109 -0.027  0.158 -0.548  0.482  0.431  0.091 -0.139\n",
      "sr_occ_Z     0.028  0.019 -0.001 -0.142  0.272  0.076  0.110 -0.152  0.210\n",
      "earlyterm1  -0.002  0.000  0.001 -0.001  0.001  0.000 -0.001  0.000  0.000\n",
      "            btt__Z sr_c_Z\n",
      "dynmc_vg__Z              \n",
      "grph_bsd__Z              \n",
      "lg_trj_b__Z              \n",
      "optplcy_d_Z              \n",
      "goal_dist_Z              \n",
      "start_dst_Z              \n",
      "walls_dst_Z              \n",
      "centr_dst_Z              \n",
      "bttlnck_d_Z              \n",
      "sr_occ_Z    -0.249       \n",
      "earlyterm1   0.000  0.000\n"
     ]
    }
   ],
   "source": [
    "%%R -i exp2_at_im\n",
    "exp2_at_im$earlyterm <- factor(exp2_at_im$earlyterm)\n",
    "contrasts(exp2_at_im$earlyterm) <- contr.sum(2)\n",
    "print(contrasts(exp2_at_im$earlyterm))\n",
    "onlymain <- lmer(\n",
    "    attention_N ~\n",
    "                dynamic_vgc_weight_Z\n",
    "                    + graph_based_hitcount_Z\n",
    "                    + log_traj_based_hitcount_Z\n",
    "                    + optpolicy_dist_Z\n",
    "                    + goal_dist_Z\n",
    "                    + start_dist_Z\n",
    "                    + walls_dist_Z\n",
    "                    + center_dist_Z\n",
    "                    + bottleneck_dist_Z\n",
    "                    + sr_occ_Z\n",
    "                + earlyterm\n",
    "                + (1 | sessionId) + (1 | grid),\n",
    "    data=exp2_at_im,\n",
    "    control=lmerControl(optimizer=\"bobyqa\", optCtrl=list(maxfun=1e+05)),\n",
    "    REML=F\n",
    ")\n",
    "summary(onlymain)"
   ]
  },
  {
   "cell_type": "code",
   "execution_count": 18,
   "metadata": {},
   "outputs": [],
   "source": [
    "%%R -o interactions_res\n",
    "interactions_res <- rbind(\n",
    "    anova(\n",
    "        onlymain,\n",
    "        update(onlymain, ~ . + earlyterm:dynamic_vgc_weight_Z)\n",
    "    ),\n",
    "    anova(\n",
    "        onlymain,\n",
    "        update(onlymain, ~ . + earlyterm:optpolicy_dist_Z)\n",
    "    ),\n",
    "    anova(\n",
    "        onlymain,\n",
    "        update(onlymain, ~ . + earlyterm:log_traj_based_hitcount_Z)\n",
    "    ),\n",
    "    anova(\n",
    "        onlymain,\n",
    "        update(onlymain, ~ . + earlyterm:graph_based_hitcount_Z)\n",
    "    )\n",
    ")"
   ]
  },
  {
   "cell_type": "code",
   "execution_count": 19,
   "metadata": {},
   "outputs": [],
   "source": [
    "%%R -o optpolicy_interaction_maineff_sum,optpolicy_interaction_interaction_sum,log_traj_interaction_maineff_sum,log_traj_interaction_interaction_sum\n",
    "# Optimal Policy Distance Interaction Model\n",
    "optpolicy_dist_res <- summary(update(onlymain, ~ . + earlyterm:optpolicy_dist_Z))\n",
    "optpolicy_interaction_maineff_sum <- paste(\n",
    "    \"$\\\\beta = \", round(optpolicy_dist_res$coefficients[\"optpolicy_dist_Z\",][\"Estimate\"], digits=3),\n",
    "    \", \\\\text{S.E.} = \", round(optpolicy_dist_res$coefficients[\"optpolicy_dist_Z\",][\"Std. Error\"], digits=3),\n",
    "    \"$\", sep=\"\"\n",
    ")\n",
    "optpolicy_interaction_interaction_sum <- paste(\n",
    "    \"$\\\\beta = \", round(optpolicy_dist_res$coefficients[\"optpolicy_dist_Z:earlyterm1\",][\"Estimate\"], digits=3),\n",
    "    \", \\\\text{S.E.} = \", round(optpolicy_dist_res$coefficients[\"optpolicy_dist_Z:earlyterm1\",][\"Std. Error\"], digits=3),\n",
    "    \"$\", sep=\"\"\n",
    ")\n",
    "# Trajectory-based Heuristic Search Interaction Model\n",
    "log_traj_res <- summary(update(onlymain, ~ . + earlyterm:log_traj_based_hitcount_Z))\n",
    "log_traj_interaction_maineff_sum <- paste(\n",
    "    \"$\\\\beta = \", round(log_traj_res$coefficients[\"log_traj_based_hitcount_Z\",][\"Estimate\"], digits=3),\n",
    "    \", \\\\text{S.E.} = \", round(log_traj_res$coefficients[\"log_traj_based_hitcount_Z\",][\"Std. Error\"], digits=3),\n",
    "    \"$\", sep=\"\"\n",
    ")\n",
    "log_traj_interaction_interaction_sum <- paste(\n",
    "    \"$\\\\beta = \", round(log_traj_res$coefficients[\"log_traj_based_hitcount_Z:earlyterm1\",][\"Estimate\"], digits=3),\n",
    "    \", \\\\text{S.E.} = \", round(log_traj_res$coefficients[\"log_traj_based_hitcount_Z:earlyterm1\",][\"Std. Error\"], digits=3),\n",
    "    \"$\", sep=\"\"\n",
    ")"
   ]
  },
  {
   "cell_type": "code",
   "execution_count": 20,
   "metadata": {},
   "outputs": [],
   "source": [
    "optpolicy_interaction_maineff_sum = optpolicy_interaction_maineff_sum[0]\n",
    "optpolicy_interaction_interaction_sum = optpolicy_interaction_interaction_sum[0]\n",
    "log_traj_interaction_maineff_sum = log_traj_interaction_maineff_sum[0]\n",
    "log_traj_interaction_interaction_sum = log_traj_interaction_interaction_sum[0]"
   ]
  },
  {
   "cell_type": "code",
   "execution_count": 21,
   "metadata": {},
   "outputs": [
    {
     "data": {
      "text/plain": [
       "('$\\\\beta = -0.092, \\\\text{S.E.} = 0.004$',\n",
       " '$\\\\beta = 0.009, \\\\text{S.E.} = 0.003$',\n",
       " '$\\\\beta = 0.009, \\\\text{S.E.} = 0.006$',\n",
       " '$\\\\beta = 0.013, \\\\text{S.E.} = 0.003$')"
      ]
     },
     "execution_count": 21,
     "metadata": {},
     "output_type": "execute_result"
    }
   ],
   "source": [
    "optpolicy_interaction_maineff_sum , optpolicy_interaction_interaction_sum, log_traj_interaction_maineff_sum, log_traj_interaction_interaction_sum"
   ]
  },
  {
   "cell_type": "code",
   "execution_count": 22,
   "metadata": {},
   "outputs": [],
   "source": [
    "with open(\"./inputs/exp2_optpolicy_interaction_maineff_sum_dvgc.tex\", 'w') as file:\n",
    "    file.write(optpolicy_interaction_maineff_sum)\n",
    "with open(\"./inputs/exp2_optpolicy_interaction_interaction_sum_dvgc.tex\", 'w') as file:\n",
    "    file.write(optpolicy_interaction_interaction_sum)\n",
    "with open(\"./inputs/exp2_log_traj_interaction_maineff_sum_dvgc.tex\", 'w') as file:\n",
    "    file.write(log_traj_interaction_maineff_sum)\n",
    "with open(\"./inputs/exp2_log_traj_interaction_interaction_sum_dvgc.tex\", 'w') as file:\n",
    "    file.write(log_traj_interaction_interaction_sum)"
   ]
  },
  {
   "cell_type": "code",
   "execution_count": 23,
   "metadata": {},
   "outputs": [],
   "source": [
    "exp2_interactions_res = interactions_res[['update' in i for i in interactions_res.index]].copy()\n",
    "exp2_interactions_res.index = [i.replace(\"update(onlymain, ~. + earlyterm:\", \"\").replace(\")\", \"\")\n",
    "                               for i in exp2_interactions_res.index]\n",
    "exp2_interactions_res[\"Bonferroni Pr(>Chisq)\"] = exp2_interactions_res['Pr(>Chisq)'].apply(lambda p: min(p*4, 1.0))"
   ]
  },
  {
   "cell_type": "code",
   "execution_count": 24,
   "metadata": {},
   "outputs": [
    {
     "name": "stdout",
     "output_type": "stream",
     "text": [
      "./inputs/exp2_dynamic_vgc_weight_interaction_lesion_llr_dvgc.tex\n",
      "dynamic_vgc_weight :  $\\chi^2(1) = 5.81, p = 0.064$\n",
      "\n",
      "./inputs/exp2_optpolicy_dist_interaction_lesion_llr_dvgc.tex\n",
      "optpolicy_dist :  $\\chi^2(1) = 12.06, p = 0.0021$\n",
      "\n",
      "./inputs/exp2_log_traj_based_hitcount_interaction_lesion_llr_dvgc.tex\n",
      "log_traj_based_hitcount :  $\\chi^2(1) = 25.40, p = 1.9 \\times 10^{-6}$\n",
      "\n",
      "./inputs/exp2_graph_based_hitcount_interaction_lesion_llr_dvgc.tex\n",
      "graph_based_hitcount :  $\\chi^2(1) = 1.72, p = 0.76$\n",
      "\n"
     ]
    }
   ],
   "source": [
    "for pred, row in exp2_interactions_res.iterrows():\n",
    "    pred_interaction_summary = \\\n",
    "        f\"$\\chi^2({int(row['Chi Df']):d}) = \" + \\\n",
    "        f\"{row['Chisq']:.2f}\" + \\\n",
    "        \", p \" + analysisutils.pval_to_string(row[\"Bonferroni Pr(>Chisq)\"]) + \"$\"\n",
    "    pred = pred.replace(\"_Z\", \"\")\n",
    "    filename = f\"./inputs/exp2_{pred}_interaction_lesion_llr_dvgc.tex\"\n",
    "    print(filename)\n",
    "    with open(filename, 'w') as file:\n",
    "        file.write(pred_interaction_summary)\n",
    "    print(pred, \": \", pred_interaction_summary)\n",
    "    print()\n",
    "    # print(pred, row)"
   ]
  },
  {
   "cell_type": "code",
   "execution_count": null,
   "metadata": {},
   "outputs": [],
   "source": []
  }
 ],
 "metadata": {
  "kernelspec": {
   "display_name": "Python 3",
   "language": "python",
   "name": "python3"
  },
  "language_info": {
   "codemirror_mode": {
    "name": "ipython",
    "version": 3
   },
   "file_extension": ".py",
   "mimetype": "text/x-python",
   "name": "python",
   "nbconvert_exporter": "python",
   "pygments_lexer": "ipython3",
   "version": "3.7.4"
  }
 },
 "nbformat": 4,
 "nbformat_minor": 4
}
