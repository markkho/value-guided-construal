{
 "cells": [
  {
   "cell_type": "markdown",
   "metadata": {
    "tags": []
   },
   "source": [
    "# Experiment 4a/4b - Hovering experiment"
   ]
  },
  {
   "cell_type": "code",
   "execution_count": 1,
   "metadata": {},
   "outputs": [
    {
     "name": "stderr",
     "output_type": "stream",
     "text": [
      "R[write to console]: Loading required package: Matrix\n",
      "\n"
     ]
    }
   ],
   "source": [
    "import json\n",
    "import matplotlib.pyplot as plt\n",
    "import numpy as np\n",
    "\n",
    "from vgc_project.r import create_R_model_interface, ImmutableDataFrame\n",
    "from vgc_project.parameter_fit import create_fit_vgc_model_to_trials, Trial\n",
    "\n",
    "joblib_cache_location = \"./_analysiscache\"\n",
    "rmods = create_R_model_interface(joblib_cache_location=joblib_cache_location)\n",
    "fit_vgc_model_to_trials = create_fit_vgc_model_to_trials(joblib_cache_location=joblib_cache_location)\n",
    "\n",
    "import analysisutils\n",
    "from analysisutils import predictor_names, short_predictor_names\n",
    "from prep_data import \\\n",
    "    mazes,\\\n",
    "    model_preds,\\\n",
    "    get_exp4a_ht, get_exp4b_ht\n",
    "\n",
    "exp4a_ht = get_exp4a_ht()\n",
    "exp4b_ht = get_exp4b_ht()"
   ]
  },
  {
   "cell_type": "code",
   "execution_count": 2,
   "metadata": {},
   "outputs": [],
   "source": [
    "exp4a_ht_im = ImmutableDataFrame(exp4a_ht)\n",
    "exp4b_ht_im = ImmutableDataFrame(exp4b_ht)"
   ]
  },
  {
   "cell_type": "markdown",
   "metadata": {},
   "source": [
    "## HGLM with VGC"
   ]
  },
  {
   "cell_type": "code",
   "execution_count": 3,
   "metadata": {},
   "outputs": [],
   "source": [
    "exp4a_hover_vgc_sum = analysisutils.single_predictor_analysis(\n",
    "    name='Exp. 4a VGC hover model',\n",
    "    data=exp4a_ht_im,\n",
    "    dv='hovered',\n",
    "    model_func='glmer',\n",
    "    random_effects='(1 | sessionId) + (1 | grid)',\n",
    "    predictor='vgc_weight_Z',\n",
    "    rmods=rmods,\n",
    "    coeff_digits=3\n",
    ")\n",
    "exp4a_hoverdur_vgc_sum = analysisutils.single_predictor_analysis(\n",
    "    name='Exp. 4a VGC hover model',\n",
    "    data=exp4a_ht_im,\n",
    "    dv='log_hoverduration',\n",
    "    model_func='lmer',\n",
    "    random_effects='(1 | sessionId) + (1 | grid)',\n",
    "    predictor='vgc_weight_Z',\n",
    "    rmods=rmods,\n",
    "    coeff_digits=3\n",
    ")\n",
    "exp4b_hover_vgc_sum = analysisutils.single_predictor_analysis(\n",
    "    name='Exp. 4b VGC hover model',\n",
    "    data=exp4b_ht_im,\n",
    "    dv='hovered',\n",
    "    model_func='glmer',\n",
    "    random_effects='(1 | sessionId) + (1 | grid)',\n",
    "    predictor='vgc_weight_Z',\n",
    "    rmods=rmods,\n",
    "    coeff_digits=3\n",
    ")\n",
    "exp4b_hoverdur_vgc_sum = analysisutils.single_predictor_analysis(\n",
    "    name='Exp. 4b VGC hover model',\n",
    "    data=exp4b_ht_im,\n",
    "    dv='log_hoverduration',\n",
    "    model_func='lmer',\n",
    "    random_effects='(1 | sessionId) + (1 | grid)',\n",
    "    predictor='vgc_weight_Z',\n",
    "    rmods=rmods,\n",
    "    coeff_digits=3\n",
    ")"
   ]
  },
  {
   "cell_type": "code",
   "execution_count": 4,
   "metadata": {},
   "outputs": [
    {
     "name": "stdout",
     "output_type": "stream",
     "text": [
      "exp4a_hover_vgc_single_summary: \t$\\chi^2(1) = 1221.76, p  < 1.0 \\times 10^{-16}$; $b = 0.704$, S.E. $= 0.021$\n",
      "exp4a_hoverdur_vgc_single_summary: \t$\\chi^2(1) = 169.90, p  < 1.0 \\times 10^{-16}$; $b = 0.161$, S.E. $= 0.012$\n",
      "exp4b_hover_vgc_single_summary: \t$\\chi^2(1) = 1361.92, p  < 1.0 \\times 10^{-16}$; $b = 0.802$, S.E. $= 0.023$\n",
      "exp4b_hoverdur_vgc_single_summary: \t$\\chi^2(1) = 540.63, p  < 1.0 \\times 10^{-16}$; $b = 0.369$, S.E. $= 0.016$\n"
     ]
    }
   ],
   "source": [
    "to_save = {\n",
    "    \"exp4a_hover_vgc_single_summary\": exp4a_hover_vgc_sum.summary,\n",
    "    \"exp4a_hoverdur_vgc_single_summary\": exp4a_hoverdur_vgc_sum.summary,\n",
    "    \"exp4b_hover_vgc_single_summary\": exp4b_hover_vgc_sum.summary,\n",
    "    \"exp4b_hoverdur_vgc_single_summary\": exp4b_hoverdur_vgc_sum.summary,\n",
    "}\n",
    "for name, res_str in to_save.items():\n",
    "    with open(f\"./inputs/{name}.tex\", \"w\") as f:\n",
    "        f.write(res_str)\n",
    "        print(f\"{name}: \", res_str, sep='\\t')"
   ]
  }
 ],
 "metadata": {
  "kernelspec": {
   "display_name": "Python 3",
   "language": "python",
   "name": "python3"
  },
  "language_info": {
   "codemirror_mode": {
    "name": "ipython",
    "version": 3
   },
   "file_extension": ".py",
   "mimetype": "text/x-python",
   "name": "python",
   "nbconvert_exporter": "python",
   "pygments_lexer": "ipython3",
   "version": "3.7.4"
  }
 },
 "nbformat": 4,
 "nbformat_minor": 4
}
