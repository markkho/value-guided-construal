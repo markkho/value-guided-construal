{
 "cells": [
  {
   "cell_type": "code",
   "execution_count": 1,
   "metadata": {},
   "outputs": [
    {
     "name": "stderr",
     "output_type": "stream",
     "text": [
      "R[write to console]: Loading required package: Matrix\n",
      "\n"
     ]
    }
   ],
   "source": [
    "import json\n",
    "import pandas as pd\n",
    "import matplotlib.pyplot as plt\n",
    "import numpy as np\n",
    "\n",
    "from vgc_project.r import create_R_model_interface, ImmutableDataFrame\n",
    "from vgc_project.parameter_fit import create_fit_vgc_model_to_trials, Trial\n",
    "\n",
    "joblib_cache_location = \"./_analysiscache\"\n",
    "rmods = create_R_model_interface(joblib_cache_location=joblib_cache_location)\n",
    "fit_vgc_model_to_trials = create_fit_vgc_model_to_trials(joblib_cache_location=joblib_cache_location)\n",
    "\n",
    "import analysisutils\n",
    "from analysisutils import predictor_names, short_predictor_names\n",
    "from prep_data import \\\n",
    "    mazes,\\\n",
    "    model_preds,\\\n",
    "    get_exp5a_at, get_exp2_5a_at, \\\n",
    "    get_exp5a_at, get_exp2_5a_at, \\\n",
    "    get_exp3_5b_at__exp3_5b_mt,\\\n",
    "    get_exp5b_at__exp5b_mt,\\\n",
    "    get_exp6a_navdist,\\\n",
    "    get_exp1_navdist,\\\n",
    "    get_exp6a_at,\\\n",
    "    get_exp1_6a_at,\\\n",
    "    get_exp6b_at__exp6b_mt,\\\n",
    "    get_exp3_at__exp3_mt,\\\n",
    "    get_exp3_6b_at__exp3_6b_mt,\\\n",
    "    get_exp1_at,\\\n",
    "    get_exp2_at,\\\n",
    "    get_exp3_at__exp3_mt,\\\n",
    "    get_exp5a_at,\\\n",
    "    get_exp5b_at__exp5b_mt,\\\n",
    "    get_exp6a_at,\\\n",
    "    get_exp6b_at__exp6b_mt"
   ]
  },
  {
   "cell_type": "code",
   "execution_count": 2,
   "metadata": {},
   "outputs": [],
   "source": [
    "def llr_test_string_summary(row):\n",
    "    return f\"$\\chi^2({int(row['Df']):d}) = \" + \\\n",
    "        f\"{row['Chisq']:.2f}\" + \\\n",
    "        \", p \" + analysisutils.pval_to_string(row[\"Pr(>Chisq)\"]) + \"$\""
   ]
  },
  {
   "cell_type": "code",
   "execution_count": 3,
   "metadata": {},
   "outputs": [],
   "source": [
    "%load_ext rpy2.ipython"
   ]
  },
  {
   "cell_type": "code",
   "execution_count": 4,
   "metadata": {},
   "outputs": [
    {
     "name": "stdout",
     "output_type": "stream",
     "text": [
      "WARNING:rpy2.rinterface_lib.callbacks:R[write to console]: \n",
      "Attaching package: ‘lmerTest’\n",
      "\n",
      "\n",
      "WARNING:rpy2.rinterface_lib.callbacks:R[write to console]: The following object is masked from ‘package:lme4’:\n",
      "\n",
      "    lmer\n",
      "\n",
      "\n",
      "WARNING:rpy2.rinterface_lib.callbacks:R[write to console]: The following object is masked from ‘package:stats’:\n",
      "\n",
      "    step\n",
      "\n",
      "\n",
      "WARNING:rpy2.rinterface_lib.callbacks:R[write to console]: Loading required package: zoo\n",
      "\n",
      "WARNING:rpy2.rinterface_lib.callbacks:R[write to console]: \n",
      "Attaching package: ‘zoo’\n",
      "\n",
      "\n",
      "WARNING:rpy2.rinterface_lib.callbacks:R[write to console]: The following objects are masked from ‘package:base’:\n",
      "\n",
      "    as.Date, as.Date.numeric\n",
      "\n",
      "\n"
     ]
    }
   ],
   "source": [
    "%%R\n",
    "library(lme4)\n",
    "library(lmerTest)\n",
    "library(lmtest)\n",
    "library(scales)"
   ]
  },
  {
   "cell_type": "markdown",
   "metadata": {
    "tags": []
   },
   "source": [
    "# Experiment 5a/5b - Perceptual controls"
   ]
  },
  {
   "cell_type": "code",
   "execution_count": 5,
   "metadata": {},
   "outputs": [],
   "source": [
    "exp5a_at = get_exp5a_at()\n",
    "exp2_5a_at = get_exp2_5a_at()"
   ]
  },
  {
   "cell_type": "markdown",
   "metadata": {},
   "source": [
    "## Experiment 5a"
   ]
  },
  {
   "cell_type": "code",
   "execution_count": 6,
   "metadata": {},
   "outputs": [
    {
     "name": "stdout",
     "output_type": "stream",
     "text": [
      "      [,1]\n",
      "exp2     1\n",
      "exp5a   -1\n"
     ]
    }
   ],
   "source": [
    "%%R -i exp2_5a_at -o exp2_5a_interaction_test,exp2_5a_vgc_maineff_sum,exp2_5a_vgc_int_sum\n",
    "# Test if there is an interaction between experiment and vgc\n",
    "\n",
    "# use sum coding for experiment comparison\n",
    "exp2_5a_at$exp <- factor(exp2_5a_at$exp)\n",
    "contrasts(exp2_5a_at$exp) <- contr.sum(2)\n",
    "print(contrasts(exp2_5a_at$exp))\n",
    "exp2_5a_interaction <- lmer(\n",
    "    attention_N ~ (1 | sessionId) + (1 | grid) +\n",
    "        exp*vgc_weight_Z\n",
    "    ,\n",
    "    data=exp2_5a_at,\n",
    "    control=lmerControl(optimizer=\"bobyqa\",optCtrl=list(maxfun=1e+07)),\n",
    "    REML=F\n",
    ")\n",
    "exp2_5a_interaction_lesioned <- update(exp2_5a_interaction, ~ . - exp:vgc_weight_Z)\n",
    "\n",
    "# test if removing vgc x exp interactoin is sig\n",
    "exp2_5a_interaction_test <- lrtest(\n",
    "    exp2_5a_interaction_lesioned,\n",
    "    exp2_5a_interaction\n",
    ")\n",
    "\n",
    "# get resulting coefficients from model\n",
    "exp2_5a_interaction_summary <- summary(exp2_5a_interaction)\n",
    "exp2_5a_vgc_maineff_sum <- paste(\n",
    "    \"$\\\\beta = \", round(exp2_5a_interaction_summary$coefficients[\"vgc_weight_Z\",][\"Estimate\"], digits=3),\n",
    "    \", \\\\text{S.E.} = \", round(exp2_5a_interaction_summary$coefficients[\"vgc_weight_Z\",][\"Std. Error\"], digits=3),\n",
    "    \"$\", sep=\"\"\n",
    ")\n",
    "exp2_5a_vgc_int_sum <- paste(\n",
    "    \"$\\\\beta = \", round(exp2_5a_interaction_summary$coefficients[\"exp1:vgc_weight_Z\",][\"Estimate\"], digits=3),\n",
    "    \", \\\\text{S.E.} = \", round(exp2_5a_interaction_summary$coefficients[\"exp1:vgc_weight_Z\",][\"Std. Error\"], digits=3),\n",
    "    \"$\", sep=\"\"\n",
    ")"
   ]
  },
  {
   "cell_type": "code",
   "execution_count": 7,
   "metadata": {},
   "outputs": [
    {
     "name": "stdout",
     "output_type": "stream",
     "text": [
      "exp2_5a_interaction:  $\\chi^2(1) = 950.19, p = 1.2 \\times 10^{-208}$\n",
      "exp2_5a_vgc_maineff_sum:  $\\beta = 0.057, \\text{S.E.} = 0.002$\n",
      "exp2_5a_vgc_int_sum:  $\\beta = 0.052, \\text{S.E.} = 0.002$\n"
     ]
    }
   ],
   "source": [
    "with open(\"./inputs/exp2_5a_interaction_test.tex\", \"w\") as f:\n",
    "    exp2_5a_interaction_test_str = llr_test_string_summary(exp2_5a_interaction_test.iloc[1])\n",
    "    f.write(exp2_5a_interaction_test_str)\n",
    "    print(\"exp2_5a_interaction: \", exp2_5a_interaction_test_str)\n",
    "    \n",
    "with open(\"./inputs/exp2_5a_interaction_vgc_maineff.tex\", \"w\") as f:\n",
    "    f.write(exp2_5a_vgc_maineff_sum[0])\n",
    "    print(\"exp2_5a_vgc_maineff_sum: \", exp2_5a_vgc_maineff_sum[0])\n",
    "    \n",
    "with open(\"./inputs/exp2_5a_interaction_vgc_interaction.tex\", \"w\") as f:\n",
    "    f.write(exp2_5a_vgc_int_sum[0])\n",
    "    print(\"exp2_5a_vgc_int_sum: \", exp2_5a_vgc_int_sum[0])"
   ]
  },
  {
   "cell_type": "markdown",
   "metadata": {},
   "source": [
    "## Experiment 5b"
   ]
  },
  {
   "cell_type": "code",
   "execution_count": 8,
   "metadata": {},
   "outputs": [],
   "source": [
    "exp3_5b_at, exp3_5b_mt = get_exp3_5b_at__exp3_5b_mt()\n",
    "exp5b_at, exp5b_mt = get_exp5b_at__exp5b_mt()"
   ]
  },
  {
   "cell_type": "code",
   "execution_count": 9,
   "metadata": {},
   "outputs": [
    {
     "name": "stdout",
     "output_type": "stream",
     "text": [
      "      [,1]\n",
      "exp3     1\n",
      "exp5b   -1\n",
      "      [,1]\n",
      "exp3     1\n",
      "exp5b   -1\n"
     ]
    }
   ],
   "source": [
    "%%R -i exp3_5b_at,exp3_5b_mt\n",
    "# use sum coding for experiment comparison\n",
    "exp3_5b_at$exp <- factor(exp3_5b_at$exp)\n",
    "contrasts(exp3_5b_at$exp) <- contr.sum(2)\n",
    "print(contrasts(exp3_5b_at$exp))\n",
    "\n",
    "exp3_5b_mt$exp <- factor(exp3_5b_mt$exp)\n",
    "contrasts(exp3_5b_mt$exp) <- contr.sum(2)\n",
    "print(contrasts(exp3_5b_mt$exp))\n",
    "\n"
   ]
  },
  {
   "cell_type": "code",
   "execution_count": 10,
   "metadata": {},
   "outputs": [],
   "source": [
    "%%R -o exp3_5b_acc_interaction_test,exp3_5b_acc_vgc_maineff_sum,exp3_5b_acc_vgc_int_sum\n",
    "# accuracy\n",
    "exp3_5b_acc_interaction <- glmer(\n",
    "    correct ~ (1 | sessionId) + (1 | grid) +\n",
    "        exp*vgc_weight_Z\n",
    "    ,\n",
    "    data=exp3_5b_mt,\n",
    "    control=glmerControl(optimizer=\"bobyqa\",optCtrl=list(maxfun=1e+07)),\n",
    "    family=binomial\n",
    ")\n",
    "exp3_5b_acc_interaction_lesioned <- update(exp3_5b_acc_interaction, ~ . - exp:vgc_weight_Z)\n",
    "\n",
    "# test if removing vgc x exp interactoin is sig\n",
    "exp3_5b_acc_interaction_test <- lrtest(\n",
    "    exp3_5b_acc_interaction_lesioned,\n",
    "    exp3_5b_acc_interaction\n",
    ")\n",
    "\n",
    "# get resulting coefficients from model\n",
    "exp3_5b_acc_interaction_summary <- summary(exp3_5b_acc_interaction)\n",
    "exp3_5b_acc_vgc_maineff_sum <- paste(\n",
    "    \"$\\\\beta = \", round(exp3_5b_acc_interaction_summary$coefficients[\"vgc_weight_Z\",][\"Estimate\"], digits=3),\n",
    "    \", \\\\text{S.E.} = \", round(exp3_5b_acc_interaction_summary$coefficients[\"vgc_weight_Z\",][\"Std. Error\"], digits=3),\n",
    "    \"$\", sep=\"\"\n",
    ")\n",
    "exp3_5b_acc_vgc_int_sum <- paste(\n",
    "    \"$\\\\beta = \", round(exp3_5b_acc_interaction_summary$coefficients[\"exp1:vgc_weight_Z\",][\"Estimate\"], digits=3),\n",
    "    \", \\\\text{S.E.} = \", round(exp3_5b_acc_interaction_summary$coefficients[\"exp1:vgc_weight_Z\",][\"Std. Error\"], digits=3),\n",
    "    \"$\", sep=\"\"\n",
    ")\n"
   ]
  },
  {
   "cell_type": "code",
   "execution_count": 11,
   "metadata": {},
   "outputs": [
    {
     "name": "stdout",
     "output_type": "stream",
     "text": [
      "exp3_5b_acc_interaction_test:  $\\chi^2(1) = 51.50, p = 7.2 \\times 10^{-13}$\n",
      "exp3_5b_acc_vgc_maineff_sum:  $\\beta = 0.443, \\text{S.E.} = 0.027$\n",
      "exp3_5b_acc_vgc_int_sum:  $\\beta = 0.195, \\text{S.E.} = 0.027$\n"
     ]
    }
   ],
   "source": [
    "with open(\"./inputs/exp3_5b_acc_interaction_test.tex\", \"w\") as f:\n",
    "    exp3_5b_acc_interaction_test_str = llr_test_string_summary(exp3_5b_acc_interaction_test.iloc[1])\n",
    "    f.write(exp3_5b_acc_interaction_test_str)\n",
    "    print(\"exp3_5b_acc_interaction_test: \", exp3_5b_acc_interaction_test_str)\n",
    "    \n",
    "with open(\"./inputs/exp3_5b_acc_vgc_maineff.tex\", \"w\") as f:\n",
    "    f.write(exp3_5b_acc_vgc_maineff_sum[0])\n",
    "    print(\"exp3_5b_acc_vgc_maineff_sum: \", exp3_5b_acc_vgc_maineff_sum[0])\n",
    "    \n",
    "with open(\"./inputs/exp3_5b_acc_vgc_interaction.tex\", \"w\") as f:\n",
    "    f.write(exp3_5b_acc_vgc_int_sum[0])\n",
    "    print(\"exp3_5b_acc_vgc_int_sum: \", exp3_5b_acc_vgc_int_sum[0])"
   ]
  },
  {
   "cell_type": "code",
   "execution_count": 12,
   "metadata": {},
   "outputs": [],
   "source": [
    "%%R -o exp3_5b_conf_interaction_test,exp3_5b_conf_vgc_maineff_sum,exp3_5b_conf_vgc_int_sum\n",
    "# confidence\n",
    "exp3_5b_conf_interaction <- lmer(\n",
    "    conf_N ~ (1 | sessionId) + (1 | grid) +\n",
    "        exp*vgc_weight_Z\n",
    "    ,\n",
    "    data=exp3_5b_mt,\n",
    "    control=lmerControl(optimizer=\"bobyqa\",optCtrl=list(maxfun=1e+07)),\n",
    "    REML=F\n",
    ")\n",
    "exp3_5b_conf_interaction_lesioned <- update(exp3_5b_conf_interaction, ~ . - exp:vgc_weight_Z)\n",
    "# test if removing vgc x exp interactoin is sig\n",
    "exp3_5b_conf_interaction_test <- lrtest(\n",
    "    exp3_5b_conf_interaction_lesioned,\n",
    "    exp3_5b_conf_interaction\n",
    ")\n",
    "\n",
    "# get resulting coefficients from model\n",
    "exp3_5b_conf_interaction_summary <- summary(exp3_5b_conf_interaction)\n",
    "exp3_5b_conf_vgc_maineff_sum <- paste(\n",
    "    \"$\\\\beta = \", round(exp3_5b_conf_interaction_summary$coefficients[\"vgc_weight_Z\",][\"Estimate\"], digits=3),\n",
    "    \", \\\\text{S.E.} = \", round(exp3_5b_conf_interaction_summary$coefficients[\"vgc_weight_Z\",][\"Std. Error\"], digits=3),\n",
    "    \"$\", sep=\"\"\n",
    ")\n",
    "exp3_5b_conf_vgc_int_sum <- paste(\n",
    "    \"$\\\\beta = \", round(exp3_5b_conf_interaction_summary$coefficients[\"exp1:vgc_weight_Z\",][\"Estimate\"], digits=3),\n",
    "    \", \\\\text{S.E.} = \", round(exp3_5b_conf_interaction_summary$coefficients[\"exp1:vgc_weight_Z\",][\"Std. Error\"], digits=3),\n",
    "    \"$\", sep=\"\"\n",
    ")"
   ]
  },
  {
   "cell_type": "code",
   "execution_count": 13,
   "metadata": {},
   "outputs": [
    {
     "name": "stdout",
     "output_type": "stream",
     "text": [
      "exp3_5b_conf_interaction_test:  $\\chi^2(1) = 176.35, p = 3.0 \\times 10^{-40}$\n",
      "exp3_5b_conf_vgc_maineff_sum:  $\\beta = 0.064, \\text{S.E.} = 0.003$\n",
      "exp3_5b_conf_vgc_int_sum:  $\\beta = 0.04, \\text{S.E.} = 0.003$\n"
     ]
    }
   ],
   "source": [
    "with open(\"./inputs/exp3_5b_conf_interaction_test.tex\", \"w\") as f:\n",
    "    exp3_5b_conf_interaction_test_str = llr_test_string_summary(exp3_5b_conf_interaction_test.iloc[1])\n",
    "    f.write(exp3_5b_conf_interaction_test_str)\n",
    "    print(\"exp3_5b_conf_interaction_test: \", exp3_5b_conf_interaction_test_str)\n",
    "    \n",
    "with open(\"./inputs/exp3_5b_conf_vgc_maineff.tex\", \"w\") as f:\n",
    "    f.write(exp3_5b_conf_vgc_maineff_sum[0])\n",
    "    print(\"exp3_5b_conf_vgc_maineff_sum: \", exp3_5b_conf_vgc_maineff_sum[0])\n",
    "    \n",
    "with open(\"./inputs/exp3_5b_conf_vgc_interaction.tex\", \"w\") as f:\n",
    "    f.write(exp3_5b_conf_vgc_int_sum[0])\n",
    "    print(\"exp3_5b_conf_vgc_int_sum: \", exp3_5b_conf_vgc_int_sum[0])"
   ]
  },
  {
   "cell_type": "code",
   "execution_count": 14,
   "metadata": {},
   "outputs": [],
   "source": [
    "%%R -o exp3_5b_attn_interaction_test,exp3_5b_attn_vgc_maineff_sum,exp3_5b_attn_vgc_int_sum\n",
    "\n",
    "# attention\n",
    "exp3_5b_attn_interaction <- lmer(\n",
    "    attention_N ~ (1 | sessionId) + #(1 | grid) + #is singular with by-maze random effect\n",
    "        exp*vgc_weight_Z\n",
    "    ,\n",
    "    data=exp3_5b_at,\n",
    "    control=lmerControl(optimizer=\"bobyqa\",optCtrl=list(maxfun=1e+07)),\n",
    "    REML=F\n",
    ")\n",
    "exp3_5b_attn_interaction_lesioned <- update(exp3_5b_attn_interaction, ~ . - exp:vgc_weight_Z)\n",
    "# test if removing vgc x exp interactoin is sig\n",
    "exp3_5b_attn_interaction_test <- lrtest(\n",
    "    exp3_5b_attn_interaction_lesioned,\n",
    "    exp3_5b_attn_interaction\n",
    ")\n",
    "\n",
    "# get resulting coefficients from model\n",
    "exp3_5b_attn_interaction_summary <- summary(exp3_5b_attn_interaction)\n",
    "exp3_5b_attn_vgc_maineff_sum <- paste(\n",
    "    \"$\\\\beta = \", round(exp3_5b_attn_interaction_summary$coefficients[\"vgc_weight_Z\",][\"Estimate\"], digits=3),\n",
    "    \", \\\\text{S.E.} = \", round(exp3_5b_attn_interaction_summary$coefficients[\"vgc_weight_Z\",][\"Std. Error\"], digits=3),\n",
    "    \"$\", sep=\"\"\n",
    ")\n",
    "exp3_5b_attn_vgc_int_sum <- paste(\n",
    "    \"$\\\\beta = \", round(exp3_5b_attn_interaction_summary$coefficients[\"exp1:vgc_weight_Z\",][\"Estimate\"], digits=3),\n",
    "    \", \\\\text{S.E.} = \", round(exp3_5b_attn_interaction_summary$coefficients[\"exp1:vgc_weight_Z\",][\"Std. Error\"], digits=3),\n",
    "    \"$\", sep=\"\"\n",
    ")"
   ]
  },
  {
   "cell_type": "code",
   "execution_count": 15,
   "metadata": {},
   "outputs": [
    {
     "name": "stdout",
     "output_type": "stream",
     "text": [
      "exp3_5b_attn_interaction_test:  $\\chi^2(1) = 675.93, p = 5.1 \\times 10^{-149}$\n",
      "exp3_5b_attn_vgc_maineff_sum:  $\\beta = 0.09, \\text{S.E.} = 0.003$\n",
      "exp3_5b_attn_vgc_int_sum:  $\\beta = 0.086, \\text{S.E.} = 0.003$\n"
     ]
    }
   ],
   "source": [
    "with open(\"./inputs/exp3_5b_attn_interaction_test.tex\", \"w\") as f:\n",
    "    exp3_5b_attn_interaction_test_str = llr_test_string_summary(exp3_5b_attn_interaction_test.iloc[1])\n",
    "    f.write(exp3_5b_attn_interaction_test_str)\n",
    "    print(\"exp3_5b_attn_interaction_test: \", exp3_5b_attn_interaction_test_str)\n",
    "    \n",
    "with open(\"./inputs/exp3_5b_attn_vgc_maineff.tex\", \"w\") as f:\n",
    "    f.write(exp3_5b_attn_vgc_maineff_sum[0])\n",
    "    print(\"exp3_5b_attn_vgc_maineff_sum: \", exp3_5b_attn_vgc_maineff_sum[0])\n",
    "    \n",
    "with open(\"./inputs/exp3_5b_attn_vgc_interaction.tex\", \"w\") as f:\n",
    "    f.write(exp3_5b_attn_vgc_int_sum[0])\n",
    "    print(\"exp3_5b_attn_vgc_int_sum: \", exp3_5b_attn_vgc_int_sum[0])"
   ]
  },
  {
   "cell_type": "markdown",
   "metadata": {
    "tags": []
   },
   "source": [
    "# Experiment 6a/6b - Execution controls"
   ]
  },
  {
   "cell_type": "markdown",
   "metadata": {},
   "source": [
    "## Experiment 6a"
   ]
  },
  {
   "cell_type": "code",
   "execution_count": 16,
   "metadata": {},
   "outputs": [
    {
     "name": "stdout",
     "output_type": "stream",
     "text": [
      "Loading Experiment 1 Attention Trials\n"
     ]
    }
   ],
   "source": [
    "exp6a_navdist = get_exp6a_navdist()\n",
    "exp1_navdist = get_exp1_navdist()\n",
    "exp6a_at = get_exp6a_at()\n",
    "exp1_6a_at = get_exp1_6a_at()"
   ]
  },
  {
   "cell_type": "code",
   "execution_count": 17,
   "metadata": {},
   "outputs": [
    {
     "name": "stdout",
     "output_type": "stream",
     "text": [
      "r(84) = 1.00, p = 1.5 \\times 10^{-139}\n"
     ]
    }
   ],
   "source": [
    "#check that the mean navdists are almost the same\n",
    "from scipy import stats \n",
    "nav_mindists = pd.concat([\n",
    "    exp6a_navdist.groupby(['grid', 'obstacle'])['nav_mindist'].mean(),\n",
    "    exp1_navdist.groupby(['grid', 'obstacle'])['nav_mindist'].mean()\n",
    "], axis=1)\n",
    "nav_mindists.columns = ['exp6a', 'exp1']\n",
    "corr, pval = stats.pearsonr(nav_mindists.exp6a, nav_mindists.exp1)\n",
    "exp1_6a_navdist_corr_sum = \\\n",
    "    f\"$r({len(nav_mindists)}) = {corr:.2f}, p {analysisutils.pval_to_string(pval)}$\"\n",
    "# sns.scatterplot(data=nav_mindists, x='exp6a', y='exp1')\n",
    "assert .99 < corr < 1.0\n",
    "with open(\"./inputs/exp1_6a_navdist_corr.tex\", \"w\") as file:\n",
    "    file.write(exp1_6a_navdist_corr_sum)\n",
    "print(exp1_6a_navdist_corr_sum)"
   ]
  },
  {
   "cell_type": "code",
   "execution_count": 18,
   "metadata": {},
   "outputs": [
    {
     "name": "stdout",
     "output_type": "stream",
     "text": [
      "      [,1]\n",
      "exp1     1\n",
      "exp6a   -1\n"
     ]
    }
   ],
   "source": [
    "%%R -i exp1_6a_at -o exp1_6a_interaction_test,exp1_6a_vgc_maineff_sum,exp1_6a_vgc_int_sum\n",
    "# use sum coding for experiment comparison\n",
    "exp1_6a_at$exp <- factor(exp1_6a_at$exp)\n",
    "contrasts(exp1_6a_at$exp) <- contr.sum(2)\n",
    "print(contrasts(exp1_6a_at$exp))\n",
    "\n",
    "exp1_6a_interaction <- lmer(\n",
    "    attention_N ~ (1 | sessionId) + (1 | grid) + \n",
    "        exp*vgc_weight_Z \n",
    "    ,\n",
    "    data=exp1_6a_at,\n",
    "    control=lmerControl(optimizer=\"bobyqa\",optCtrl=list(maxfun=1e+07)),\n",
    "    REML=F\n",
    ")\n",
    "exp1_6a_interaction_lesioned <- update(exp1_6a_interaction, ~ . - exp:vgc_weight_Z)\n",
    "# test if removing vgc x exp interactoin is sig\n",
    "exp1_6a_interaction_test <- lrtest(\n",
    "    exp1_6a_interaction_lesioned,\n",
    "    exp1_6a_interaction\n",
    ")\n",
    "\n",
    "# get resulting coefficients from model\n",
    "exp1_6a_interaction_summary <- summary(exp1_6a_interaction)\n",
    "exp1_6a_vgc_maineff_sum <- paste(\n",
    "    \"$\\\\beta = \", round(exp1_6a_interaction_summary$coefficients[\"vgc_weight_Z\",][\"Estimate\"], digits=3),\n",
    "    \", \\\\text{S.E.} = \", round(exp1_6a_interaction_summary$coefficients[\"vgc_weight_Z\",][\"Std. Error\"], digits=3),\n",
    "    \"$\", sep=\"\"\n",
    ")\n",
    "exp1_6a_vgc_int_sum <- paste(\n",
    "    \"$\\\\beta = \", round(exp1_6a_interaction_summary$coefficients[\"exp1:vgc_weight_Z\",][\"Estimate\"], digits=3),\n",
    "    \", \\\\text{S.E.} = \", round(exp1_6a_interaction_summary$coefficients[\"exp1:vgc_weight_Z\",][\"Std. Error\"], digits=3),\n",
    "    \"$\", sep=\"\"\n",
    ")"
   ]
  },
  {
   "cell_type": "code",
   "execution_count": 19,
   "metadata": {},
   "outputs": [
    {
     "name": "stdout",
     "output_type": "stream",
     "text": [
      "exp1_6a_interaction:  $\\chi^2(1) = 120.89, p = 4.0 \\times 10^{-28}$\n",
      "exp1_6a_vgc_maineff_sum:  $\\beta = 0.114, \\text{S.E.} = 0.002$\n",
      "exp1_6a_vgc_int_sum:  $\\beta = 0.019, \\text{S.E.} = 0.002$\n"
     ]
    }
   ],
   "source": [
    "with open(\"./inputs/exp1_6a_interaction_test.tex\", \"w\") as f:\n",
    "    exp1_6a_interaction_test_str = llr_test_string_summary(exp1_6a_interaction_test.iloc[1])\n",
    "    f.write(exp1_6a_interaction_test_str)\n",
    "    print(\"exp1_6a_interaction: \", exp1_6a_interaction_test_str)\n",
    "    \n",
    "with open(\"./inputs/exp1_6a_interaction_vgc_maineff.tex\", \"w\") as f:\n",
    "    f.write(exp1_6a_vgc_maineff_sum[0])\n",
    "    print(\"exp1_6a_vgc_maineff_sum: \", exp1_6a_vgc_maineff_sum[0])\n",
    "    \n",
    "with open(\"./inputs/exp1_6a_interaction_vgc_interaction.tex\", \"w\") as f:\n",
    "    f.write(exp1_6a_vgc_int_sum[0])\n",
    "    print(\"exp1_6a_vgc_int_sum: \", exp1_6a_vgc_int_sum[0])"
   ]
  },
  {
   "cell_type": "markdown",
   "metadata": {},
   "source": [
    "## Experiment 6b"
   ]
  },
  {
   "cell_type": "code",
   "execution_count": 20,
   "metadata": {},
   "outputs": [],
   "source": [
    "exp6b_at, exp6b_mt = get_exp6b_at__exp6b_mt()\n",
    "exp3_at, exp3_mt = get_exp3_at__exp3_mt()\n",
    "exp3_6b_at, exp3_6b_mt = get_exp3_6b_at__exp3_6b_mt()"
   ]
  },
  {
   "cell_type": "code",
   "execution_count": 21,
   "metadata": {},
   "outputs": [
    {
     "name": "stdout",
     "output_type": "stream",
     "text": [
      "r(20) = 1.00, p = 2.9 \\times 10^{-24}\n"
     ]
    }
   ],
   "source": [
    "#check that the mean navdists are almost the same\n",
    "from scipy import stats \n",
    "nav_mindists = pd.concat([\n",
    "    pd.concat([\n",
    "        exp6b_at[['grid', 'obstacle', 'nav_mindist']],\n",
    "        exp6b_mt[['grid', 'obstacle', 'nav_mindist']],\n",
    "    ], axis=0).groupby(['grid', 'obstacle'])['nav_mindist'].mean(),\n",
    "    pd.concat([\n",
    "        exp3_at[['grid', 'obstacle', 'nav_mindist']],\n",
    "        exp3_mt[['grid', 'obstacle', 'nav_mindist']],\n",
    "    ], axis=0).groupby(['grid', 'obstacle'])['nav_mindist'].mean(),\n",
    "], axis=1)\n",
    "nav_mindists.columns = ['exp6b', 'exp3']\n",
    "corr, pval = stats.pearsonr(nav_mindists.exp6b, nav_mindists.exp3)\n",
    "exp3_6b_navdist_corr_sum = \\\n",
    "    f\"$r({len(nav_mindists)}) = {corr:.2f}, p {analysisutils.pval_to_string(pval)}$\"\n",
    "# sns.scatterplot(data=nav_mindists, x='exp6b', y='exp3')\n",
    "assert .99 < corr < 1.0\n",
    "with open(\"./inputs/exp3_6b_navdist_corr.tex\", \"w\") as file:\n",
    "    file.write(exp3_6b_navdist_corr_sum)\n",
    "print(exp3_6b_navdist_corr_sum)"
   ]
  },
  {
   "cell_type": "code",
   "execution_count": 22,
   "metadata": {},
   "outputs": [
    {
     "name": "stdout",
     "output_type": "stream",
     "text": [
      "      [,1]\n",
      "exp3     1\n",
      "exp6b   -1\n",
      "      [,1]\n",
      "exp3     1\n",
      "exp6b   -1\n"
     ]
    }
   ],
   "source": [
    "%%R -i exp3_6b_at,exp3_6b_mt\n",
    "# use sum coding for experiment comparison\n",
    "exp3_6b_at$exp <- factor(exp3_6b_at$exp)\n",
    "contrasts(exp3_6b_at$exp) <- contr.sum(2)\n",
    "print(contrasts(exp3_6b_at$exp))\n",
    "\n",
    "exp3_6b_mt$exp <- factor(exp3_6b_mt$exp)\n",
    "contrasts(exp3_6b_mt$exp) <- contr.sum(2)\n",
    "print(contrasts(exp3_6b_mt$exp))"
   ]
  },
  {
   "cell_type": "code",
   "execution_count": 23,
   "metadata": {},
   "outputs": [],
   "source": [
    "%%R -o exp3_6b_acc_interaction_test,exp3_6b_acc_vgc_maineff_sum,exp3_6b_acc_vgc_int_sum\n",
    "# accuracy\n",
    "exp3_6b_acc_interaction <- glmer(\n",
    "    correct ~ (1 | sessionId) + (1 | grid) +\n",
    "        exp*vgc_weight_Z\n",
    "    ,\n",
    "    data=exp3_6b_mt,\n",
    "    control=glmerControl(optimizer=\"bobyqa\",optCtrl=list(maxfun=1e+07)),\n",
    "    family=binomial\n",
    ")\n",
    "exp3_6b_acc_interaction_lesioned <- update(exp3_6b_acc_interaction, ~ . - exp:vgc_weight_Z)\n",
    "\n",
    "# test if removing vgc x exp interactoin is sig\n",
    "exp3_6b_acc_interaction_test <- lrtest(\n",
    "    exp3_6b_acc_interaction_lesioned,\n",
    "    exp3_6b_acc_interaction\n",
    ")\n",
    "\n",
    "# get resulting coefficients from model\n",
    "exp3_6b_acc_interaction_summary <- summary(exp3_6b_acc_interaction)\n",
    "exp3_6b_acc_vgc_maineff_sum <- paste(\n",
    "    \"$\\\\beta = \", round(exp3_6b_acc_interaction_summary$coefficients[\"vgc_weight_Z\",][\"Estimate\"], digits=3),\n",
    "    \", \\\\text{S.E.} = \", round(exp3_6b_acc_interaction_summary$coefficients[\"vgc_weight_Z\",][\"Std. Error\"], digits=3),\n",
    "    \"$\", sep=\"\"\n",
    ")\n",
    "exp3_6b_acc_vgc_int_sum <- paste(\n",
    "    \"$\\\\beta = \", round(exp3_6b_acc_interaction_summary$coefficients[\"exp1:vgc_weight_Z\",][\"Estimate\"], digits=3),\n",
    "    \", \\\\text{S.E.} = \", round(exp3_6b_acc_interaction_summary$coefficients[\"exp1:vgc_weight_Z\",][\"Std. Error\"], digits=3),\n",
    "    \"$\", sep=\"\"\n",
    ")\n"
   ]
  },
  {
   "cell_type": "code",
   "execution_count": 24,
   "metadata": {},
   "outputs": [
    {
     "name": "stdout",
     "output_type": "stream",
     "text": [
      "exp3_6b_acc_interaction_test:  $\\chi^2(1) = 60.41, p = 7.7 \\times 10^{-15}$\n",
      "exp3_6b_acc_vgc_maineff_sum:  $\\beta = 0.42, \\text{S.E.} = 0.028$\n",
      "exp3_6b_acc_vgc_int_sum:  $\\beta = 0.215, \\text{S.E.} = 0.028$\n"
     ]
    }
   ],
   "source": [
    "with open(\"./inputs/exp3_6b_acc_interaction_test.tex\", \"w\") as f:\n",
    "    exp3_6b_acc_interaction_test_str = llr_test_string_summary(exp3_6b_acc_interaction_test.iloc[1])\n",
    "    f.write(exp3_6b_acc_interaction_test_str)\n",
    "    print(\"exp3_6b_acc_interaction_test: \", exp3_6b_acc_interaction_test_str)\n",
    "    \n",
    "with open(\"./inputs/exp3_6b_acc_vgc_maineff.tex\", \"w\") as f:\n",
    "    f.write(exp3_6b_acc_vgc_maineff_sum[0])\n",
    "    print(\"exp3_6b_acc_vgc_maineff_sum: \", exp3_6b_acc_vgc_maineff_sum[0])\n",
    "    \n",
    "with open(\"./inputs/exp3_6b_acc_vgc_interaction.tex\", \"w\") as f:\n",
    "    f.write(exp3_6b_acc_vgc_int_sum[0])\n",
    "    print(\"exp3_6b_acc_vgc_int_sum: \", exp3_6b_acc_vgc_int_sum[0])"
   ]
  },
  {
   "cell_type": "code",
   "execution_count": 25,
   "metadata": {},
   "outputs": [],
   "source": [
    "%%R -o exp3_6b_conf_interaction_test,exp3_6b_conf_vgc_maineff_sum,exp3_6b_conf_vgc_int_sum\n",
    "# confidence\n",
    "exp3_6b_conf_interaction <- lmer(\n",
    "    conf_N ~ (1 | sessionId) + (1 | grid) +\n",
    "        exp*vgc_weight_Z\n",
    "    ,\n",
    "    data=exp3_6b_mt,\n",
    "    control=lmerControl(optimizer=\"bobyqa\",optCtrl=list(maxfun=1e+07)),\n",
    "    REML=F\n",
    ")\n",
    "exp3_6b_conf_interaction_lesioned <- update(exp3_6b_conf_interaction, ~ . - exp:vgc_weight_Z)\n",
    "# test if removing vgc x exp interactoin is sig\n",
    "exp3_6b_conf_interaction_test <- lrtest(\n",
    "    exp3_6b_conf_interaction_lesioned,\n",
    "    exp3_6b_conf_interaction\n",
    ")\n",
    "\n",
    "# get resulting coefficients from model\n",
    "exp3_6b_conf_interaction_summary <- summary(exp3_6b_conf_interaction)\n",
    "exp3_6b_conf_vgc_maineff_sum <- paste(\n",
    "    \"$\\\\beta = \", round(exp3_6b_conf_interaction_summary$coefficients[\"vgc_weight_Z\",][\"Estimate\"], digits=3),\n",
    "    \", \\\\text{S.E.} = \", round(exp3_6b_conf_interaction_summary$coefficients[\"vgc_weight_Z\",][\"Std. Error\"], digits=3),\n",
    "    \"$\", sep=\"\"\n",
    ")\n",
    "exp3_6b_conf_vgc_int_sum <- paste(\n",
    "    \"$\\\\beta = \", round(exp3_6b_conf_interaction_summary$coefficients[\"exp1:vgc_weight_Z\",][\"Estimate\"], digits=3),\n",
    "    \", \\\\text{S.E.} = \", round(exp3_6b_conf_interaction_summary$coefficients[\"exp1:vgc_weight_Z\",][\"Std. Error\"], digits=3),\n",
    "    \"$\", sep=\"\"\n",
    ")"
   ]
  },
  {
   "cell_type": "code",
   "execution_count": 26,
   "metadata": {},
   "outputs": [
    {
     "name": "stdout",
     "output_type": "stream",
     "text": [
      "exp3_6b_conf_interaction_test:  $\\chi^2(1) = 59.39, p = 1.3 \\times 10^{-14}$\n",
      "exp3_6b_conf_vgc_maineff_sum:  $\\beta = 0.078, \\text{S.E.} = 0.003$\n",
      "exp3_6b_conf_vgc_int_sum:  $\\beta = 0.025, \\text{S.E.} = 0.003$\n"
     ]
    }
   ],
   "source": [
    "with open(\"./inputs/exp3_6b_conf_interaction_test.tex\", \"w\") as f:\n",
    "    exp3_6b_conf_interaction_test_str = llr_test_string_summary(exp3_6b_conf_interaction_test.iloc[1])\n",
    "    f.write(exp3_6b_conf_interaction_test_str)\n",
    "    print(\"exp3_6b_conf_interaction_test: \", exp3_6b_conf_interaction_test_str)\n",
    "    \n",
    "with open(\"./inputs/exp3_6b_conf_vgc_maineff.tex\", \"w\") as f:\n",
    "    f.write(exp3_6b_conf_vgc_maineff_sum[0])\n",
    "    print(\"exp3_6b_conf_vgc_maineff_sum: \", exp3_6b_conf_vgc_maineff_sum[0])\n",
    "    \n",
    "with open(\"./inputs/exp3_6b_conf_vgc_interaction.tex\", \"w\") as f:\n",
    "    f.write(exp3_6b_conf_vgc_int_sum[0])\n",
    "    print(\"exp3_6b_conf_vgc_int_sum: \", exp3_6b_conf_vgc_int_sum[0])"
   ]
  },
  {
   "cell_type": "code",
   "execution_count": 27,
   "metadata": {},
   "outputs": [],
   "source": [
    "%%R -o exp3_6b_attn_interaction_test,exp3_6b_attn_vgc_maineff_sum,exp3_6b_attn_vgc_int_sum\n",
    "\n",
    "# attention\n",
    "exp3_6b_attn_interaction <- lmer(\n",
    "    attention_N ~ (1 | sessionId) + (1 | grid) + \n",
    "        exp*vgc_weight_Z\n",
    "    ,\n",
    "    data=exp3_6b_at,\n",
    "    control=lmerControl(optimizer=\"bobyqa\",optCtrl=list(maxfun=1e+07)),\n",
    "    REML=F\n",
    ")\n",
    "exp3_6b_attn_interaction_lesioned <- update(exp3_6b_attn_interaction, ~ . - exp:vgc_weight_Z)\n",
    "# test if removing vgc x exp interactoin is sig\n",
    "exp3_6b_attn_interaction_test <- lrtest(\n",
    "    exp3_6b_attn_interaction_lesioned,\n",
    "    exp3_6b_attn_interaction\n",
    ")\n",
    "\n",
    "# get resulting coefficients from model\n",
    "exp3_6b_attn_interaction_summary <- summary(exp3_6b_attn_interaction)\n",
    "exp3_6b_attn_vgc_maineff_sum <- paste(\n",
    "    \"$\\\\beta = \", round(exp3_6b_attn_interaction_summary$coefficients[\"vgc_weight_Z\",][\"Estimate\"], digits=3),\n",
    "    \", \\\\text{S.E.} = \", round(exp3_6b_attn_interaction_summary$coefficients[\"vgc_weight_Z\",][\"Std. Error\"], digits=3),\n",
    "    \"$\", sep=\"\"\n",
    ")\n",
    "exp3_6b_attn_vgc_int_sum <- paste(\n",
    "    \"$\\\\beta = \", round(exp3_6b_attn_interaction_summary$coefficients[\"exp1:vgc_weight_Z\",][\"Estimate\"], digits=3),\n",
    "    \", \\\\text{S.E.} = \", round(exp3_6b_attn_interaction_summary$coefficients[\"exp1:vgc_weight_Z\",][\"Std. Error\"], digits=3),\n",
    "    \"$\", sep=\"\"\n",
    ")"
   ]
  },
  {
   "cell_type": "code",
   "execution_count": 28,
   "metadata": {},
   "outputs": [
    {
     "name": "stdout",
     "output_type": "stream",
     "text": [
      "exp3_6b_attn_interaction_test:  $\\chi^2(1) = 97.10, p = 6.6 \\times 10^{-23}$\n",
      "exp3_6b_attn_vgc_maineff_sum:  $\\beta = 0.139, \\text{S.E.} = 0.004$\n",
      "exp3_6b_attn_vgc_int_sum:  $\\beta = 0.037, \\text{S.E.} = 0.004$\n"
     ]
    }
   ],
   "source": [
    "with open(\"./inputs/exp3_6b_attn_interaction_test.tex\", \"w\") as f:\n",
    "    exp3_6b_attn_interaction_test_str = llr_test_string_summary(exp3_6b_attn_interaction_test.iloc[1])\n",
    "    f.write(exp3_6b_attn_interaction_test_str)\n",
    "    print(\"exp3_6b_attn_interaction_test: \", exp3_6b_attn_interaction_test_str)\n",
    "    \n",
    "with open(\"./inputs/exp3_6b_attn_vgc_maineff.tex\", \"w\") as f:\n",
    "    f.write(exp3_6b_attn_vgc_maineff_sum[0])\n",
    "    print(\"exp3_6b_attn_vgc_maineff_sum: \", exp3_6b_attn_vgc_maineff_sum[0])\n",
    "    \n",
    "with open(\"./inputs/exp3_6b_attn_vgc_interaction.tex\", \"w\") as f:\n",
    "    f.write(exp3_6b_attn_vgc_int_sum[0])\n",
    "    print(\"exp3_6b_attn_vgc_int_sum: \", exp3_6b_attn_vgc_int_sum[0])"
   ]
  },
  {
   "cell_type": "markdown",
   "metadata": {
    "tags": []
   },
   "source": [
    "# Experiment 5a/5b/6a/6b - Regressing onto both controls"
   ]
  },
  {
   "cell_type": "code",
   "execution_count": 29,
   "metadata": {},
   "outputs": [],
   "source": [
    "exp1_at = get_exp1_at()\n",
    "exp2_at = get_exp2_at()\n",
    "exp3_at, exp3_mt = get_exp3_at__exp3_mt()\n",
    "exp5a_at = get_exp5a_at()\n",
    "exp5b_at, exp5b_mt = get_exp5b_at__exp5b_mt()\n",
    "exp6a_at = get_exp6a_at()\n",
    "exp6b_at, exp6b_mt = get_exp6b_at__exp6b_mt()"
   ]
  },
  {
   "cell_type": "code",
   "execution_count": 30,
   "metadata": {},
   "outputs": [],
   "source": [
    "grid_0_11_at_controls = exp5a_at.groupby(['grid', 'obstacle'])['attention_N'].mean().reset_index(name='perceptual_attn').merge(\n",
    "        exp6a_at.groupby(['grid', 'obstacle'])['attention_N'].mean().reset_index(name='navigation_attn'),\n",
    "        on=['grid', 'obstacle']\n",
    "    )\n",
    "exp1_control_at = exp1_at.merge(\n",
    "    grid_0_11_at_controls,\n",
    "    on=['grid', 'obstacle']\n",
    ")\n",
    "exp2_control_at = exp2_at.merge(\n",
    "    grid_0_11_at_controls,\n",
    "    on=['grid', 'obstacle']\n",
    ")\n",
    "grid_12_15_at_controls = exp5b_at.groupby(['grid', 'obstacle'])['attention_N'].mean().reset_index(name='perceptual_attn').merge(\n",
    "    exp6b_at.groupby(['grid', 'obstacle'])['attention_N'].mean().reset_index(name='navigation_attn'),\n",
    "    on=['grid', 'obstacle']\n",
    ")\n",
    "grid_12_15_mt_controls = exp5b_mt.groupby(['grid', 'obstacle'])[['conf_N', 'correct']].mean().rename(\n",
    "    columns={'conf_N': 'perceptual_conf', 'correct': 'perceptual_correct'}\n",
    ").merge(\n",
    "    exp6b_mt.groupby(['grid', 'obstacle'])[['conf_N', 'correct']].mean().rename(\n",
    "        columns={'conf_N': 'navigation_conf', 'correct': 'navigation_correct'}\n",
    "    ),\n",
    "    on=['grid', 'obstacle']\n",
    ")\n",
    "exp3_control_at = exp3_at.\\\n",
    "    merge(grid_12_15_at_controls, on=['grid', 'obstacle']).\\\n",
    "    merge(grid_12_15_mt_controls, on=['grid', 'obstacle'])\n",
    "exp3_control_mt = exp3_mt.\\\n",
    "    merge(grid_12_15_mt_controls, on=['grid', 'obstacle']).\\\n",
    "    merge(grid_12_15_at_controls, on=['grid', 'obstacle'])"
   ]
  },
  {
   "cell_type": "markdown",
   "metadata": {},
   "source": [
    "### Exp 1"
   ]
  },
  {
   "cell_type": "code",
   "execution_count": 31,
   "metadata": {},
   "outputs": [],
   "source": [
    "%%R -i exp1_control_at -o exp1_control_vgc_test,exp1_control_vgc_maineff_sum\n",
    "exp1_control_vgc <- lmer(\n",
    "    attention_N ~ (1 | sessionId) + (1 | grid)\n",
    "        + perceptual_attn + navigation_attn \n",
    "        + vgc_weight_Z,\n",
    "    data=exp1_control_at,\n",
    "    control=lmerControl(optimizer=\"bobyqa\",optCtrl=list(maxfun=1e+07)),\n",
    "    REML=F\n",
    ")\n",
    "exp1_control_vgc_lesioned <- update(exp1_control_vgc, ~ . - vgc_weight_Z)\n",
    "# test if lesion is significant\n",
    "exp1_control_vgc_test <- lrtest(\n",
    "    exp1_control_vgc_lesioned,\n",
    "    exp1_control_vgc\n",
    ")\n",
    "\n",
    "# get beta on vgc weight\n",
    "exp1_control_vgc_summary <- summary(exp1_control_vgc)\n",
    "exp1_control_vgc_maineff_sum <- paste(\n",
    "    \"$\\\\beta = \", round(exp1_control_vgc_summary$coefficients[\"vgc_weight_Z\",][\"Estimate\"], digits=3),\n",
    "    \", \\\\text{S.E.} = \", round(exp1_control_vgc_summary$coefficients[\"vgc_weight_Z\",][\"Std. Error\"], digits=3),\n",
    "    \"$\", sep=\"\"\n",
    ")"
   ]
  },
  {
   "cell_type": "code",
   "execution_count": 32,
   "metadata": {},
   "outputs": [
    {
     "name": "stdout",
     "output_type": "stream",
     "text": [
      "exp1_control_vgc_test_str:  $\\chi^2(1) = 145.39, p = 1.8 \\times 10^{-33}$\n",
      "exp1_control_vgc_maineff_sum:  $\\beta = 0.033, \\text{S.E.} = 0.003$\n"
     ]
    }
   ],
   "source": [
    "with open(\"./inputs/exp1_control_vgc_test.tex\", \"w\") as f:\n",
    "    exp1_control_vgc_test_str = llr_test_string_summary(exp1_control_vgc_test.iloc[1])\n",
    "    f.write(exp1_control_vgc_test_str)\n",
    "    print(\"exp1_control_vgc_test_str: \", exp1_control_vgc_test_str)\n",
    "    \n",
    "with open(\"./inputs/exp1_control_vgc_maineff.tex\", \"w\") as f:\n",
    "    f.write(exp1_control_vgc_maineff_sum[0])\n",
    "    print(\"exp1_control_vgc_maineff_sum: \", exp1_control_vgc_maineff_sum[0])"
   ]
  },
  {
   "cell_type": "markdown",
   "metadata": {},
   "source": [
    "### Exp 2"
   ]
  },
  {
   "cell_type": "code",
   "execution_count": 33,
   "metadata": {},
   "outputs": [],
   "source": [
    "%%R -i exp2_control_at -o exp2_all_control_vgc_test,exp2_all_control_vgc_maineff_sum\n",
    "exp2_all_control_vgc <- lmer(\n",
    "    attention_N ~ (1 | sessionId) + (1 | grid)\n",
    "        + perceptual_attn + navigation_attn \n",
    "        + vgc_weight_Z,\n",
    "    data=exp2_control_at,\n",
    "    control=lmerControl(optimizer=\"bobyqa\",optCtrl=list(maxfun=1e+07)),\n",
    "    REML=F\n",
    ")\n",
    "exp2_all_control_vgc_lesioned <- update(exp2_all_control_vgc, ~ . - vgc_weight_Z)\n",
    "# test if lesion is significant\n",
    "exp2_all_control_vgc_test <- lrtest(\n",
    "    exp2_all_control_vgc_lesioned,\n",
    "    exp2_all_control_vgc\n",
    ")\n",
    "\n",
    "# get beta on vgc weight\n",
    "exp2_all_control_vgc_summary <- summary(exp2_all_control_vgc)\n",
    "exp2_all_control_vgc_maineff_sum <- paste(\n",
    "    \"$\\\\beta = \", round(exp2_all_control_vgc_summary$coefficients[\"vgc_weight_Z\",][\"Estimate\"], digits=3),\n",
    "    \", \\\\text{S.E.} = \", round(exp2_all_control_vgc_summary$coefficients[\"vgc_weight_Z\",][\"Std. Error\"], digits=3),\n",
    "    \"$\", sep=\"\"\n",
    ")"
   ]
  },
  {
   "cell_type": "code",
   "execution_count": 34,
   "metadata": {},
   "outputs": [
    {
     "name": "stdout",
     "output_type": "stream",
     "text": [
      "exp2_all_control_vgc_test_str:  $\\chi^2(1) = 12.20, p = 0.00048$\n",
      "exp2_all_control_vgc_maineff_sum:  $\\beta = 0.011, \\text{S.E.} = 0.003$\n"
     ]
    }
   ],
   "source": [
    "with open(\"./inputs/exp2_all_control_vgc_test.tex\", \"w\") as f:\n",
    "    exp2_all_control_vgc_test_str = llr_test_string_summary(exp2_all_control_vgc_test.iloc[1])\n",
    "    f.write(exp2_all_control_vgc_test_str)\n",
    "    print(\"exp2_all_control_vgc_test_str: \", exp2_all_control_vgc_test_str)\n",
    "    \n",
    "with open(\"./inputs/exp2_all_control_vgc_maineff.tex\", \"w\") as f:\n",
    "    f.write(exp2_all_control_vgc_maineff_sum[0])\n",
    "    print(\"exp2_all_control_vgc_maineff_sum: \", exp2_all_control_vgc_maineff_sum[0])"
   ]
  },
  {
   "cell_type": "markdown",
   "metadata": {},
   "source": [
    "### Exp 3"
   ]
  },
  {
   "cell_type": "code",
   "execution_count": 35,
   "metadata": {},
   "outputs": [
    {
     "name": "stdout",
     "output_type": "stream",
     "text": [
      "[1] \"Accuracy\"\n"
     ]
    }
   ],
   "source": [
    "%%R -i exp3_control_mt -o exp3_acc_control_vgc_test,exp3_acc_control_vgc_maineff_sum\n",
    "# accuracy\n",
    "exp3_acc_control <- glmer(\n",
    "    correct ~ (1 | sessionId)\n",
    "        + perceptual_correct + navigation_correct\n",
    "        + vgc_weight_Z,\n",
    "    data=exp3_control_mt,\n",
    "    control=glmerControl(optimizer=\"bobyqa\",optCtrl=list(maxfun=1e+07)),\n",
    "    family=binomial\n",
    ")\n",
    "exp3_acc_control_lesioned <- update(exp3_acc_control, ~ . - vgc_weight_Z)\n",
    "print(\"Accuracy\")\n",
    "# test if lesion is significant\n",
    "exp3_acc_control_vgc_test <- lrtest(\n",
    "    exp3_acc_control_lesioned,\n",
    "    exp3_acc_control\n",
    ")\n",
    "# get beta on vgc weight\n",
    "exp3_acc_control_summary <- summary(exp3_acc_control)\n",
    "exp3_acc_control_vgc_maineff_sum <- paste(\n",
    "    \"$\\\\beta = \", round(exp3_acc_control_summary$coefficients[\"vgc_weight_Z\",][\"Estimate\"], digits=3),\n",
    "    \", \\\\text{S.E.} = \", round(exp3_acc_control_summary$coefficients[\"vgc_weight_Z\",][\"Std. Error\"], digits=3),\n",
    "    \"$\", sep=\"\"\n",
    ")\n",
    "\n"
   ]
  },
  {
   "cell_type": "code",
   "execution_count": 36,
   "metadata": {},
   "outputs": [
    {
     "name": "stdout",
     "output_type": "stream",
     "text": [
      "exp3_acc_control_vgc_test_str:  $\\chi^2(1) = 106.36, p = 6.2 \\times 10^{-25}$\n",
      "exp3_acc_control_vgc_maineff_sum:  $\\beta = 0.58, \\text{S.E.} = 0.058$\n"
     ]
    }
   ],
   "source": [
    "with open(\"./inputs/exp3_acc_control_vgc_test.tex\", \"w\") as f:\n",
    "    exp3_acc_control_vgc_test_str = llr_test_string_summary(exp3_acc_control_vgc_test.iloc[1])\n",
    "    f.write(exp3_acc_control_vgc_test_str)\n",
    "    print(\"exp3_acc_control_vgc_test_str: \", exp3_acc_control_vgc_test_str)\n",
    "    \n",
    "with open(\"./inputs/exp3_acc_control_vgc_maineff.tex\", \"w\") as f:\n",
    "    f.write(exp3_acc_control_vgc_maineff_sum[0])\n",
    "    print(\"exp3_acc_control_vgc_maineff_sum: \", exp3_acc_control_vgc_maineff_sum[0])"
   ]
  },
  {
   "cell_type": "code",
   "execution_count": 37,
   "metadata": {},
   "outputs": [],
   "source": [
    "%%R -i exp3_control_mt -o exp3_conf_control_vgc_test,exp3_conf_control_vgc_maineff_sum\n",
    "# confidence\n",
    "exp3_conf_control <- lmer(\n",
    "    conf_N ~ (1 | sessionId) + (1 | grid)\n",
    "        + perceptual_conf + navigation_conf \n",
    "        + vgc_weight_Z,\n",
    "    data=exp3_control_mt,\n",
    "    control=lmerControl(optimizer=\"bobyqa\",optCtrl=list(maxfun=1e+07)),\n",
    "    REML=F\n",
    ")\n",
    "exp3_conf_control_lesioned <- update(exp3_conf_control, ~ . - vgc_weight_Z)\n",
    "# test if lesion is significant\n",
    "exp3_conf_control_vgc_test <- lrtest(\n",
    "    exp3_conf_control_lesioned,\n",
    "    exp3_conf_control\n",
    ")\n",
    "# get beta on vgc weight\n",
    "exp3_conf_control_summary <- summary(exp3_conf_control)\n",
    "exp3_conf_control_vgc_maineff_sum <- paste(\n",
    "    \"$\\\\beta = \", round(exp3_conf_control_summary$coefficients[\"vgc_weight_Z\",][\"Estimate\"], digits=3),\n",
    "    \", \\\\text{S.E.} = \", round(exp3_conf_control_summary$coefficients[\"vgc_weight_Z\",][\"Std. Error\"], digits=3),\n",
    "    \"$\", sep=\"\"\n",
    ")"
   ]
  },
  {
   "cell_type": "code",
   "execution_count": 38,
   "metadata": {},
   "outputs": [
    {
     "name": "stdout",
     "output_type": "stream",
     "text": [
      "exp3_conf_control_vgc_test_str:  $\\chi^2(1) = 18.56, p = 1.6 \\times 10^{-5}$\n",
      "exp3_conf_control_vgc_maineff_sum:  $\\beta = 0.039, \\text{S.E.} = 0.009$\n"
     ]
    }
   ],
   "source": [
    "with open(\"./inputs/exp3_conf_control_vgc_test.tex\", \"w\") as f:\n",
    "    exp3_conf_control_vgc_test_str = llr_test_string_summary(exp3_conf_control_vgc_test.iloc[1])\n",
    "    f.write(exp3_conf_control_vgc_test_str)\n",
    "    print(\"exp3_conf_control_vgc_test_str: \", exp3_conf_control_vgc_test_str)\n",
    "    \n",
    "with open(\"./inputs/exp3_conf_control_vgc_maineff.tex\", \"w\") as f:\n",
    "    f.write(exp3_conf_control_vgc_maineff_sum[0])\n",
    "    print(\"exp3_conf_control_vgc_maineff_sum: \", exp3_conf_control_vgc_maineff_sum[0])"
   ]
  },
  {
   "cell_type": "code",
   "execution_count": 39,
   "metadata": {},
   "outputs": [],
   "source": [
    "%%R -i exp3_control_at -o exp3_attn_control_vgc_test,exp3_attn_control_vgc_maineff_sum\n",
    "# awareness\n",
    "exp3_attn_control <- lmer(\n",
    "    attention_N ~ (1 | sessionId)\n",
    "        + perceptual_attn + navigation_attn\n",
    "        + vgc_weight_Z,\n",
    "    data=exp3_control_at,\n",
    "    control=lmerControl(optimizer=\"bobyqa\",optCtrl=list(maxfun=1e+07)),\n",
    "    REML=F\n",
    ")\n",
    "exp3_attn_control_lesioned <- update(exp3_attn_control, ~ . - vgc_weight_Z)\n",
    "# test if lesion is significant\n",
    "exp3_attn_control_vgc_test <- lrtest(\n",
    "    exp3_attn_control_lesioned,\n",
    "    exp3_attn_control\n",
    ")\n",
    "# get beta on vgc weight\n",
    "exp3_attn_control_summary <- summary(exp3_attn_control)\n",
    "exp3_attn_control_vgc_maineff_sum <- paste(\n",
    "    \"$\\\\beta = \", round(exp3_attn_control_summary$coefficients[\"vgc_weight_Z\",][\"Estimate\"], digits=3),\n",
    "    \", \\\\text{S.E.} = \", round(exp3_attn_control_summary$coefficients[\"vgc_weight_Z\",][\"Std. Error\"], digits=3),\n",
    "    \"$\", sep=\"\"\n",
    ")"
   ]
  },
  {
   "cell_type": "code",
   "execution_count": 40,
   "metadata": {},
   "outputs": [
    {
     "name": "stdout",
     "output_type": "stream",
     "text": [
      "exp3_attn_control_vgc_test_str:  $\\chi^2(1) = 55.34, p = 1.0 \\times 10^{-13}$\n",
      "exp3_attn_control_vgc_maineff_sum:  $\\beta = 0.054, \\text{S.E.} = 0.007$\n"
     ]
    }
   ],
   "source": [
    "with open(\"./inputs/exp3_attn_control_vgc_test.tex\", \"w\") as f:\n",
    "    exp3_attn_control_vgc_test_str = llr_test_string_summary(exp3_attn_control_vgc_test.iloc[1])\n",
    "    f.write(exp3_attn_control_vgc_test_str)\n",
    "    print(\"exp3_attn_control_vgc_test_str: \", exp3_attn_control_vgc_test_str)\n",
    "    \n",
    "with open(\"./inputs/exp3_attn_control_vgc_maineff.tex\", \"w\") as f:\n",
    "    f.write(exp3_attn_control_vgc_maineff_sum[0])\n",
    "    print(\"exp3_attn_control_vgc_maineff_sum: \", exp3_attn_control_vgc_maineff_sum[0])"
   ]
  }
 ],
 "metadata": {
  "kernelspec": {
   "display_name": "Python 3",
   "language": "python",
   "name": "python3"
  },
  "language_info": {
   "codemirror_mode": {
    "name": "ipython",
    "version": 3
   },
   "file_extension": ".py",
   "mimetype": "text/x-python",
   "name": "python",
   "nbconvert_exporter": "python",
   "pygments_lexer": "ipython3",
   "version": "3.7.4"
  }
 },
 "nbformat": 4,
 "nbformat_minor": 4
}
